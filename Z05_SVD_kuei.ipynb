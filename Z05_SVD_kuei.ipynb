{
 "cells": [
  {
   "cell_type": "markdown",
   "metadata": {},
   "source": [
    "# Assignment 6:  Topic Modeling with Latent Semantic Analysis"
   ]
  },
  {
   "cell_type": "markdown",
   "metadata": {},
   "source": [
    "Latent Semantic Analysis (LSA) is a method for finding latent similarities between documents treated as a bag of words by using a low rank approximation. It is used for document classification, clustering and retrieval. For example, LSA can be used to search for prior art given a new patent application. In this homework, we will implement a small library for simple latent semantic analysis as a practical example of the application of SVD. The ideas are very similar to PCA. SVD is also used in recommender systems in an similar fashion (for an SVD-based recommender system library, see [Surpise](http://surpriselib.com). \n",
    "\n",
    "We will implement a toy example of LSA to get familiar with the ideas. If you want to use LSA or similar methods for statistical language analysis, the most efficient Python libraries are probably [gensim](https://radimrehurek.com/gensim/) and [spaCy](https://spacy.io) - these also provide an online algorithm - i.e. the training information can be continuously updated. Other useful functions for processing natural language can be found in the [Natural Language Toolkit](http://www.nltk.org/)."
   ]
  },
  {
   "cell_type": "markdown",
   "metadata": {},
   "source": [
    "**Note**: The SVD from scipy.linalg performs a full decomposition, which is inefficient since we only need to decompose until we get the first k singluar values. If the SVD from `scipy.linalg` is too slow, please use the `svds` function in `scipy.sparse.linalg` or the `sparsesvd` function from the [sparsesvd](https://pypi.python.org/pypi/sparsesvd/) package to perform SVD instead.  You can install in the usual way with \n",
    "```\n",
    "!pip install sparsesvd\n",
    "```\n",
    "\n",
    "Then import the following\n",
    "```python\n",
    "from sparsesvd import sparsesvd \n",
    "from scipy.sparse import csc_matrix \n",
    "```\n",
    "\n",
    "and use as follows\n",
    "```python\n",
    "sparsesvd(csc_matrix(M), k=10)\n",
    "```"
   ]
  },
  {
   "cell_type": "code",
   "execution_count": 34,
   "metadata": {},
   "outputs": [],
   "source": [
    "### basic tools\n",
    "import numpy as np\n",
    "import pandas as pd\n",
    "import scipy.linalg as la\n",
    "import scipy.stats  as stats\n",
    "from scipy.cluster.hierarchy import dendrogram, linkage, fcluster\n",
    "\n",
    "import itertools as it\n",
    "from string import punctuation\n",
    "from collections import Counter\n",
    "\n",
    "import toolz as tz\n",
    "import toolz.curried as c\n",
    "\n",
    "### import data\n",
    "import pickle\n",
    "\n",
    "### sparce matrix\n",
    "from sparsesvd    import sparsesvd \n",
    "from scipy.sparse import csc_matrix \n",
    "\n",
    "### print and plott\n",
    "from pprint import pprint\n",
    "import matplotlib.pyplot as plt\n",
    "\n",
    "### func testing\n",
    "import doctest"
   ]
  },
  {
   "cell_type": "markdown",
   "metadata": {},
   "source": [
    "## Table of Contents <a name=\"toc\"></a>\n",
    "- [Question 01](#Q01)\n",
    "- [Question 02](#Q02)\n",
    "- [Question 03](#Q03)\n",
    "- [Question 04](#Q04)"
   ]
  },
  {
   "cell_type": "markdown",
   "metadata": {},
   "source": [
    "-----\n",
    "\n",
    "# Question 01 <a name=\"Q01\"></a>\n",
    "[Back to top](#toc)"
   ]
  },
  {
   "cell_type": "markdown",
   "metadata": {},
   "source": [
    "**Exercise 1 (20 points)**.  Calculating pairwise distance matrices.\n",
    "\n",
    "Suppose we want to construct a distance matrix between the rows of a matrix. For example, given the matrix \n",
    "\n",
    "```python\n",
    "M = np.array([[1,2,3],[4,5,6]])\n",
    "```\n",
    "\n",
    "the distance matrix using Euclidean distance as the measure would be\n",
    "```python\n",
    "[[ 0.000  1.414  2.828]\n",
    " [ 1.414  0.000  1.414]\n",
    " [ 2.828  1.414  0.000]] \n",
    "```\n",
    "if $M$ was a collection of column vectors.\n",
    "\n",
    "Write a function to calculate the pairwise-distance matrix given the matrix $M$ and some arbitrary distance function. Your functions should have the following signature:\n",
    "```\n",
    "def func_name(M, distance_func):\n",
    "    pass\n",
    "```\n",
    "\n",
    "0. [Write a distance function for the Euclidean, squared Euclidean and cosine measures.](#Q10)\n",
    "1. [Write the function using looping for M as a collection of row vectors.](#Q11)\n",
    "2. [Write the function using looping for M as a collection of column vectors.](#Q12)\n",
    "3. [Write the function using broadcasting for M as a collection of row vectors.](#Q13)\n",
    "4. [Write the function using broadcasting for M as a collection of column vectors.](#Q14)\n",
    "\n",
    "For 3 and 4, try to avoid using transposition (but if you get stuck, there will be no penalty for using transposition). Check that all four functions give the same result when applied to the given matrix $M$."
   ]
  },
  {
   "cell_type": "markdown",
   "metadata": {},
   "source": [
    "-----"
   ]
  },
  {
   "cell_type": "markdown",
   "metadata": {},
   "source": [
    "## Q10 Write a distance function for the Euclidean, squared Euclidean and cosine measures. <a name = \"Q10\"></a>\n",
    "[Back to Question 01](#Q01)"
   ]
  },
  {
   "cell_type": "code",
   "execution_count": 2,
   "metadata": {},
   "outputs": [],
   "source": [
    "def dist_euclidean_sq(x, y = None, axis = 0):\n",
    "    \"\"\"calculate squared Euclidean distance of numpy vector x and y; if only one vector\n",
    "    \n",
    "    >>> x = np.array([3, 4])\n",
    "    >>> y = np.array([0, 0])\n",
    "    >>> z = np.array([-2, -8])\n",
    "    >>> dist_euclidean_sq(x)\n",
    "    25.0\n",
    "    >>> dist_euclidean_sq(x, y)\n",
    "    25.0\n",
    "    >>> dist_euclidean_sq(y, x)\n",
    "    25.0\n",
    "    >>> dist_euclidean_sq(x, z)\n",
    "    169.0\n",
    "    \"\"\"\n",
    "    ### coerce the type to float\n",
    "    x = x.copy().astype(np.float)\n",
    "    \n",
    "    ### calculate squared euclidean distance\n",
    "    if y is None:\n",
    "        # one vector only\n",
    "        dist = np.sum(np.square(x), axis = axis)     \n",
    "    else:\n",
    "        # input two vectors\n",
    "        dist = np.sum(np.square(x - y), axis = axis) \n",
    "        \n",
    "    return dist\n",
    "\n",
    "def dist_euclidean(x, y = None, axis = 0):\n",
    "    \"\"\"calculate Euclidean distance of numpy vector x and y\n",
    "    \n",
    "    >>> x = np.array([3, 4])\n",
    "    >>> y = np.array([0, 0])\n",
    "    >>> z = np.array([-2, -8])\n",
    "    >>> dist_euclidean(x)\n",
    "    5.0\n",
    "    >>> dist_euclidean(x, y)\n",
    "    5.0\n",
    "    >>> dist_euclidean(y, x)\n",
    "    5.0\n",
    "    >>> dist_euclidean(x, z)\n",
    "    13.0\n",
    "    \"\"\"\n",
    "    dist_sq = dist_euclidean_sq(x, y, axis = axis) #, axis = axis)\n",
    "    return(dist_sq**0.5)\n",
    "\n",
    "def dist_cosine(x, y = None, axis = 0):\n",
    "    \"\"\"calculate cosince distance of input vectors\n",
    "    >>> x = np.array([1, 1])\n",
    "    >>> y = np.array([1, 0]) # x axis\n",
    "    \n",
    "    >>> d = dist_cosine(x, y)\n",
    "    >>> np.allclose(d, 1 - np.cos(np.pi / 4)) # expect: 45 degree\n",
    "    True\n",
    "    \n",
    "    >>> d = dist_cosine(y, x)                 # check d(x, y) = d(y, x)\n",
    "    >>> np.allclose(d, 1 - np.cos(np.pi / 4)) # expect: 45 degree\n",
    "    True\n",
    "    \n",
    "    >>> x = np.array([1, 3**0.5])\n",
    "    >>> y = np.array([1, 0]) # x axis\n",
    "    >>> d = dist_cosine(x, y)\n",
    "    >>> np.allclose(d, 1 - np.cos(np.pi / 3)) # expect: 60 degree\n",
    "    True\n",
    "    \n",
    "    >>> x = np.array([1, 3**0.5])\n",
    "    >>> y = np.array([0, 1]) # y axis\n",
    "    >>> d = dist_cosine(x, y)\n",
    "    >>> np.allclose(d, 1 - np.cos(np.pi / 6)) # expect: 30 degree\n",
    "    True\n",
    "    \"\"\"\n",
    "    D = x * y\n",
    "    D = np.sum(D, axis = axis) \n",
    "    \n",
    "    norm1 = np.sqrt(np.sum(x * x, axis = axis))\n",
    "    norm2 = np.sqrt(np.sum(y * y, axis = axis))\n",
    "\n",
    "    dist = 1 - D / norm1 / norm2\n",
    "    return dist\n",
    "\n",
    "### test each function; if passed, no output from the run_docstring_examples\n",
    "doctest.run_docstring_examples(dist_euclidean_sq, globals())\n",
    "doctest.run_docstring_examples(dist_euclidean,    globals())\n",
    "doctest.run_docstring_examples(dist_cosine,       globals())"
   ]
  },
  {
   "cell_type": "markdown",
   "metadata": {},
   "source": [
    "## Q11 Write the function using looping for M as a collection of row vectors. <a name = \"Q11\"></a>\n",
    "[Back to Question 01](#Q01)"
   ]
  },
  {
   "cell_type": "code",
   "execution_count": 3,
   "metadata": {},
   "outputs": [],
   "source": [
    "def my_pdist_row_loop(M, distance_func):\n",
    "    \"\"\"calculate the pairwise-distance matrix given the matrix M and some arbitrary distance function\n",
    "    \n",
    "    Notes:\n",
    "    - M is a collection of row vectors\n",
    "    - using looping instead of broadcasting\n",
    "    \n",
    "    >>> M = np.array([[1,2,3],[4,5,6]])\n",
    "    >>> dist = my_pdist_row_loop(M.T, dist_euclidean) # results\n",
    "    >>> dist_exp = np.array([                         # expected\n",
    "    ... [ 0.000,  1.414,  2.828],\n",
    "    ... [ 1.414,  0.000,  1.414],\n",
    "    ... [ 2.828,  1.414,  0.000]])\n",
    "    \n",
    "    >>> dist_round = np.round(dist, decimals = 3)\n",
    "    >>> np.allclose(dist_round, dist_exp)\n",
    "    True\n",
    "    \n",
    "    >>> dist = my_pdist_row_loop(M.T, dist_cosine) # results\n",
    "    >>> dist_exp = np.array([\n",
    "    ... [0.        , 0.00916983, 0.02381294],\n",
    "    ... [0.00916983, 0.        , 0.00345424],\n",
    "    ... [0.02381294, 0.00345424, 0.        ]])\n",
    "    \n",
    "    >>> dist_round = np.round(dist, decimals = 8)\n",
    "    >>> np.allclose(dist_round, dist_exp)\n",
    "    True\n",
    "    \"\"\"\n",
    "    ### initialization\n",
    "    nrow, ncol = M.shape\n",
    "    idx        = np.arange(nrow)\n",
    "    mat_dist   = np.zeros((nrow, nrow))\n",
    "    \n",
    "    ### loop through row pairs\n",
    "    for idx01, idx02 in it.combinations(idx, 2):\n",
    "        dist = distance_func(M[idx01], M[idx02])\n",
    "        mat_dist[idx01, idx02] = dist\n",
    "        mat_dist[idx02, idx01] = dist\n",
    "        \n",
    "    return mat_dist\n",
    "\n",
    "### test each function; if passed, no output from the run_docstring_examples\n",
    "doctest.run_docstring_examples(my_pdist_row_loop, globals())"
   ]
  },
  {
   "cell_type": "markdown",
   "metadata": {},
   "source": [
    "## Q12 Write the function using looping for M as a collection of column vectors. <a name = \"Q12\"></a>\n",
    "[Back to Question 01](#Q01)"
   ]
  },
  {
   "cell_type": "code",
   "execution_count": 4,
   "metadata": {},
   "outputs": [],
   "source": [
    "def my_pdist_col_loop(M, distance_func):\n",
    "    \"\"\"calculate the pairwise-distance matrix given the matrix M and some arbitrary distance function\n",
    "    \n",
    "    Notes:\n",
    "    - M is a collection of \"column\" vectors\n",
    "    - using looping instead of broadcasting\n",
    "    \n",
    "    >>> M = np.array([[1,2,3],[4,5,6]])\n",
    "    >>> dist = my_pdist_col_loop(M, dist_euclidean) # results\n",
    "    >>> dist_exp = np.array([                         # expected\n",
    "    ... [ 0.000,  1.414,  2.828],\n",
    "    ... [ 1.414,  0.000,  1.414],\n",
    "    ... [ 2.828,  1.414,  0.000]])\n",
    "    \n",
    "    >>> dist_round = np.round(dist, decimals = 3)\n",
    "    >>> np.allclose(dist_round, dist_exp)\n",
    "    True\n",
    "    \"\"\"\n",
    "    return my_pdist_row_loop(M.T, distance_func)\n",
    "\n",
    "### test each function; if passed, no output from the run_docstring_examples\n",
    "doctest.run_docstring_examples(my_pdist_col_loop, globals())"
   ]
  },
  {
   "cell_type": "markdown",
   "metadata": {},
   "source": [
    "## Q13 Write the function using broadcasting for M as a collection of row vectors.. <a name = \"Q13\"></a>\n",
    "[Back to Question 01](#Q01)\n",
    "\n",
    "For 3 and 4, try to avoid using transposition (but if you get stuck, there will be no penalty for using transposition). Check that all four functions give the same result when applied to the given matrix $M$."
   ]
  },
  {
   "cell_type": "code",
   "execution_count": 5,
   "metadata": {},
   "outputs": [],
   "source": [
    "def my_pdist_row_bcast(M, distance_func):\n",
    "    \"\"\"calculate the pairwise-distance matrix given the matrix M and some arbitrary distance function\n",
    "    \n",
    "    Notes:\n",
    "    - M is a collection of \"column\" vectors\n",
    "    - using broadcasting instead of looping\n",
    "    \n",
    "    >>> M = np.array([[1,2,3],[4,5,6]])                # collection of col vectors\n",
    "    >>> dist = my_pdist_row_bcast(M.T, dist_euclidean) # results\n",
    "    >>> dist_exp = np.array([                          # expected\n",
    "    ... [ 0.000,  1.414,  2.828],\n",
    "    ... [ 1.414,  0.000,  1.414],\n",
    "    ... [ 2.828,  1.414,  0.000]])\n",
    "    \n",
    "    >>> dist_round = np.round(dist, decimals = 3)\n",
    "    >>> np.allclose(dist_round, dist_exp)\n",
    "    True\n",
    "    \n",
    "    >>> dist = my_pdist_row_bcast(M.T, dist_cosine) # results\n",
    "    >>> dist_exp = np.array([\n",
    "    ... [0.        , 0.00916983, 0.02381294],\n",
    "    ... [0.00916983, 0.        , 0.00345424],\n",
    "    ... [0.02381294, 0.00345424, 0.        ]])\n",
    "    \n",
    "    >>> dist_round = np.round(dist, decimals = 8)\n",
    "    >>> np.allclose(dist_round, dist_exp)\n",
    "    True\n",
    "    \"\"\"\n",
    "    X = np.expand_dims(M, axis = 1)\n",
    "    Y = np.expand_dims(M, axis = 0)\n",
    "\n",
    "    return distance_func(X, Y, axis = 2)\n",
    "    \n",
    "\n",
    "### test each function; if passed, no output from the run_docstring_examples\n",
    "doctest.run_docstring_examples(my_pdist_row_bcast, globals())"
   ]
  },
  {
   "cell_type": "markdown",
   "metadata": {},
   "source": [
    "## Q14 Write the function using broadcasting for M as a collection of column vectors. <a name = \"Q14\"></a>\n",
    "[Back to Question 01](#Q01)\n",
    "\n",
    "For 3 and 4, try to avoid using transposition (but if you get stuck, there will be no penalty for using transposition). Check that all four functions give the same result when applied to the given matrix $M$."
   ]
  },
  {
   "cell_type": "code",
   "execution_count": 6,
   "metadata": {},
   "outputs": [],
   "source": [
    "def my_pdist_col_bcast(M, distance_func):\n",
    "    \"\"\"calculate the pairwise-distance matrix given the matrix M and some arbitrary distance function\n",
    "    \n",
    "    Notes:\n",
    "    - M is a collection of \"column\" vectors\n",
    "    - using broadcasting instead of looping\n",
    "    \n",
    "    >>> M = np.array([[1,2,3],[4,5,6]])                # collection of col vectors\n",
    "    >>> dist = my_pdist_col_bcast(M, dist_euclidean) # results\n",
    "    >>> dist_exp = np.array([                          # expected\n",
    "    ... [ 0.000,  1.414,  2.828],\n",
    "    ... [ 1.414,  0.000,  1.414],\n",
    "    ... [ 2.828,  1.414,  0.000]])\n",
    "    \n",
    "    >>> dist_round = np.round(dist, decimals = 3)\n",
    "    >>> np.allclose(dist_round, dist_exp)\n",
    "    True\n",
    "    \"\"\"\n",
    "    return my_pdist_row_bcast(M.T, distance_func)\n",
    "    \n",
    "\n",
    "### test each function; if passed, no output from the run_docstring_examples\n",
    "doctest.run_docstring_examples(my_pdist_col_bcast, globals())"
   ]
  },
  {
   "cell_type": "markdown",
   "metadata": {},
   "source": [
    "-----\n",
    "\n",
    "# Question 02 <a name=\"Q02\"></a>\n",
    "[Back to top](#toc)"
   ]
  },
  {
   "cell_type": "markdown",
   "metadata": {},
   "source": [
    "**Exercise 2 (20 points)**. Write 3 functions to calculate the term frequency (tf), the inverse document frequency (idf) and the product (tf-idf). Each function should take a single argument `docs`, which is a dictionary of (key=identifier, value=document text) pairs, and return an appropriately sized array. Convert '-' to ' ' (space), remove punctuation, convert text to lowercase and split on whitespace to generate a collection of terms from the document text.\n",
    "\n",
    "- tf = the number of occurrences of term $i$ in document $j$\n",
    "- idf = $\\log \\frac{n}{1 + \\text{df}_i}$ where $n$ is the total number of documents and $\\text{df}_i$ is the number of documents in which term $i$ occurs.\n",
    "\n",
    "Print the table of tf-idf values for the following document collection\n",
    "\n",
    "```\n",
    "s1 = \"The quick brown fox\"\n",
    "s2 = \"Brown fox jumps over the jumps jumps jumps\"\n",
    "s3 = \"The the the lazy dog elephant.\"\n",
    "s4 = \"The the the the the dog peacock lion tiger elephant\"\n",
    "\n",
    "docs = {'s1': s1, 's2': s2, 's3': s3, 's4': s4}\n",
    "```"
   ]
  },
  {
   "cell_type": "markdown",
   "metadata": {},
   "source": [
    "-----"
   ]
  },
  {
   "cell_type": "markdown",
   "metadata": {},
   "source": [
    "Write 3 functions to calculate the term frequency (tf), the inverse document frequency (idf) and the product (tf-idf)."
   ]
  },
  {
   "cell_type": "code",
   "execution_count": 7,
   "metadata": {},
   "outputs": [],
   "source": [
    "def str2gen(string):\n",
    "    \"\"\"convert a string to a word generator\n",
    "    \n",
    "    Convert '-' to ' ' (space), remove punctuation, convert text to lowercase and \n",
    "    split on whitespace to generate a collection of terms from the document text\n",
    "    \n",
    "    >>> string = \"\"\n",
    "    >>> list(str2gen(string))                       \n",
    "    []\n",
    "    \n",
    "    >>> string = \"The quick brown fox\"\n",
    "    >>> list(str2gen(string))\n",
    "    ['the', 'quick', 'brown', 'fox']\n",
    "    \n",
    "    >>> string = \"This is stRing example....wow!!!\"\n",
    "    >>> list(str2gen(string))\n",
    "    ['this', 'is', 'string', 'example', 'wow']\n",
    "    \"\"\"\n",
    "    # translate table to convert punctuation into whitespace \n",
    "    # punctuation: !\"#$%&\\'()*+,-./:;<=>?@[\\\\]^_`{|}~\n",
    "    transtab = str.maketrans(punctuation, \" \" * len(punctuation))\n",
    "    \n",
    "    # process input string\n",
    "    str_lst = tz.pipe(\n",
    "        string,\n",
    "        lambda x: x.lower(),             # convert text to lowercase\n",
    "        lambda x: x.translate(transtab), # Convert punctuation to whitespace\n",
    "        lambda x: x.split(\" \"),          # split on whitespace\n",
    "        c.filter(None)                   # filter empty string\n",
    "    ) # end pipe\n",
    "    \n",
    "    return(str_lst)\n",
    "    \n",
    "\n",
    "def get_tf(docs):\n",
    "    \"\"\"calculate the term frequency (tf) from docs, which is \n",
    "    a dictionary of (key=identifier, value=document text) pairs, \n",
    "    and return an appropriately sized array\n",
    "    \n",
    "    >>> docs = {'x': \"A A A\", 'y': \"A B C\"}\n",
    "    >>> doc_tf = get_tf(docs)\n",
    "    \n",
    "    >>> list(doc_tf.index) # row: terms\n",
    "    ['a', 'b', 'c']\n",
    "    \n",
    "    >>> list(doc_tf.columns.values) # col: key of docs (docs identifiers)\n",
    "    ['x', 'y']\n",
    "    \"\"\"\n",
    "    ### counters\n",
    "    tf_count = dict()\n",
    "    for k, v in docs.items():\n",
    "        str_lst = list(str2gen(v))\n",
    "        tf_count[k] = Counter(str_lst)\n",
    "    \n",
    "    ### get all terms (words) and docs identifiers\n",
    "    # get all terms in docs\n",
    "    terms  = tz.pipe(\n",
    "        tf_count,                       # input dict of (str, Counter)\n",
    "        lambda x: x.values(),           # collection of Counters\n",
    "        c.map(lambda x: x.elements()),  # get elements of each Counter\n",
    "        it.chain.from_iterable          # merge collection of elements together\n",
    "    ) # end pipe\n",
    "    terms = list(set(terms))            # remove duplicates\n",
    "    \n",
    "    # get docs identifiers\n",
    "    doc_id = list(tf_count.keys())\n",
    "    \n",
    "    ### initialize pandas data frame\n",
    "    ### row: term, col: doc id \n",
    "    tf_df = pd.DataFrame(0, index = terms, columns = doc_id)\n",
    "    \n",
    "    ### convert Counters to matrix / dataframe\n",
    "    for idx, cnt in tf_count.items():\n",
    "        for term, val in cnt.items():\n",
    "            tf_df.loc[term, idx] = val\n",
    "    \n",
    "    ### arrange and return\n",
    "    tf_df.sort_index(axis = 0, inplace = True)\n",
    "    tf_df.sort_index(axis = 1, inplace = True)\n",
    "    \n",
    "    return tf_df\n",
    "    \n",
    "\n",
    "def get_idf(docs):\n",
    "    \"\"\"idf = log (n / (1 + df_i)) where \n",
    "    - n    is the total number of documents and \n",
    "    - df_i is the number of documents in which term i occurs.\n",
    "    \"\"\"\n",
    "    ### get tf matrix\n",
    "    tf_df = get_tf(docs)\n",
    "    \n",
    "    ### nrow = number of terms\n",
    "    ### ncol = number of documents\n",
    "    nrow, ncol = tf_df.shape\n",
    "    \n",
    "    ### calculate \n",
    "    df = tf_df.apply(np.sum, axis = 1)\n",
    "    \n",
    "    # log (n / (1 + df_i)\n",
    "    return np.log(ncol / (1 + df))\n",
    "\n",
    "def get_tfidf(docs):\n",
    "    \"\"\"get product of tf and idf\"\"\"\n",
    "    ### get tf and idf\n",
    "    doc_tf  = get_tf(docs)\n",
    "    doc_idf = get_idf(docs)\n",
    "    \n",
    "    ### information of docs\n",
    "    doc_id    = list(doc_tf.columns.values)\n",
    "    doc_terms = list(doc_tf.index)\n",
    "    \n",
    "    ### calculate the retrieve weight matrix (tf-idf)\n",
    "    doc_tfidf = np.array(doc_tf) * np.array(doc_idf).reshape(-1, 1)\n",
    "    \n",
    "    return (doc_id, doc_terms, doc_tfidf)\n",
    "\n",
    "### test each function; if passed, no output from the run_docstring_examples\n",
    "doctest.run_docstring_examples(str2gen, globals())\n",
    "doctest.run_docstring_examples(get_tf,  globals())"
   ]
  },
  {
   "cell_type": "markdown",
   "metadata": {},
   "source": [
    "Create documents"
   ]
  },
  {
   "cell_type": "code",
   "execution_count": 8,
   "metadata": {},
   "outputs": [],
   "source": [
    "s1 = \"The quick brown fox\"\n",
    "s2 = \"Brown fox jumps over the jumps jumps jumps\"\n",
    "s3 = \"The the the lazy dog elephant.\"\n",
    "s4 = \"The the the the the dog peacock lion tiger elephant\"\n",
    "\n",
    "docs = {'s1': s1, 's2': s2, 's3': s3, 's4': s4}"
   ]
  },
  {
   "cell_type": "markdown",
   "metadata": {},
   "source": [
    "get tf, idf, and product(tf-idf)"
   ]
  },
  {
   "cell_type": "code",
   "execution_count": 9,
   "metadata": {},
   "outputs": [],
   "source": [
    "doc_tf  = get_tf(docs)\n",
    "doc_idf = get_idf(docs)\n",
    "doc_id, doc_terms, doc_tfidf = get_tfidf(docs)"
   ]
  },
  {
   "cell_type": "code",
   "execution_count": 10,
   "metadata": {},
   "outputs": [
    {
     "name": "stdout",
     "output_type": "stream",
     "text": [
      "          s1  s2  s3  s4\n",
      "brown      1   1   0   0\n",
      "dog        0   0   1   1\n",
      "elephant   0   0   1   1\n",
      "fox        1   1   0   0\n",
      "jumps      0   4   0   0\n",
      "lazy       0   0   1   0\n",
      "lion       0   0   0   1\n",
      "over       0   1   0   0\n",
      "peacock    0   0   0   1\n",
      "quick      1   0   0   0\n",
      "the        1   1   3   5\n",
      "tiger      0   0   0   1\n"
     ]
    }
   ],
   "source": [
    "print(doc_tf)"
   ]
  },
  {
   "cell_type": "code",
   "execution_count": 11,
   "metadata": {},
   "outputs": [
    {
     "name": "stdout",
     "output_type": "stream",
     "text": [
      "brown       0.287682\n",
      "dog         0.287682\n",
      "elephant    0.287682\n",
      "fox         0.287682\n",
      "jumps      -0.223144\n",
      "lazy        0.693147\n",
      "lion        0.693147\n",
      "over        0.693147\n",
      "peacock     0.693147\n",
      "quick       0.693147\n",
      "the        -1.011601\n",
      "tiger       0.693147\n",
      "dtype: float64\n"
     ]
    }
   ],
   "source": [
    "print(doc_idf)"
   ]
  },
  {
   "cell_type": "code",
   "execution_count": 12,
   "metadata": {},
   "outputs": [
    {
     "name": "stdout",
     "output_type": "stream",
     "text": [
      "[[ 0.28768207  0.28768207  0.          0.        ]\n",
      " [ 0.          0.          0.28768207  0.28768207]\n",
      " [ 0.          0.          0.28768207  0.28768207]\n",
      " [ 0.28768207  0.28768207  0.          0.        ]\n",
      " [-0.         -0.89257421 -0.         -0.        ]\n",
      " [ 0.          0.          0.69314718  0.        ]\n",
      " [ 0.          0.          0.          0.69314718]\n",
      " [ 0.          0.69314718  0.          0.        ]\n",
      " [ 0.          0.          0.          0.69314718]\n",
      " [ 0.69314718  0.          0.          0.        ]\n",
      " [-1.01160091 -1.01160091 -3.03480274 -5.05800456]\n",
      " [ 0.          0.          0.          0.69314718]]\n"
     ]
    }
   ],
   "source": [
    "print(doc_tfidf)"
   ]
  },
  {
   "cell_type": "markdown",
   "metadata": {},
   "source": [
    "-----\n",
    "\n",
    "# Question 03 <a name=\"Q03\"></a>\n",
    "[Back to top](#toc)"
   ]
  },
  {
   "cell_type": "markdown",
   "metadata": {},
   "source": [
    "**Exercise 3 (20 points)**. \n",
    "\n",
    "1. Write a function that takes a matrix $M$ and an integer $k$ as arguments, and reconstructs a reduced matrix using only the $k$ largest singular values. Use the `scipy.linagl.svd` function to perform the decomposition. This is the least squares approximation to the matrix $M$ in $k$ dimensions.\n",
    "\n",
    "2. Apply the function you just wrote to the following term-frequency matrix for a set of $9$ documents using $k=2$ and print the reconstructed matrix $M'$.\n",
    "```\n",
    "M = np.array([[1, 0, 0, 1, 0, 0, 0, 0, 0],\n",
    "       [1, 0, 1, 0, 0, 0, 0, 0, 0],\n",
    "       [1, 1, 0, 0, 0, 0, 0, 0, 0],\n",
    "       [0, 1, 1, 0, 1, 0, 0, 0, 0],\n",
    "       [0, 1, 1, 2, 0, 0, 0, 0, 0],\n",
    "       [0, 1, 0, 0, 1, 0, 0, 0, 0],\n",
    "       [0, 1, 0, 0, 1, 0, 0, 0, 0],\n",
    "       [0, 0, 1, 1, 0, 0, 0, 0, 0],\n",
    "       [0, 1, 0, 0, 0, 0, 0, 0, 1],\n",
    "       [0, 0, 0, 0, 0, 1, 1, 1, 0],\n",
    "       [0, 0, 0, 0, 0, 0, 1, 1, 1],\n",
    "       [0, 0, 0, 0, 0, 0, 0, 1, 1]])\n",
    "```\n",
    "\n",
    "3. Calculate the pairwise correlation matrix for the original matrix M and the reconstructed matrix using $k=2$ singular values (you may use [scipy.stats.spearmanr](http://docs.scipy.org/doc/scipy/reference/generated/scipy.stats.spearmanr.html) to do the calculations). Consider the fist 5 sets of documents as one group $G1$ and the last 4 as another group $G2$ (i.e. first 5 and last 4 columns). What is the average within group correlation for $G1$, $G2$ and the average cross-group correlation for G1-G2 using either $M$ or $M'$. (Do not include self-correlation in the within-group calculations.)."
   ]
  },
  {
   "cell_type": "markdown",
   "metadata": {},
   "source": [
    "1. [Write function that perform SVD](#Q31)\n",
    "2. [Apply the function to the term-frequency matrix](#Q32)\n",
    "3. [Calculate pairwise correlation matrix for the original matrix and the reconstructed matrix](#Q33)"
   ]
  },
  {
   "cell_type": "markdown",
   "metadata": {},
   "source": [
    "-----"
   ]
  },
  {
   "cell_type": "markdown",
   "metadata": {},
   "source": [
    "## <a name = \"Q31\"></a> Q31. Write a function that takes a matrix $M$ and an integer $k$ as arguments, and reconstructs a reduced matrix using only the $k$ largest singular values. Use the `scipy.linagl.svd` function to perform the decomposition. This is the least squares approximation to the matrix $M$ in $k$ dimensions. \n",
    "[Back to Question 03](#Q03)"
   ]
  },
  {
   "cell_type": "markdown",
   "metadata": {},
   "source": [
    "implement function"
   ]
  },
  {
   "cell_type": "code",
   "execution_count": 13,
   "metadata": {},
   "outputs": [],
   "source": [
    "def reconstruct_matrix(M, k):\n",
    "    \"\"\"reconstructs a reduced matrix using only the k largest singular values\"\"\"\n",
    "    #u, s, vt = la.svd(M)\n",
    "    sM = csc_matrix(M)\n",
    "    ut, s, vt = sparsesvd(sM, k = k)\n",
    "    \n",
    "    #u[:, :k] @ np.diag(s)[:k, :k] @ vt[:k, :]\n",
    "    return ut.T @ np.diag(s) @ vt "
   ]
  },
  {
   "cell_type": "markdown",
   "metadata": {},
   "source": [
    "## <a name = \"Q32\"></a> Q32. Apply the function you just wrote to the following term-frequency matrix for a set of $9$ documents using $k=2$ and print the reconstructed matrix $M'$. \n",
    "[Back to Question 03](#Q03)"
   ]
  },
  {
   "cell_type": "code",
   "execution_count": 14,
   "metadata": {},
   "outputs": [
    {
     "name": "stdout",
     "output_type": "stream",
     "text": [
      "(12, 9)\n"
     ]
    }
   ],
   "source": [
    "M = np.array([\n",
    "    [1, 0, 0, 1, 0, 0, 0, 0, 0],\n",
    "    [1, 0, 1, 0, 0, 0, 0, 0, 0],\n",
    "    [1, 1, 0, 0, 0, 0, 0, 0, 0],\n",
    "    [0, 1, 1, 0, 1, 0, 0, 0, 0],\n",
    "    [0, 1, 1, 2, 0, 0, 0, 0, 0],\n",
    "    [0, 1, 0, 0, 1, 0, 0, 0, 0],\n",
    "    [0, 1, 0, 0, 1, 0, 0, 0, 0],\n",
    "    [0, 0, 1, 1, 0, 0, 0, 0, 0],\n",
    "    [0, 1, 0, 0, 0, 0, 0, 0, 1],\n",
    "    [0, 0, 0, 0, 0, 1, 1, 1, 0],\n",
    "    [0, 0, 0, 0, 0, 0, 1, 1, 1],\n",
    "    [0, 0, 0, 0, 0, 0, 0, 1, 1]])\n",
    "\n",
    "print(M.shape)"
   ]
  },
  {
   "cell_type": "code",
   "execution_count": 15,
   "metadata": {},
   "outputs": [
    {
     "name": "stdout",
     "output_type": "stream",
     "text": [
      "(12, 9)\n",
      "[[ 0.16205797  0.40049828  0.37895454  0.46756626  0.17595367 -0.05265495\n",
      "  -0.11514284 -0.15910198 -0.09183827]\n",
      " [ 0.14058529  0.36980077  0.32899603  0.40042722  0.16497247 -0.03281545\n",
      "  -0.07056857 -0.09676827 -0.04298073]\n",
      " [ 0.15244948  0.50500444  0.35793658  0.41010678  0.23623173  0.02421652\n",
      "   0.05978051  0.0868573   0.12396632]\n",
      " [ 0.25804933  0.84112343  0.60571995  0.69735717  0.39231795  0.03311801\n",
      "   0.08324491  0.12177239  0.18737973]\n",
      " [ 0.44878975  1.23436483  1.0508615   1.26579559  0.55633139 -0.07378998\n",
      "  -0.15469383 -0.20959816 -0.04887954]\n",
      " [ 0.15955428  0.5816819   0.37521897  0.41689768  0.27654052  0.05590374\n",
      "   0.1322185   0.18891146  0.21690761]\n",
      " [ 0.15955428  0.5816819   0.37521897  0.41689768  0.27654052  0.05590374\n",
      "   0.1322185   0.18891146  0.21690761]\n",
      " [ 0.21846278  0.54958058  0.51096047  0.62805802  0.24253607 -0.06541098\n",
      "  -0.14252146 -0.19661186 -0.1079133 ]\n",
      " [ 0.09690639  0.53206438  0.22991365  0.21175363  0.26652513  0.13675618\n",
      "   0.31462078  0.44444058  0.42496948]\n",
      " [-0.06125388  0.23210821 -0.1388984  -0.26564589  0.14492549  0.24042105\n",
      "   0.54614717  0.7673742   0.66370933]\n",
      " [-0.06467702  0.33528115 -0.14564055 -0.30140607  0.20275641  0.30572612\n",
      "   0.69489337  0.97661121  0.84874969]\n",
      " [-0.04308204  0.25390566 -0.09666695 -0.20785821  0.1519134   0.22122703\n",
      "   0.50294488  0.70691163  0.6155044 ]]\n"
     ]
    }
   ],
   "source": [
    "M_re2 = reconstruct_matrix(M, 2)\n",
    "\n",
    "print(M_re2.shape)\n",
    "print(M_re2)"
   ]
  },
  {
   "cell_type": "markdown",
   "metadata": {},
   "source": [
    "## <a name = \"Q33\"></a> Q33. Calculate the pairwise correlation matrix for the original matrix M and the reconstructed matrix using $k=2$ singular values (you may use [scipy.stats.spearmanr](http://docs.scipy.org/doc/scipy/reference/generated/scipy.stats.spearmanr.html) to do the calculations). Consider the fist 5 sets of documents as one group $G1$ and the last 4 as another group $G2$ (i.e. first 5 and last 4 columns). What is the average within group correlation for $G1$, $G2$ and the average cross-group correlation for G1-G2 using either $M$ or $M'$. (Do not include self-correlation in the within-group calculations.).\n",
    "[Back to Question 03](#Q03)"
   ]
  },
  {
   "cell_type": "markdown",
   "metadata": {},
   "source": [
    "### using original matrix M"
   ]
  },
  {
   "cell_type": "markdown",
   "metadata": {},
   "source": [
    "get the group correlation within G1 (`rho_g1`), within G2  (`rho_g2`), and cross-group correlation (`rho_g12`)"
   ]
  },
  {
   "cell_type": "code",
   "execution_count": 16,
   "metadata": {},
   "outputs": [
    {
     "name": "stdout",
     "output_type": "stream",
     "text": [
      "(5, 5)\n",
      "(4, 4)\n",
      "(5, 4)\n"
     ]
    }
   ],
   "source": [
    "### calculate pairwise corelation\n",
    "rho, pval = stats.spearmanr(M)\n",
    "\n",
    "### get within / cross correlation\n",
    "rho_g1  = rho[:5, :5]\n",
    "rho_g2  = rho[5:, 5:]\n",
    "rho_g12 = rho[:5, 5:]\n",
    "\n",
    "print(rho_g1.shape)\n",
    "print(rho_g2.shape)\n",
    "print(rho_g12.shape)"
   ]
  },
  {
   "cell_type": "markdown",
   "metadata": {},
   "source": [
    "average within / cross group correlation"
   ]
  },
  {
   "cell_type": "code",
   "execution_count": 17,
   "metadata": {},
   "outputs": [
    {
     "name": "stdout",
     "output_type": "stream",
     "text": [
      "within G1   0.010577686629862793\n",
      "within G2   0.43511771481980627\n",
      "cross G1-G2 -0.3504857009661986\n"
     ]
    }
   ],
   "source": [
    "idx = np.triu_indices(5, 1)\n",
    "print(\"within G1  \", np.mean(rho_g1[idx]))\n",
    "\n",
    "idx = np.triu_indices(4, 1)\n",
    "print(\"within G2  \", np.mean(rho_g2[idx]))\n",
    "\n",
    "print(\"cross G1-G2\", np.mean(rho_g12[idx]))"
   ]
  },
  {
   "cell_type": "markdown",
   "metadata": {},
   "source": [
    "### using reconstructed matrix with k = 2"
   ]
  },
  {
   "cell_type": "markdown",
   "metadata": {},
   "source": [
    "get the group correlation within G1 (`rho_g1`), within G2  (`rho_g2`), and cross-group correlation (`rho_g12`)"
   ]
  },
  {
   "cell_type": "code",
   "execution_count": 18,
   "metadata": {},
   "outputs": [
    {
     "name": "stdout",
     "output_type": "stream",
     "text": [
      "(5, 5)\n",
      "(4, 4)\n",
      "(5, 4)\n"
     ]
    }
   ],
   "source": [
    "### calculate pairwise corelation\n",
    "rho, pval = stats.spearmanr(M_re2)\n",
    "\n",
    "### get within / cross correlation\n",
    "rho_g1  = rho[:5, :5]\n",
    "rho_g2  = rho[5:, 5:]\n",
    "rho_g12 = rho[:5, 5:]\n",
    "\n",
    "print(rho_g1.shape)\n",
    "print(rho_g2.shape)\n",
    "print(rho_g12.shape)"
   ]
  },
  {
   "cell_type": "markdown",
   "metadata": {},
   "source": [
    "average within / cross group correlation"
   ]
  },
  {
   "cell_type": "code",
   "execution_count": 19,
   "metadata": {},
   "outputs": [
    {
     "name": "stdout",
     "output_type": "stream",
     "text": [
      "within G1   0.8666666666666668\n",
      "within G2   0.9894736842105263\n",
      "cross G1-G2 -0.7204678362573099\n"
     ]
    }
   ],
   "source": [
    "idx = np.triu_indices(5, 1)\n",
    "print(\"within G1  \", np.mean(rho_g1[idx]))\n",
    "\n",
    "idx = np.triu_indices(4, 1)\n",
    "print(\"within G2  \", np.mean(rho_g2[idx]))\n",
    "\n",
    "print(\"cross G1-G2\", np.mean(rho_g12[idx]))"
   ]
  },
  {
   "cell_type": "markdown",
   "metadata": {},
   "source": [
    "-----\n",
    "\n",
    "# Question 04 <a name=\"Q04\"></a>\n",
    "[Back to top](#toc)"
   ]
  },
  {
   "cell_type": "markdown",
   "metadata": {},
   "source": [
    "**Exercise 4 (40 points)**. Clustering with LSA\n",
    "\n",
    "1. Begin by loading a PubMed database of selected article titles using 'pickle'. With the following:\n",
    "```import pickle\n",
    "docs = pickle.load(open('data/pubmed.pic', 'rb'))```\n",
    "\n",
    "    Create a tf-idf matrix for every term that appears at least once in any of the documents. What is the shape of the tf-idf matrix? \n",
    "\n",
    "2. Perform SVD on the tf-idf matrix to obtain $U \\Sigma V^T$ (often written as $T \\Sigma D^T$ in this context with $T$ representing the terms and $D$ representing the documents). If we set all but the top $k$ singular values to 0, the reconstructed matrix is essentially $U_k \\Sigma_k V_k^T$, where $U_k$ is $m \\times k$, $\\Sigma_k$ is $k \\times k$ and $V_k^T$ is $k \\times n$. Terms in this reduced space are represented by $U_k \\Sigma_k$ and documents by $\\Sigma_k V^T_k$. Reconstruct the matrix using the first $k=10$ singular values.\n",
    "\n",
    "3. Use agglomerative hierarchical clustering with complete linkage to plot a dendrogram and comment on the likely number of  document clusters with $k = 100$. Use the dendrogram function from [SciPy ](https://docs.scipy.org/doc/scipy-0.15.1/reference/generated/scipy.cluster.hierarchy.dendrogram.html).\n",
    "\n",
    "4. Determine how similar each of the original documents is to the new document `data/mystery.txt`. Since $A = U \\Sigma V^T$, we also have $V = A^T U S^{-1}$ using orthogonality and the rule for transposing matrix products. This suggests that in order to map the new document to the same concept space, first find the tf-idf vector $v$ for the new document - this must contain all (and only) the terms present in the existing tf-idx matrix. Then the query vector $q$ is given by $v^T U_k \\Sigma_k^{-1}$. Find the 10 documents most similar to the new document and the 10 most dissimilar. "
   ]
  },
  {
   "cell_type": "markdown",
   "metadata": {},
   "source": [
    "0. [Download pubmed documents](#Q40)\n",
    "1. [Begin by loading a PubMed database of selected article titles using 'pickle'](#Q41)\n",
    "2. [Perform SVD on the tf-idf matrix](#Q42)\n",
    "3. [Use agglomerative hierarchical clustering with complete linkage](#Q43)\n",
    "4. [Determine how similar each of the original documents is to the new document](#Q44)"
   ]
  },
  {
   "cell_type": "markdown",
   "metadata": {},
   "source": [
    "## <a name = \"Q40\"></a> Q40 Download pubmed documents\n",
    "[Back to Question 04](#Q04)"
   ]
  },
  {
   "cell_type": "markdown",
   "metadata": {},
   "source": [
    "**Notes on the Pubmed articles**\n",
    "\n",
    "These were downloaded with the following script.\n",
    "\n",
    "```python\n",
    "from Bio import Entrez, Medline\n",
    "Entrez.email = \"YOUR EMAIL HERE\"\n",
    "import pickle\n",
    "\n",
    "try:\n",
    "    docs = pickle.load(open('data/pubmed.pic', 'rb'))\n",
    "except Exception as e:\n",
    "    print(e)\n",
    "\n",
    "    docs = {}\n",
    "    for term in ['plasmodium', 'diabetes', 'asthma', 'cytometry']:\n",
    "        handle = Entrez.esearch(db=\"pubmed\", term=term, retmax=50)\n",
    "        result = Entrez.read(handle)\n",
    "        handle.close()\n",
    "        idlist = result[\"IdList\"]\n",
    "        handle2 = Entrez.efetch(db=\"pubmed\", id=idlist, rettype=\"medline\", retmode=\"text\")\n",
    "        result2 = Medline.parse(handle2)\n",
    "        for record in result2:\n",
    "            title = record.get(\"TI\", None)\n",
    "            abstract = record.get(\"AB\", None)\n",
    "            if title is None or abstract is None:\n",
    "                continue\n",
    "            docs[title] = '\\n'.join([title, abstract])\n",
    "            print title\n",
    "        handle2.close()\n",
    "    pickle.dump(docs, open('data/pubmed.pic', 'wb'))\n",
    "docs.values()\n",
    "```"
   ]
  },
  {
   "cell_type": "markdown",
   "metadata": {},
   "source": [
    "**createa script to download data**"
   ]
  },
  {
   "cell_type": "code",
   "execution_count": 20,
   "metadata": {},
   "outputs": [],
   "source": [
    "%%bash\n",
    "cat > download_pubmed.py << EOF\n",
    "from Bio import Entrez, Medline\n",
    "Entrez.email = \"kuei.yueh.ko@duke.edu\"\n",
    "import pickle\n",
    "\n",
    "try:\n",
    "    docs = pickle.load(open('./data/pubmed.pic', 'rb'))\n",
    "except Exception as e:\n",
    "    print(e)\n",
    "\n",
    "    docs = {}\n",
    "    for term in ['plasmodium', 'diabetes', 'asthma', 'cytometry']:\n",
    "        handle = Entrez.esearch(db=\"pubmed\", term=term, retmax=50)\n",
    "        result = Entrez.read(handle)\n",
    "        handle.close()\n",
    "        idlist = result[\"IdList\"]\n",
    "        handle2 = Entrez.efetch(db=\"pubmed\", id=idlist, rettype=\"medline\", retmode=\"text\")\n",
    "        result2 = Medline.parse(handle2)\n",
    "        for record in result2:\n",
    "            title = record.get(\"TI\", None)\n",
    "            abstract = record.get(\"AB\", None)\n",
    "            if title is None or abstract is None:\n",
    "                continue\n",
    "            docs[title] = '\\n'.join([title, abstract])\n",
    "            print(title)\n",
    "        handle2.close()\n",
    "    pickle.dump(docs, open('./data/pubmed.pic', 'wb'))\n",
    "docs.values()\n",
    "EOF"
   ]
  },
  {
   "cell_type": "code",
   "execution_count": 21,
   "metadata": {},
   "outputs": [
    {
     "name": "stdout",
     "output_type": "stream",
     "text": [
      "from Bio import Entrez, Medline\r\n",
      "Entrez.email = \"kuei.yueh.ko@duke.edu\"\r\n",
      "import pickle\r\n",
      "\r\n",
      "try:\r\n",
      "    docs = pickle.load(open('./data/pubmed.pic', 'rb'))\r\n",
      "except Exception as e:\r\n",
      "    print(e)\r\n",
      "\r\n",
      "    docs = {}\r\n",
      "    for term in ['plasmodium', 'diabetes', 'asthma', 'cytometry']:\r\n",
      "        handle = Entrez.esearch(db=\"pubmed\", term=term, retmax=50)\r\n",
      "        result = Entrez.read(handle)\r\n",
      "        handle.close()\r\n",
      "        idlist = result[\"IdList\"]\r\n",
      "        handle2 = Entrez.efetch(db=\"pubmed\", id=idlist, rettype=\"medline\", retmode=\"text\")\r\n",
      "        result2 = Medline.parse(handle2)\r\n",
      "        for record in result2:\r\n",
      "            title = record.get(\"TI\", None)\r\n",
      "            abstract = record.get(\"AB\", None)\r\n",
      "            if title is None or abstract is None:\r\n",
      "                continue\r\n",
      "            docs[title] = '\\n'.join([title, abstract])\r\n",
      "            print(title)\r\n",
      "        handle2.close()\r\n",
      "    pickle.dump(docs, open('./data/pubmed.pic', 'wb'))\r\n",
      "docs.values()\r\n"
     ]
    }
   ],
   "source": [
    "!cat download_pubmed.py"
   ]
  },
  {
   "cell_type": "markdown",
   "metadata": {},
   "source": [
    "**Download pubmed documents to folder ./data/pubmed.pic**"
   ]
  },
  {
   "cell_type": "code",
   "execution_count": 22,
   "metadata": {},
   "outputs": [],
   "source": [
    "%%bash\n",
    "python download_pubmed.py"
   ]
  },
  {
   "cell_type": "markdown",
   "metadata": {},
   "source": [
    "## <a name = \"Q41\"></a> Q41. Begin by loading a PubMed database of selected article titles using 'pickle'. With the following:\n",
    "```\n",
    "import pickle\n",
    "docs = pickle.load(open('data/pubmed.pic', 'rb'))\n",
    "```\n",
    "Create a tf-idf matrix for every term that appears at least once in any of the documents. What is the shape of the tf-idf matrix? \n",
    "\n",
    "[Back to Question 04](#Q04)"
   ]
  },
  {
   "cell_type": "markdown",
   "metadata": {},
   "source": [
    "load PubMed database of selected article titles"
   ]
  },
  {
   "cell_type": "code",
   "execution_count": 23,
   "metadata": {},
   "outputs": [
    {
     "name": "stdout",
     "output_type": "stream",
     "text": [
      "[('[Effects of Exosomes Derived from miR-486 Gene Modified Umbilical Cord '\n",
      "  'Mesenchymal Stem Cells on Biological Characteristics of Rat '\n",
      "  'Cardiomyocytes].',\n",
      "  '[Effects of Exosomes Derived from miR-486 Gene Modified Umbilical Cord '\n",
      "  'Mesenchymal Stem Cells on Biological Characteristics of Rat '\n",
      "  'Cardiomyocytes].\\n'\n",
      "  'OBJECTIVE: To investigate the effects of exosomes derived from miR-486 '\n",
      "  'gene-modified umbilical cord mesenchymal stem cells (UC-MSCs) on biological '\n",
      "  'characteristics of rat cardiomyocytes. METHODS: The human umbilical cord '\n",
      "  'mesenchymal stem cells (UC-MSCs) were isolated and cultured, then the '\n",
      "  'immunophenotypes and ability of osteogenic and adipogenic differentiation '\n",
      "  'of UC-MSC were identified. The structure of exosomes was observed by '\n",
      "  'electron microscopy; the effect of exosomes on cell migration was detected '\n",
      "  'by transwell cell migration test; the miR-486 high expression of UC-MSC was '\n",
      "  'mediated by using recombinant adenovirus vector, moreover the UC-MSC with '\n",
      "  'high expression of miR-486 were identified by qPT-PCR. The exosomes were '\n",
      "  'isolated from cell culture supernatant by ultracentrifugation and the '\n",
      "  'miR-486 expression level of UC MSC exosomes was detected by qRT-PCR. The '\n",
      "  'effect of exosomes on the proliferation of cardiomyocytes was evaluated by '\n",
      "  'Dye670 marking. The H2O2-induced cardiomyocyte apoptosis model was '\n",
      "  'established, and the effect of exosomes on apoptosis of cardiomyocytes was '\n",
      "  'detected by flow cytometry with Annexin V/PI double staining. RESULTS: The '\n",
      "  'exosomes derived from UC-MSCs had the diameter between 40-100 nm and double '\n",
      "  'membrane stracture. The recombinant adenovirus could effectively mediate '\n",
      "  'the expression of miR-486 in UC-MSC, and the expression level of miR-486 in '\n",
      "  'exosomes of miR-486-modified UC-MSC significantly increased. The exosomes '\n",
      "  'with miR-486 high expression possessed the pro-proliferation and '\n",
      "  'pro-migration effects on cardiomyocytes, moreover the preventive effect on '\n",
      "  'apoptosis of cardiomyocytes. CONCLUSION: The exosomes derived from UC-MSC '\n",
      "  'and accompamied by high expression of miR-486 can promote the proliferation '\n",
      "  'and migration of cardio myocytes, yet can prevent the apoptosis of '\n",
      "  'cardiomyocytes.'),\n",
      " ('Epidemiology and Risk Factors of Asthma-COPD Overlap in Low- and '\n",
      "  'Middle-Income Countries.',\n",
      "  'Epidemiology and Risk Factors of Asthma-COPD Overlap in Low- and '\n",
      "  'Middle-Income Countries.\\n'\n",
      "  'BACKGROUND: Asthma-COPD Overlap (ACO) represents the confluence of '\n",
      "  'bronchial airway hyper reactivity and chronic airflow limitation and has '\n",
      "  'been described as leading to worse lung function and quality of life than '\n",
      "  'found with either singular disease process. OBJECTIVE: We aimed to describe '\n",
      "  'the prevalence and risk factors for ACO among adults across six low- and '\n",
      "  'middle-income countries (LMICs). METHODS: We compiled cross-sectional data '\n",
      "  'for 11,923 participants aged 35-92 years from four population-based studies '\n",
      "  'in 12 settings. We defined COPD as post-bronchodilator FEV1/FVC below the '\n",
      "  'lower limit of normal, asthma as wheeze or medication use in 12 months or '\n",
      "  'self-reported physician diagnosis, and ACO as having both. RESULTS: The '\n",
      "  'prevalence of ACO was 3.8% (0% in rural Puno, Peru to 7.8% in Matlab, '\n",
      "  'Bangladesh). The odds of having ACO were higher with household exposure to '\n",
      "  'biomass fuel smoke (OR=1.48; 95% CI 0.98-2.23), smoking (OR=1.28 per 10 '\n",
      "  'pack-years; 1.22-1.34), and having primary or less education (OR=1.35; '\n",
      "  '1.07-1.70) compared to non-obstructed individuals. ACO was associated with '\n",
      "  'severe breathing obstruction (FEV1 % predicted <50; 31.5% of ACO vs. 10.9% '\n",
      "  'of COPD alone or 3.5% of asthma alone) and severe spirometric deficits '\n",
      "  'compared to participants with asthma (-1.61 z scores FEV1; -1.48, -1.75) or '\n",
      "  'COPD alone (-0.94 z scores; -0.78, -1.10). CONCLUSION: ACO may be as '\n",
      "  'prevalent and more severe in LMICs than has been reported in high-income '\n",
      "  'settings. Exposure to biomass fuel smoke may be an overlooked risk factor '\n",
      "  'and we favor diagnostic criteria for ACO that include environmental '\n",
      "  'exposures common to LMICs.')]\n"
     ]
    }
   ],
   "source": [
    "docs = pickle.load(open('data/pubmed.pic', 'rb'))\n",
    "pprint(list(it.islice(docs.items(), 2)))"
   ]
  },
  {
   "cell_type": "markdown",
   "metadata": {},
   "source": [
    "Create a tf-idf matrix for every term that appears at least once in any of the documents. What is the shape of the tf-idf matrix? "
   ]
  },
  {
   "cell_type": "code",
   "execution_count": 24,
   "metadata": {},
   "outputs": [
    {
     "name": "stdout",
     "output_type": "stream",
     "text": [
      "(6740, 189)\n"
     ]
    }
   ],
   "source": [
    "pubmed_id, pubmed_terms, pubmed_tfidf = get_tfidf(docs)\n",
    "print(pubmed_tfidf.shape)"
   ]
  },
  {
   "cell_type": "markdown",
   "metadata": {},
   "source": [
    "Store the results"
   ]
  },
  {
   "cell_type": "code",
   "execution_count": 26,
   "metadata": {},
   "outputs": [],
   "source": [
    "np.save(\"./data/z05_pubmed_id.npy\",    pubmed_id)\n",
    "np.save(\"./data/z05_pubmed_terms.npy\", pubmed_terms)\n",
    "np.save(\"./data/z05_pubmed_tfidf.npy\", pubmed_tfidf)"
   ]
  },
  {
   "cell_type": "markdown",
   "metadata": {},
   "source": [
    "## <a name = \"Q42\"></a> Q42. Perform SVD on the tf-idf matrix to obtain $U \\Sigma V^T$ (often written as $T \\Sigma D^T$ in this context with $T$ representing the terms and $D$ representing the documents). If we set all but the top $k$ singular values to 0, the reconstructed matrix is essentially $U_k \\Sigma_k V_k^T$, where $U_k$ is $m \\times k$, $\\Sigma_k$ is $k \\times k$ and $V_k^T$ is $k \\times n$. Terms in this reduced space are represented by $U_k \\Sigma_k$ and documents by $\\Sigma_k V^T_k$. Reconstruct the matrix using the first $k=10$ singular values.\n",
    "\n",
    "[Back to Question 04](#Q04)"
   ]
  },
  {
   "cell_type": "markdown",
   "metadata": {},
   "source": [
    "load back the tfidf results"
   ]
  },
  {
   "cell_type": "code",
   "execution_count": 29,
   "metadata": {},
   "outputs": [],
   "source": [
    "pubmed_id    = np.load(\"./data/z05_pubmed_id.npy\")\n",
    "pubmed_terms = np.load(\"./data/z05_pubmed_terms.npy\")\n",
    "pubmed_tfidf = np.load(\"./data/z05_pubmed_tfidf.npy\")"
   ]
  },
  {
   "cell_type": "markdown",
   "metadata": {},
   "source": [
    "reconstruct with k = 10"
   ]
  },
  {
   "cell_type": "code",
   "execution_count": 30,
   "metadata": {},
   "outputs": [],
   "source": [
    "pubmed_tfidf_re10 = reconstruct_matrix(pubmed_tfidf, k = 10)"
   ]
  },
  {
   "cell_type": "markdown",
   "metadata": {},
   "source": [
    "# <a name = \"Q43\"></a> Q43. Use agglomerative hierarchical clustering with complete linkage to plot a dendrogram and comment on the likely number of  document clusters with $k = 100$. Use the dendrogram function from [SciPy ](https://docs.scipy.org/doc/scipy-0.15.1/reference/generated/scipy.cluster.hierarchy.dendrogram.html).\n",
    "\n",
    "[Back to Question 04](#Q04)"
   ]
  },
  {
   "cell_type": "markdown",
   "metadata": {},
   "source": [
    "reconstruct tf-idf matrix with k = 100"
   ]
  },
  {
   "cell_type": "code",
   "execution_count": 31,
   "metadata": {},
   "outputs": [],
   "source": [
    "pubmed_tfidf_re100 = reconstruct_matrix(pubmed_tfidf, k = 100)"
   ]
  },
  {
   "cell_type": "markdown",
   "metadata": {},
   "source": [
    "perform hierarchical clustering"
   ]
  },
  {
   "cell_type": "code",
   "execution_count": 32,
   "metadata": {},
   "outputs": [],
   "source": [
    "pubmed_link = linkage(pubmed_tfidf_re100, method = 'complete')"
   ]
  },
  {
   "cell_type": "markdown",
   "metadata": {},
   "source": [
    "plot the dendrogram ([reference of code for plotting](https://joernhees.de/blog/2015/08/26/scipy-hierarchical-clustering-and-dendrogram-tutorial/))"
   ]
  },
  {
   "cell_type": "code",
   "execution_count": 33,
   "metadata": {},
   "outputs": [
    {
     "data": {
      "image/png": "[encoded data removed]",
      "text/plain": [
       "<Figure size 1800x1440 with 1 Axes>"
      ]
     },
     "metadata": {},
     "output_type": "display_data"
    }
   ],
   "source": [
    "### set plot\n",
    "plt.figure(figsize=(25, 20))\n",
    "plt.title('Hierarchical Clustering Dendrogram')\n",
    "plt.xlabel('sample index')\n",
    "plt.ylabel('distance')\n",
    "\n",
    "dendrogram(\n",
    "    pubmed_link,\n",
    "    leaf_rotation = 90.,  # rotates the x axis labels\n",
    "    leaf_font_size = 8.,  # font size for the x axis labels\n",
    ")\n",
    "\n",
    "plt.show()"
   ]
  },
  {
   "cell_type": "markdown",
   "metadata": {},
   "source": [
    "From the plot, there seems to be one large groups of document under the clustering using complete linkage.\n",
    "\n",
    "Note: retrieve the cluster id\n",
    "```\n",
    "clusters = fcluster(Z, max_d, criterion = 'distance')\n",
    "clusters = fcluster(Z, k,     criterion = 'maxclust')\n",
    "```"
   ]
  },
  {
   "cell_type": "markdown",
   "metadata": {},
   "source": [
    "Below I tried to cut the tree using different distance. As the threshold descrease, the documents first break into two groups (1: 6736, 2: 4) and then into three groups (1: 6736, 2: 2, 3: 2).\n",
    "\n",
    "The larger group (1: 6736) stays together even when the threshold reach down to 150. Several documents are observed to be separated from the group until the threshold becomes 100. Therefore, I would guess there is a large group of documents (1: 6736) and a small group of documents (2:4)."
   ]
  },
  {
   "cell_type": "code",
   "execution_count": 40,
   "metadata": {},
   "outputs": [
    {
     "data": {
      "text/plain": [
       "Counter({1: 6740})"
      ]
     },
     "execution_count": 40,
     "metadata": {},
     "output_type": "execute_result"
    }
   ],
   "source": [
    "clusters = fcluster(pubmed_link, 400, criterion = 'distance')\n",
    "Counter(clusters)"
   ]
  },
  {
   "cell_type": "code",
   "execution_count": 37,
   "metadata": {},
   "outputs": [
    {
     "data": {
      "text/plain": [
       "Counter({1: 6736, 2: 4})"
      ]
     },
     "execution_count": 37,
     "metadata": {},
     "output_type": "execute_result"
    }
   ],
   "source": [
    "clusters = fcluster(pubmed_link, 300, criterion = 'distance')\n",
    "Counter(clusters)"
   ]
  },
  {
   "cell_type": "code",
   "execution_count": 39,
   "metadata": {},
   "outputs": [
    {
     "data": {
      "text/plain": [
       "Counter({1: 6736, 2: 2, 3: 2})"
      ]
     },
     "execution_count": 39,
     "metadata": {},
     "output_type": "execute_result"
    }
   ],
   "source": [
    "clusters = fcluster(pubmed_link, 200, criterion = 'distance')\n",
    "Counter(clusters)"
   ]
  },
  {
   "cell_type": "code",
   "execution_count": 41,
   "metadata": {},
   "outputs": [
    {
     "data": {
      "text/plain": [
       "Counter({1: 6736, 2: 1, 3: 1, 4: 1, 5: 1})"
      ]
     },
     "execution_count": 41,
     "metadata": {},
     "output_type": "execute_result"
    }
   ],
   "source": [
    "clusters = fcluster(pubmed_link, 150, criterion = 'distance')\n",
    "Counter(clusters)"
   ]
  },
  {
   "cell_type": "code",
   "execution_count": 36,
   "metadata": {},
   "outputs": [
    {
     "data": {
      "text/plain": [
       "Counter({1: 6733, 2: 3, 3: 1, 4: 1, 5: 1, 6: 1})"
      ]
     },
     "execution_count": 36,
     "metadata": {},
     "output_type": "execute_result"
    }
   ],
   "source": [
    "clusters = fcluster(pubmed_link, 100, criterion = 'distance')\n",
    "Counter(clusters)"
   ]
  },
  {
   "cell_type": "code",
   "execution_count": 38,
   "metadata": {},
   "outputs": [
    {
     "data": {
      "text/plain": [
       "Counter({1: 11,\n",
       "         2: 6,\n",
       "         3: 2,\n",
       "         4: 6714,\n",
       "         5: 1,\n",
       "         6: 1,\n",
       "         7: 1,\n",
       "         8: 1,\n",
       "         9: 1,\n",
       "         10: 1,\n",
       "         11: 1})"
      ]
     },
     "execution_count": 38,
     "metadata": {},
     "output_type": "execute_result"
    }
   ],
   "source": [
    "clusters = fcluster(pubmed_link, 50, criterion = 'distance')\n",
    "Counter(clusters)"
   ]
  },
  {
   "cell_type": "markdown",
   "metadata": {},
   "source": [
    "# <a name = \"Q44\"></a> Q44. Determine how similar each of the original documents is to the new document `data/mystery.txt`. Since $A = U \\Sigma V^T$, we also have $V = A^T U S^{-1}$ using orthogonality and the rule for transposing matrix products. This suggests that in order to map the new document to the same concept space, first find the tf-idf vector $v$ for the new document - this must contain all (and only) the terms present in the existing tf-idx matrix. Then the query vector $q$ is given by $v^T U_k \\Sigma_k^{-1}$. Find the 10 documents most similar to the new document and the 10 most dissimilar. \n",
    "\n",
    "[Back to Question 04](#Q04)"
   ]
  },
  {
   "cell_type": "markdown",
   "metadata": {},
   "source": [
    "read in mystery.txt"
   ]
  },
  {
   "cell_type": "code",
   "execution_count": 48,
   "metadata": {},
   "outputs": [
    {
     "name": "stdout",
     "output_type": "stream",
     "text": [
      "﻿Intensive blood-glucose control with sulphonylureas or insulin compared with conventional treatment and risk of complications in patients with type 2 diabetes BACKGROUND: Improved blood-glucose control decreases the progression of diabetic microvascular disease, but the effect on macrovascular complications is unknown. There is concern that sulphonylureas may increase cardiovascular mortality in patients with type 2 diabetes and that high insulin concentrations may enhance atheroma formation. We compared the effects of intensive blood-glucose control with either sulphonylurea or insulin and conventional treatment on the risk of microvascular and macrovascular complications in patients with type 2 diabetes in a randomised controlled trial. METHODS: 3867 newly diagnosed patients with type 2 diabetes, median age 54 years (IQR 48-60 years), who after 3 months' diet treatment had a mean of two fasting plasma glucose (FPG) concentrations of 6.1-15.0 mmol/L were randomly assigned intensive policy with a sulphonylurea (chlorpropamide, glibenclamide, or glipizide) or with insulin, or conventional policy with diet. The aim in the intensive group was FPG less than 6 mmol/L. In the conventional group, the aim was the best achievable FPG with diet alone; drugs were added only if there were hyperglycaemic symptoms or FPG greater than 15 mmol/L. Three aggregate endpoints were used to assess differences between conventional and intensive treatment: any diabetes-related endpoint (sudden death, death from hyperglycaemia or hypoglycaemia, fatal or non-fatal myocardial infarction, angina, heart failure, stroke, renal failure, amputation [of at least one digit], vitreous haemorrhage, retinopathy requiring photocoagulation, blindness in one eye, or cataract extraction); diabetes-related death (death from myocardial infarction, stroke, peripheral vascular disease, renal disease, hyperglycaemia or hypoglycaemia, and sudden death); all-cause mortality. Single clinical endpoints and surrogate subclinical endpoints were also assessed. All analyses were by intention to treat and frequency of hypoglycaemia was also analysed by actual therapy. FINDINGS: Over 10 years, haemoglobin A1c (HbA1c) was 7.0% (6.2-8.2) in the intensive group compared with 7.9% (6.9-8.8) in the conventional group--an 11% reduction. There was no difference in HbA1c among agents in the intensive group. Compared with the conventional group, the risk in the intensive group was 12% lower (95% CI 1-21, p=0.029) for any diabetes-related endpoint; 10% lower (-11 to 27, p=0.34) for any diabetes-related death; and 6% lower (-10 to 20, p=0.44) for all-cause mortality. Most of the risk reduction in the any diabetes-related aggregate endpoint was due to a 25% risk reduction (7-40, p=0.0099) in microvascular endpoints, including the need for retinal photocoagulation. There was no difference for any of the three aggregate endpoints between the three intensive agents (chlorpropamide, glibenclamide, or insulin). Patients in the intensive group had more hypoglycaemic episodes than those in the conventional group on both types of analysis (both p<0.0001). The rates of major hypoglycaemic episodes per year were 0.7% with conventional treatment, 1.0% with chlorpropamide, 1.4% with glibenclamide, and 1.8% with insulin. Weight gain was significantly higher in the intensive group (mean 2.9 kg) than in the conventional group (p<0.001), and patients assigned insulin had a greater gain in weight (4.0 kg) than those assigned chlorpropamide (2.6 kg) or glibenclamide (1.7 kg). INTERPRETATION: Intensive blood-glucose control by either sulphonylureas or insulin substantially decreases the risk of microvascular complications, but not macrovascular disease, in patients with type 2 diabetes.(ABSTRACT TRUNCATED) \n"
     ]
    }
   ],
   "source": [
    "mystery = \"\"\n",
    "\n",
    "with open(\"./data/mystery.txt\", \"r\") as f:\n",
    "    for line in f:\n",
    "        line = line.strip()\n",
    "        mystery += line + \" \"\n",
    "        \n",
    "print(mystery)"
   ]
  },
  {
   "cell_type": "code",
   "execution_count": 55,
   "metadata": {},
   "outputs": [],
   "source": [
    "docs = {\"mystery\": mystery}\n",
    "mys_id, mys_terms, mys_tfidf = get_tfidf(docs)"
   ]
  },
  {
   "cell_type": "markdown",
   "metadata": {},
   "source": [
    "find all (and only) the terms present in the pubmed tf-idx matrix"
   ]
  },
  {
   "cell_type": "code",
   "execution_count": 60,
   "metadata": {},
   "outputs": [
    {
     "data": {
      "text/plain": [
       "(188,)"
      ]
     },
     "execution_count": 60,
     "metadata": {},
     "output_type": "execute_result"
    }
   ],
   "source": [
    "terms = np.intersect1d(np.array(mys_terms), np.array(pubmed_terms))\n",
    "terms.shape"
   ]
  },
  {
   "cell_type": "markdown",
   "metadata": {},
   "source": [
    "construct the vector v for the mystery document so that v is within the same space of the pubmed documents"
   ]
  },
  {
   "cell_type": "code",
   "execution_count": 78,
   "metadata": {},
   "outputs": [],
   "source": [
    "### initialization\n",
    "v_ori = pd.Series(mys_tfidf.flatten(), index = mys_terms)\n",
    "v_new = pd.Series(0.0,                 index = pubmed_terms)\n",
    "\n",
    "### construct the vector v of mystery document\n",
    "for term in terms:\n",
    "    v_new[term] = v_ori[term]"
   ]
  },
  {
   "cell_type": "markdown",
   "metadata": {},
   "source": [
    "Perform SVD decomposition; <font color = \"blue\">Here I chose k = 100</font>"
   ]
  },
  {
   "cell_type": "code",
   "execution_count": 82,
   "metadata": {},
   "outputs": [],
   "source": [
    "k = 100\n",
    "sM = csc_matrix(pubmed_tfidf)\n",
    "Ut, S, Vt = sparsesvd(sM, k = k)\n",
    "#u[:, :k] @ np.diag(s)[:k, :k] @ vt[:k, :]\n",
    "#return ut.T @ np.diag(s) @ vt "
   ]
  },
  {
   "cell_type": "markdown",
   "metadata": {},
   "source": [
    "calculate the query vector q of the mystery document  \n",
    "the query vector $q$ is given by $v^T U_k \\Sigma_k^{-1}$"
   ]
  },
  {
   "cell_type": "code",
   "execution_count": 88,
   "metadata": {},
   "outputs": [
    {
     "data": {
      "text/plain": [
       "(1, 100)"
      ]
     },
     "execution_count": 88,
     "metadata": {},
     "output_type": "execute_result"
    }
   ],
   "source": [
    "### get query vector q\n",
    "v = np.array(v_new).reshape(-1, 1)\n",
    "q = v.T @ Ut.T @ np.diag(1 / S)\n",
    "\n",
    "### check dimension of q; should be the same as k\n",
    "q.shape"
   ]
  },
  {
   "cell_type": "markdown",
   "metadata": {},
   "source": [
    "Terms in this reduced space are represented by $U_k \\Sigma_k$ and documents by $\\Sigma_k V^T_k$. Therefore, we could find the subsplace all pubmed documents lie within"
   ]
  },
  {
   "cell_type": "code",
   "execution_count": 138,
   "metadata": {},
   "outputs": [
    {
     "name": "stdout",
     "output_type": "stream",
     "text": [
      "Number of documents: 189\n",
      "Reduced space shape: (100, 189)\n"
     ]
    }
   ],
   "source": [
    "Q = np.diag(S) @ Vt\n",
    "\n",
    "### check shape; should be k x (number of documents)\n",
    "print(\"Number of documents:\", len(pubmed_id))\n",
    "print(\"Reduced space shape:\", Q.shape)"
   ]
  },
  {
   "cell_type": "markdown",
   "metadata": {},
   "source": [
    "calculate the distance of the mystery document and all other pubmed documents in the subspace; <font color = \"blue\">Here I used the cosine distance</font>"
   ]
  },
  {
   "cell_type": "code",
   "execution_count": 139,
   "metadata": {},
   "outputs": [],
   "source": [
    "### initialization: row as observation\n",
    "M = np.vstack([q, Q.T])\n",
    "\n",
    "### get the distance of query (mystery) to the database (pubmed)\n",
    "dist = my_pdist_row_loop(M, dist_cosine)[0]\n",
    "\n",
    "### remove the query document itself\n",
    "dist = dist[1:]"
   ]
  },
  {
   "cell_type": "markdown",
   "metadata": {},
   "source": [
    "### choose the top 10 closest document\n",
    "the first column is index and the second column is the distance"
   ]
  },
  {
   "cell_type": "code",
   "execution_count": 140,
   "metadata": {},
   "outputs": [
    {
     "data": {
      "text/plain": [
       "[(23, 0.5004778524107083),\n",
       " (113, 0.5385447604168658),\n",
       " (63, 0.6041499945273645),\n",
       " (20, 0.614608633321766),\n",
       " (163, 0.6154922858677694),\n",
       " (120, 0.6225220910459273),\n",
       " (133, 0.62315788840431),\n",
       " (97, 0.6294231703050819),\n",
       " (10, 0.6299417804840175),\n",
       " (174, 0.637618920730858)]"
      ]
     },
     "execution_count": 140,
     "metadata": {},
     "output_type": "execute_result"
    }
   ],
   "source": [
    "idx_top10 = np.argsort(dist)[:10]\n",
    "list(zip(idx_top10, dist[idx_top10]))"
   ]
  },
  {
   "cell_type": "markdown",
   "metadata": {},
   "source": [
    "What are those top 10 closest documents in pubmed?"
   ]
  },
  {
   "cell_type": "code",
   "execution_count": 141,
   "metadata": {},
   "outputs": [
    {
     "name": "stdout",
     "output_type": "stream",
     "text": [
      "# Document: 23\n",
      "Association of DAT1 Genetic Variants with Habitual Sleep Duration in the UK Biobank.\n",
      "========================================\n",
      "# Document: 113\n",
      "Oral prednisolone for management of persistent hypercalcemia afterhypercalcemic crisis in the Williams-Beuren syndrome.\n",
      "========================================\n",
      "# Document: 63\n",
      "Exposure to Plasmodium vivax is associated with the increased expression of exhaustion markers on gammadelta T lymphocytes.\n",
      "========================================\n",
      "# Document: 20\n",
      "Antidiabetic Effect of Abextide, a Long-Acting Exendin-4 Analogue in Cynomolgus Monkeys.\n",
      "========================================\n",
      "# Document: 163\n",
      "Timing malaria transmission with mosquito fluctuations.\n",
      "========================================\n",
      "# Document: 120\n",
      "Pharmacotherapy of type 2 diabetes in patients with chronic liver disease: focus on nonalcoholic fatty liver disease.\n",
      "========================================\n",
      "# Document: 133\n",
      "RELATIONSHIP BETWEEN STAGES OF DIABETIC RETINOPATHY AND LEVELS OF BRAIN-DERIVED NEUROTROPHIC FACTOR IN AQUEOUS HUMOR AND SERUM.\n",
      "========================================\n",
      "# Document: 97\n",
      "Metabolic abnormalities in adult T-cell leukemia/lymphoma and induction of specific leukemic cell death using photodynamic therapy.\n",
      "========================================\n",
      "# Document: 10\n",
      "Absence of Plasmodium falciparum K13 Propeller Domain Polymorphisms among Field Isolates Collected from the Brazilian Amazon Basin between 1984 and 2011.\n",
      "========================================\n",
      "# Document: 174\n",
      "[Body fat measurements using bioelectrical impedance in pediatric patientstreated with hematopoietic cell transplantation].\n",
      "========================================\n"
     ]
    }
   ],
   "source": [
    "for idx, string in zip(idx_top10, pubmed_id[idx_top10]):\n",
    "    print(\"# Document:\", idx)\n",
    "    print(string)\n",
    "    print(\"========================================\")"
   ]
  },
  {
   "cell_type": "markdown",
   "metadata": {},
   "source": [
    "### choose the 10 most dissimilar document\n",
    "the first column is index and the second column is the distance"
   ]
  },
  {
   "cell_type": "code",
   "execution_count": 142,
   "metadata": {},
   "outputs": [
    {
     "data": {
      "text/plain": [
       "[(91, 1.1166988021324886),\n",
       " (47, 1.101521844309968),\n",
       " (127, 1.0762746975626194),\n",
       " (58, 1.0724385013242053),\n",
       " (148, 1.0702477672008945),\n",
       " (94, 1.0616573883354004),\n",
       " (136, 1.054413336123565),\n",
       " (146, 1.025456550782367),\n",
       " (50, 1.0109948367353263),\n",
       " (183, 1.007082906685618)]"
      ]
     },
     "execution_count": 142,
     "metadata": {},
     "output_type": "execute_result"
    }
   ],
   "source": [
    "idx_last10 = np.argsort(-dist)[:10]\n",
    "list(zip(idx_last10, dist[idx_last10]))"
   ]
  },
  {
   "cell_type": "markdown",
   "metadata": {},
   "source": [
    "What are those top 10 most dissimilar documents in pubmed?"
   ]
  },
  {
   "cell_type": "code",
   "execution_count": 143,
   "metadata": {},
   "outputs": [
    {
     "name": "stdout",
     "output_type": "stream",
     "text": [
      "# Document: 91\n",
      "Leptin contributes to the beneficial effects of insulin treatment in streptozotocin-diabetic male mice.\n",
      "========================================\n",
      "# Document: 47\n",
      "Design, Synthesis, and Screening of 5-Aryl-3-(2-(pyrrolyl) thiophenyl)-1, 2, 4-oxadiazoles As Potential Antitumor Molecules on Breast Cancer MCF-7 Cell Line.\n",
      "========================================\n",
      "# Document: 127\n",
      "Preserved insulin secretion and kidney function in recipients with functional pancreas grafts 1 year after transplantation: a single-center prospective observational study\n",
      "========================================\n",
      "# Document: 58\n",
      "Endocrine disruptor compounds in environment: As a danger for children health.\n",
      "========================================\n",
      "# Document: 148\n",
      "Self-assembling lisofylline-fatty acid conjugate for effective treatment of diabetes mellitus.\n",
      "========================================\n",
      "# Document: 94\n",
      "Lung delivery of nanoliposomal salbutamol sulphate dry powder inhalation for facilitated asthma therapy.\n",
      "========================================\n",
      "# Document: 136\n",
      "Reduced intensity conditioning with fludarabine, melphalan, and total body irradiation for allogeneic hematopoietic cell transplantation: the effect of increasing melphalan dose on underlying disease and toxicity.\n",
      "========================================\n",
      "# Document: 146\n",
      "Salidroside protects LPS-induced injury in human thyroid follicular epithelial cells by upregulation of MiR-27a.\n",
      "========================================\n",
      "# Document: 50\n",
      "Distinct roles of VE-cadherin for development and maintenance of specific lymph vessel beds.\n",
      "========================================\n",
      "# Document: 183\n",
      "[Nutritional habits of 11-12-year-old swimmers against non-athlete peers - a pilot study].\n",
      "========================================\n"
     ]
    }
   ],
   "source": [
    "for idx, string in zip(idx_last10, pubmed_id[idx_last10]):\n",
    "    print(\"# Document:\", idx)\n",
    "    print(string)\n",
    "    print(\"========================================\")"
   ]
  },
  {
   "cell_type": "markdown",
   "metadata": {},
   "source": [
    "### What is the mystery document?\n",
    "From the content, we know the title of document is actually called\n",
    "\n",
    "**Intensive blood-glucose control with sulphonylureas or insulin compared with conventional treatment and risk of complications in patients with type 2 diabetes (UKPDS 33). UK Prospective Diabetes Study (UKPDS) Group**"
   ]
  }
 ],
 "metadata": {
  "kernelspec": {
   "display_name": "Python 3",
   "language": "python",
   "name": "python3"
  },
  "language_info": {
   "codemirror_mode": {
    "name": "ipython",
    "version": 3
   },
   "file_extension": ".py",
   "mimetype": "text/x-python",
   "name": "python",
   "nbconvert_exporter": "python",
   "pygments_lexer": "ipython3",
   "version": "3.5.4"
  }
 },
 "nbformat": 4,
 "nbformat_minor": 1
}
