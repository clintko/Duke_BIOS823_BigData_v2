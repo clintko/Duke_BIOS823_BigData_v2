{
 "cells": [
  {
   "cell_type": "markdown",
   "metadata": {},
   "source": [
    "# Assignment 8: Supervised Learning\n",
    "\n",
    "This should be a straightforward assignment and is here just to provide a concrete example of supervised learning."
   ]
  },
  {
   "cell_type": "markdown",
   "metadata": {},
   "source": [
    "Load the titanic data set from `seaborn`. We will try to predict survival from the other variables."
   ]
  },
  {
   "cell_type": "code",
   "execution_count": 1,
   "metadata": {},
   "outputs": [],
   "source": [
    "import seaborn as sns\n",
    "titanic = sns.load_dataset('titanic')"
   ]
  },
  {
   "cell_type": "markdown",
   "metadata": {},
   "source": [
    "set up environment"
   ]
  },
  {
   "cell_type": "code",
   "execution_count": 2,
   "metadata": {},
   "outputs": [],
   "source": [
    "seed = 2017\n",
    "\n",
    "import numpy as np\n",
    "import scipy.linalg as la\n",
    "import pandas as pd\n",
    "from collections import Counter\n",
    "\n",
    "### sklearn tools\n",
    "from sklearn.pipeline        import Pipeline\n",
    "from sklearn.preprocessing   import StandardScaler\n",
    "from sklearn.linear_model    import RidgeClassifier\n",
    "from sklearn.model_selection import train_test_split, GridSearchCV\n",
    "\n",
    "from sklearn.metrics import confusion_matrix, accuracy_score, recall_score, precision_score, f1_score\n",
    "from sklearn.metrics import roc_curve, auc\n",
    "\n",
    "### display and plot\n",
    "import matplotlib.pyplot as plt\n",
    "from pprint import pprint\n",
    "\n",
    "### helper function\n",
    "head = lambda x, n = 6: x[:n]\n",
    "tail = lambda x, n = 6: x[-n:]"
   ]
  },
  {
   "cell_type": "markdown",
   "metadata": {},
   "source": [
    "-----"
   ]
  },
  {
   "cell_type": "markdown",
   "metadata": {},
   "source": [
    "**Ex 1**. (10 points)\n",
    "\n",
    "Is the data set balanced or imbalanced? If it is badly imbalanced (say minority class under 20% of total), use down-sampling of the majority class to generate a balanced data set. Drop columns with any missing values."
   ]
  },
  {
   "cell_type": "code",
   "execution_count": 3,
   "metadata": {},
   "outputs": [
    {
     "data": {
      "text/plain": [
       "no     549\n",
       "yes    342\n",
       "Name: alive, dtype: int64"
      ]
     },
     "execution_count": 3,
     "metadata": {},
     "output_type": "execute_result"
    }
   ],
   "source": [
    "titanic.dropna(axis = 1)[\"alive\"].value_counts()"
   ]
  },
  {
   "cell_type": "markdown",
   "metadata": {},
   "source": [
    "The ratio of survived people is about 38% of total, higher than 20% of total"
   ]
  },
  {
   "cell_type": "code",
   "execution_count": 4,
   "metadata": {},
   "outputs": [
    {
     "data": {
      "text/plain": [
       "0.3838383838383838"
      ]
     },
     "execution_count": 4,
     "metadata": {},
     "output_type": "execute_result"
    }
   ],
   "source": [
    "342 / (549 + 342)"
   ]
  },
  {
   "cell_type": "markdown",
   "metadata": {},
   "source": [
    "The data set is not too imbalanced, so no action taken."
   ]
  },
  {
   "cell_type": "markdown",
   "metadata": {},
   "source": [
    "However, when taking a look at the data, I noticed that some columns are actually redundant in the dataset. For example, the column survived and alive are exactly the same and the column pclass is identical to the column class."
   ]
  },
  {
   "cell_type": "code",
   "execution_count": 5,
   "metadata": {},
   "outputs": [
    {
     "data": {
      "text/plain": [
       "survived  alive\n",
       "0         no       549\n",
       "1         yes      342\n",
       "dtype: int64"
      ]
     },
     "execution_count": 5,
     "metadata": {},
     "output_type": "execute_result"
    }
   ],
   "source": [
    "titanic.groupby([\"survived\", \"alive\"]).size()"
   ]
  },
  {
   "cell_type": "code",
   "execution_count": 6,
   "metadata": {},
   "outputs": [
    {
     "data": {
      "text/plain": [
       "pclass  class \n",
       "1       First     216\n",
       "2       Second    184\n",
       "3       Third     491\n",
       "dtype: int64"
      ]
     },
     "execution_count": 6,
     "metadata": {},
     "output_type": "execute_result"
    }
   ],
   "source": [
    "titanic.groupby([\"pclass\", \"class\"]).size()"
   ]
  },
  {
   "cell_type": "markdown",
   "metadata": {},
   "source": [
    "Also, by having the column sex and who, the information in the column adult_male is not necessary."
   ]
  },
  {
   "cell_type": "code",
   "execution_count": 7,
   "metadata": {},
   "outputs": [
    {
     "data": {
      "text/plain": [
       "sex     who    adult_male\n",
       "female  child  False          43\n",
       "        woman  False         271\n",
       "male    child  False          40\n",
       "        man    True          537\n",
       "dtype: int64"
      ]
     },
     "execution_count": 7,
     "metadata": {},
     "output_type": "execute_result"
    }
   ],
   "source": [
    "titanic.groupby([\"sex\", \"who\", \"adult_male\"]).size()"
   ]
  },
  {
   "cell_type": "code",
   "execution_count": 8,
   "metadata": {},
   "outputs": [
    {
     "data": {
      "text/plain": [
       "sex     who  \n",
       "female  child     43\n",
       "        woman    271\n",
       "male    child     40\n",
       "        man      537\n",
       "dtype: int64"
      ]
     },
     "execution_count": 8,
     "metadata": {},
     "output_type": "execute_result"
    }
   ],
   "source": [
    "titanic.groupby([\"sex\", \"who\"]).size()"
   ]
  },
  {
   "cell_type": "markdown",
   "metadata": {},
   "source": [
    "remove all the redundant columns"
   ]
  },
  {
   "cell_type": "code",
   "execution_count": 9,
   "metadata": {},
   "outputs": [
    {
     "data": {
      "text/plain": [
       "(891, 8)"
      ]
     },
     "execution_count": 9,
     "metadata": {},
     "output_type": "execute_result"
    }
   ],
   "source": [
    "dat = titanic.dropna(axis = 1).drop(columns = [\"alive\", \"adult_male\", \"pclass\"])\n",
    "dat.shape"
   ]
  },
  {
   "cell_type": "markdown",
   "metadata": {},
   "source": [
    "The result data frame"
   ]
  },
  {
   "cell_type": "code",
   "execution_count": 10,
   "metadata": {},
   "outputs": [
    {
     "data": {
      "text/html": [
       "<div>\n",
       "<style scoped>\n",
       "    .dataframe tbody tr th:only-of-type {\n",
       "        vertical-align: middle;\n",
       "    }\n",
       "\n",
       "    .dataframe tbody tr th {\n",
       "        vertical-align: top;\n",
       "    }\n",
       "\n",
       "    .dataframe thead th {\n",
       "        text-align: right;\n",
       "    }\n",
       "</style>\n",
       "<table border=\"1\" class=\"dataframe\">\n",
       "  <thead>\n",
       "    <tr style=\"text-align: right;\">\n",
       "      <th></th>\n",
       "      <th>survived</th>\n",
       "      <th>sex</th>\n",
       "      <th>sibsp</th>\n",
       "      <th>parch</th>\n",
       "      <th>fare</th>\n",
       "      <th>class</th>\n",
       "      <th>who</th>\n",
       "      <th>alone</th>\n",
       "    </tr>\n",
       "  </thead>\n",
       "  <tbody>\n",
       "    <tr>\n",
       "      <th>0</th>\n",
       "      <td>0</td>\n",
       "      <td>male</td>\n",
       "      <td>1</td>\n",
       "      <td>0</td>\n",
       "      <td>7.2500</td>\n",
       "      <td>Third</td>\n",
       "      <td>man</td>\n",
       "      <td>False</td>\n",
       "    </tr>\n",
       "    <tr>\n",
       "      <th>1</th>\n",
       "      <td>1</td>\n",
       "      <td>female</td>\n",
       "      <td>1</td>\n",
       "      <td>0</td>\n",
       "      <td>71.2833</td>\n",
       "      <td>First</td>\n",
       "      <td>woman</td>\n",
       "      <td>False</td>\n",
       "    </tr>\n",
       "    <tr>\n",
       "      <th>2</th>\n",
       "      <td>1</td>\n",
       "      <td>female</td>\n",
       "      <td>0</td>\n",
       "      <td>0</td>\n",
       "      <td>7.9250</td>\n",
       "      <td>Third</td>\n",
       "      <td>woman</td>\n",
       "      <td>True</td>\n",
       "    </tr>\n",
       "    <tr>\n",
       "      <th>3</th>\n",
       "      <td>1</td>\n",
       "      <td>female</td>\n",
       "      <td>1</td>\n",
       "      <td>0</td>\n",
       "      <td>53.1000</td>\n",
       "      <td>First</td>\n",
       "      <td>woman</td>\n",
       "      <td>False</td>\n",
       "    </tr>\n",
       "    <tr>\n",
       "      <th>4</th>\n",
       "      <td>0</td>\n",
       "      <td>male</td>\n",
       "      <td>0</td>\n",
       "      <td>0</td>\n",
       "      <td>8.0500</td>\n",
       "      <td>Third</td>\n",
       "      <td>man</td>\n",
       "      <td>True</td>\n",
       "    </tr>\n",
       "    <tr>\n",
       "      <th>5</th>\n",
       "      <td>0</td>\n",
       "      <td>male</td>\n",
       "      <td>0</td>\n",
       "      <td>0</td>\n",
       "      <td>8.4583</td>\n",
       "      <td>Third</td>\n",
       "      <td>man</td>\n",
       "      <td>True</td>\n",
       "    </tr>\n",
       "  </tbody>\n",
       "</table>\n",
       "</div>"
      ],
      "text/plain": [
       "   survived     sex  sibsp  parch     fare  class    who  alone\n",
       "0         0    male      1      0   7.2500  Third    man  False\n",
       "1         1  female      1      0  71.2833  First  woman  False\n",
       "2         1  female      0      0   7.9250  Third  woman   True\n",
       "3         1  female      1      0  53.1000  First  woman  False\n",
       "4         0    male      0      0   8.0500  Third    man   True\n",
       "5         0    male      0      0   8.4583  Third    man   True"
      ]
     },
     "execution_count": 10,
     "metadata": {},
     "output_type": "execute_result"
    }
   ],
   "source": [
    "head(dat)"
   ]
  },
  {
   "cell_type": "markdown",
   "metadata": {},
   "source": [
    "Note that below is the link for more description of the dataset  \n",
    "[link](http://campus.lakeforest.edu/frank/FILES/MLFfiles/Bio150/Titanic/TitanicMETA.pdf)"
   ]
  },
  {
   "cell_type": "markdown",
   "metadata": {},
   "source": [
    "-----"
   ]
  },
  {
   "cell_type": "markdown",
   "metadata": {},
   "source": [
    "**Ex 2**. (10 points)\n",
    "\n",
    "Convert the categorical values into dummy encoded variables , dropping the first value to avoid collinearity."
   ]
  },
  {
   "cell_type": "code",
   "execution_count": 11,
   "metadata": {},
   "outputs": [
    {
     "name": "stdout",
     "output_type": "stream",
     "text": [
      "['survived',\n",
      " 'sibsp',\n",
      " 'parch',\n",
      " 'fare',\n",
      " 'alone',\n",
      " 'sex_male',\n",
      " 'class_Second',\n",
      " 'class_Third',\n",
      " 'who_man',\n",
      " 'who_woman']\n"
     ]
    }
   ],
   "source": [
    "dat_dummy = pd.get_dummies(dat, drop_first = True)\n",
    "pprint(list(dat_dummy.columns))"
   ]
  },
  {
   "cell_type": "markdown",
   "metadata": {},
   "source": [
    "-----"
   ]
  },
  {
   "cell_type": "markdown",
   "metadata": {},
   "source": [
    "**Ex 3**. (10 points)\n",
    "\n",
    "Split the data into 70% training and 30% test data sets using stratified sampling on the sex."
   ]
  },
  {
   "cell_type": "code",
   "execution_count": 12,
   "metadata": {},
   "outputs": [],
   "source": [
    "### first specify data (X) and label (y)\n",
    "X = dat_dummy.drop(columns = \"survived\")\n",
    "y = dat_dummy[\"survived\"]\n",
    "\n",
    "### split training (70%) and test (30%); stratified sampling on the sex\n",
    "X_train, X_test, y_train, y_test = train_test_split(X, y, test_size = 0.3, stratify = X[\"sex_male\"], random_state = seed)"
   ]
  },
  {
   "cell_type": "markdown",
   "metadata": {},
   "source": [
    "check the split results"
   ]
  },
  {
   "cell_type": "code",
   "execution_count": 13,
   "metadata": {},
   "outputs": [
    {
     "data": {
      "text/plain": [
       "Counter({0: 220, 1: 403})"
      ]
     },
     "execution_count": 13,
     "metadata": {},
     "output_type": "execute_result"
    }
   ],
   "source": [
    "### frequency of geners in train\n",
    "Counter(X_train[\"sex_male\"])"
   ]
  },
  {
   "cell_type": "code",
   "execution_count": 14,
   "metadata": {},
   "outputs": [
    {
     "data": {
      "text/plain": [
       "Counter({0: 94, 1: 174})"
      ]
     },
     "execution_count": 14,
     "metadata": {},
     "output_type": "execute_result"
    }
   ],
   "source": [
    "### frequency of geners in test\n",
    "Counter(X_test[\"sex_male\"])"
   ]
  },
  {
   "cell_type": "code",
   "execution_count": 15,
   "metadata": {},
   "outputs": [
    {
     "name": "stdout",
     "output_type": "stream",
     "text": [
      "(623, 9)\n",
      "(268, 9)\n",
      "(623,)\n",
      "(268,)\n"
     ]
    }
   ],
   "source": [
    "### check the size of train and test\n",
    "print(X_train.shape)\n",
    "print(X_test.shape)\n",
    "print(y_train.shape)\n",
    "print(y_test.shape)"
   ]
  },
  {
   "cell_type": "markdown",
   "metadata": {},
   "source": [
    "-----"
   ]
  },
  {
   "cell_type": "markdown",
   "metadata": {},
   "source": [
    "**Ex 4**. 20 points)\n",
    "\n",
    "Construct an `sklearn` `Pipeline` with the components `StandardScaler`, `RidgeClassifier`, and `GridSearchCV`. Train the Pipeline classifier, choosing a value for $\\lambda$ from one of $\\lambda = \\{0, 0.1, 1, 10\\}$ using grid search with 5-fold cross-validation. Note that the $\\lambda$ parameter we use in the lecture is named `alpha` in `RidgeClassifier`."
   ]
  },
  {
   "cell_type": "code",
   "execution_count": 16,
   "metadata": {},
   "outputs": [
    {
     "data": {
      "text/plain": [
       "{'alpha': 0}"
      ]
     },
     "execution_count": 16,
     "metadata": {},
     "output_type": "execute_result"
    }
   ],
   "source": [
    "### construct the pipeline using StandardScalar, RidgeClassifier, and GridSearchCV\n",
    "pipe = Pipeline(steps=[\n",
    "    ('scale',    StandardScaler()),\n",
    "    ('classify', GridSearchCV(\n",
    "        estimator  = RidgeClassifier(random_state = seed), \n",
    "        param_grid = {\"alpha\": [0, 0.1, 1, 10]},\n",
    "        cv = 5))\n",
    "])\n",
    "\n",
    "### fit the pipeline and acquire the best parameters\n",
    "classifier = pipe.fit(X_train, y_train)\n",
    "classifier.named_steps[\"classify\"].best_params_"
   ]
  },
  {
   "cell_type": "markdown",
   "metadata": {},
   "source": [
    "Note that by trying different random seed, I believe the value alpha is highly depend on seed."
   ]
  },
  {
   "cell_type": "markdown",
   "metadata": {},
   "source": [
    "-----"
   ]
  },
  {
   "cell_type": "markdown",
   "metadata": {},
   "source": [
    "**Ex 5**. (10 points)\n",
    "\n",
    "Using the trained classifier, construct a confusion matrix for the test and predicted values "
   ]
  },
  {
   "cell_type": "markdown",
   "metadata": {},
   "source": [
    "More about [sklearn.metric.confusion_matrix](http://scikit-learn.org/stable/modules/generated/sklearn.metrics.confusion_matrix.html)\n",
    "```\n",
    "sklearn.metrics.confusion_matrix(y_true, y_pred, labels=None, sample_weight=None)\n",
    "```"
   ]
  },
  {
   "cell_type": "code",
   "execution_count": 17,
   "metadata": {},
   "outputs": [
    {
     "data": {
      "text/plain": [
       "array([[145,  25],\n",
       "       [ 30,  68]])"
      ]
     },
     "execution_count": 17,
     "metadata": {},
     "output_type": "execute_result"
    }
   ],
   "source": [
    "y_pred = classifier.predict(X_test)\n",
    "confusion_matrix(y_test, y_pred)"
   ]
  },
  {
   "cell_type": "markdown",
   "metadata": {},
   "source": [
    "-----"
   ]
  },
  {
   "cell_type": "markdown",
   "metadata": {},
   "source": [
    "**Ex 6**. (10 points)\n",
    "\n",
    "Using the confusion matrix, calculate accuracy, sensitivity, specificity, PPV, NPV and F1 score "
   ]
  },
  {
   "cell_type": "markdown",
   "metadata": {},
   "source": [
    "calculate teh metrics using the confusion matrix. In binary classification output of confution_matrix, the count of true negatives is $C_{0,0}$, false negatives is $C_{1,0}$, true positives is $C_{1,1}$ and false positives is $C_{0,1}$\n",
    "\n",
    "http://scikit-learn.org/stable/modules/classes.html#module-sklearn.metrics"
   ]
  },
  {
   "cell_type": "code",
   "execution_count": 18,
   "metadata": {},
   "outputs": [
    {
     "name": "stdout",
     "output_type": "stream",
     "text": [
      "Accuracy:             0.7947761194029851\n",
      "Sensitivity (Recall): 0.6938775510204082\n",
      "Specificity (FPR):    0.8529411764705882\n",
      "PPV:                  0.7311827956989247\n",
      "NPV:                  0.8285714285714286\n",
      "F1:                   0.7120418848167539\n"
     ]
    }
   ],
   "source": [
    "mat = confusion_matrix(y_test, y_pred)\n",
    "TP = mat[1, 1]\n",
    "FN = mat[1, 0]\n",
    "FP = mat[0, 1]\n",
    "TN = mat[0, 0]\n",
    "\n",
    "accuracy    = (TP + TN) / (TP + FN + FP + TN)\n",
    "sensitivity = (TP     ) / (TP + FN          )\n",
    "specificity = (TN     ) / (          FP + TN)\n",
    "ppv         = (TP     ) / (TP +      FP     )\n",
    "npv         = (TN     ) / (     FN +      TN)\n",
    "\n",
    "recall    = sensitivity\n",
    "precision = ppv\n",
    "f1 = 2 * (precision * recall) / (precision + recall)\n",
    "\n",
    "print(\"Accuracy:            \", accuracy )\n",
    "print(\"Sensitivity (Recall):\", sensitivity)\n",
    "print(\"Specificity (FPR):   \", specificity)\n",
    "print(\"PPV:                 \", ppv)\n",
    "print(\"NPV:                 \", npv)\n",
    "print(\"F1:                  \", f1)"
   ]
  },
  {
   "cell_type": "markdown",
   "metadata": {},
   "source": [
    "Note: I also compare my answer with the sklearn function"
   ]
  },
  {
   "cell_type": "code",
   "execution_count": 19,
   "metadata": {},
   "outputs": [
    {
     "name": "stdout",
     "output_type": "stream",
     "text": [
      "Accuracy:                                  0.7947761194029851\n",
      "Sensitivity (Recall):                      0.6938775510204082\n",
      "Specificity (FPR):                        \n",
      "Positive Predictive Value (PPV, precision) 0.7311827956989247\n",
      "Negative Predictive Value (NPV)\n",
      "F1:                                        0.7120418848167539\n"
     ]
    }
   ],
   "source": [
    "y_pred = classifier.predict(X_test)\n",
    "\n",
    "print(\"Accuracy:                                 \",  accuracy_score(y_test, y_pred))\n",
    "print(\"Sensitivity (Recall):                     \",    recall_score(y_test, y_pred))\n",
    "print(\"Specificity (FPR):                        \")\n",
    "print(\"Positive Predictive Value (PPV, precision)\", precision_score(y_test, y_pred))\n",
    "print(\"Negative Predictive Value (NPV)\")\n",
    "print(\"F1:                                       \",        f1_score(y_test, y_pred))"
   ]
  },
  {
   "cell_type": "markdown",
   "metadata": {},
   "source": [
    "-----"
   ]
  },
  {
   "cell_type": "markdown",
   "metadata": {},
   "source": [
    "**Ex 7**.  (10 points)\n",
    "\n",
    "Plot an ROC curve for the classifier"
   ]
  },
  {
   "cell_type": "markdown",
   "metadata": {},
   "source": [
    "Some reference I found useful [(ref)](https://stackoverflow.com/questions/30051284/plotting-a-roc-curve-in-scikit-yields-only-3-points)\n",
    "\n",
    "more about [decision_function](http://scikit-learn.org/stable/modules/generated/sklearn.linear_model.RidgeClassifier.html#sklearn.linear_model.RidgeClassifier.decision_function)\n",
    "```\n",
    "Predict confidence scores for samples.\n",
    "The confidence score for a sample is the signed distance of that sample to the hyperplane\n",
    "```"
   ]
  },
  {
   "cell_type": "code",
   "execution_count": 20,
   "metadata": {},
   "outputs": [
    {
     "data": {
      "image/png": "[encoded data removed]",
      "text/plain": [
       "<Figure size 432x288 with 1 Axes>"
      ]
     },
     "metadata": {},
     "output_type": "display_data"
    }
   ],
   "source": [
    "### get decision score and get FPR, TPR for different threshold\n",
    "y_score = classifier.decision_function(X_test)\n",
    "fpr, tpr, thresholds = roc_curve(y_test, y_score)\n",
    "\n",
    "### Plot\n",
    "plt.step(fpr, tpr, where='post')\n",
    "plt.title('ROC curve')\n",
    "plt.xlabel('FPR')\n",
    "plt.ylabel('TPR')\n",
    "plt.title(\"AUC: \" + str(np.round(auc(fpr, tpr), 3)))\n",
    "pass"
   ]
  },
  {
   "cell_type": "markdown",
   "metadata": {},
   "source": [
    "-----"
   ]
  },
  {
   "cell_type": "markdown",
   "metadata": {},
   "source": [
    "**Ex. 8** (20 points)\n",
    "\n",
    "- Fit polynomial curves of order 0,1,2,3,4 and 5 to the values of $X$, $y$ given below \n",
    "- Using LOOCV, what is the degree of the best-fitting polynomial model? If this is not the true degree, explain why."
   ]
  },
  {
   "cell_type": "markdown",
   "metadata": {},
   "source": [
    "generate simulated data"
   ]
  },
  {
   "cell_type": "code",
   "execution_count": 21,
   "metadata": {},
   "outputs": [],
   "source": [
    "np.random.seed(23)\n",
    "\n",
    "n = 10\n",
    "k = 3\n",
    "x = np.random.normal(0,1,n)\n",
    "X = np.c_[np.ones(n), x, x**2, x**3]\n",
    "beta = np.random.normal(0, 1, (k+1,1))\n",
    "s = 0.5\n",
    "y = X@beta\n",
    "y += np.random.normal(0, s, y.shape)"
   ]
  },
  {
   "cell_type": "markdown",
   "metadata": {},
   "source": [
    "helper functions in LOOCV"
   ]
  },
  {
   "cell_type": "code",
   "execution_count": 22,
   "metadata": {},
   "outputs": [],
   "source": [
    "leave_one_out = lambda x, idx:    np.concatenate([x[:idx], x[idx + 1:]])\n",
    "seq_along     = lambda x:         range(len(x))\n",
    "model_matrix  = lambda x, deg:    np.array([x**i for i in range(deg + 1)]).T\n",
    "polyfit       = lambda x, y, deg: la.lstsq(model_matrix(x, deg), y)"
   ]
  },
  {
   "cell_type": "markdown",
   "metadata": {},
   "source": [
    "function for LOOCV"
   ]
  },
  {
   "cell_type": "code",
   "execution_count": 23,
   "metadata": {},
   "outputs": [],
   "source": [
    "def loocv(x, y, max_degree = 5):\n",
    "    \"\"\"Perform LOOCV\"\"\"\n",
    "    \n",
    "    ### intialization\n",
    "    rss = np.empty(max_degree + 1)\n",
    "    \n",
    "    ### for different model (different degree)\n",
    "    for deg in range(max_degree + 1):\n",
    "    \n",
    "        ### residual sum of square\n",
    "        rs = 0\n",
    "    \n",
    "        ### for each x\n",
    "        for idx in seq_along(x):\n",
    "        \n",
    "            ### Leave one out\n",
    "            x_loo = leave_one_out(x, idx)\n",
    "            y_loo = leave_one_out(y, idx)\n",
    "        \n",
    "            ### fit the model of n-1 data\n",
    "            β, residual, rank, s = polyfit(x_loo, y_loo, deg)\n",
    "        \n",
    "            ### predict the one left out and sum the squared residuals\n",
    "            # Note: `poly1d([1, 2, 3])` = $x^2 + 2x + 3$\n",
    "            # therefore the beta needs to be reversed for the poly1d function\n",
    "            fit = np.poly1d(β.flatten()[::-1])\n",
    "            rs += (y[idx] - fit(x[idx]))**2\n",
    "    \n",
    "        ### record the residual sum of squared of each model\n",
    "        rss[deg] = rs\n",
    "        \n",
    "    return(rss)"
   ]
  },
  {
   "cell_type": "markdown",
   "metadata": {},
   "source": [
    "Perform LOOCV"
   ]
  },
  {
   "cell_type": "code",
   "execution_count": 24,
   "metadata": {},
   "outputs": [
    {
     "name": "stdout",
     "output_type": "stream",
     "text": [
      "[ 14.47821262  10.29472876   2.71363029  40.34114869 357.48909175\n",
      " 397.33845212]\n"
     ]
    }
   ],
   "source": [
    "rss = loocv(x, y)\n",
    "print(rss)"
   ]
  },
  {
   "cell_type": "markdown",
   "metadata": {},
   "source": [
    "the best model chosen by LOOCV is the model with degree equals to 2"
   ]
  },
  {
   "cell_type": "code",
   "execution_count": 25,
   "metadata": {},
   "outputs": [
    {
     "data": {
      "text/plain": [
       "2"
      ]
     },
     "execution_count": 25,
     "metadata": {},
     "output_type": "execute_result"
    }
   ],
   "source": [
    "np.argmin(rss)"
   ]
  },
  {
   "cell_type": "markdown",
   "metadata": {},
   "source": [
    "Show the model of different degree in fitting all the data points"
   ]
  },
  {
   "cell_type": "code",
   "execution_count": 26,
   "metadata": {},
   "outputs": [
    {
     "data": {
      "image/png": "[encoded data removed]",
      "text/plain": [
       "<Figure size 864x576 with 6 Axes>"
      ]
     },
     "metadata": {},
     "output_type": "display_data"
    }
   ],
   "source": [
    "fig, axes = plt.subplots(2, 3, figsize = (12, 8))\n",
    "plt.subplots_adjust(hspace = 0.5)\n",
    "axes = axes.flatten()\n",
    "\n",
    "x_ = np.linspace(-2, 2)\n",
    "\n",
    "for deg in range(6):\n",
    "    β, residual, rank, s = polyfit(x, y, deg)\n",
    "    fit = np.poly1d(β.flatten()[::-1])\n",
    "    \n",
    "    ax = axes[deg]\n",
    "    ax.set_title(\"Degree = \" + str(deg) + \"\\nResidual:\" + str(np.round(residual,3)[0]))\n",
    "    \n",
    "    ax.plot(x,  y, 'o')\n",
    "    ax.plot(x_, fit(x_))"
   ]
  },
  {
   "cell_type": "markdown",
   "metadata": {},
   "source": [
    "Why didn't the LOOCV capture the true relationship between x and y? To answer this question, below I have simulate the data points under different sample size (n) and under different effect of noise (s)"
   ]
  },
  {
   "cell_type": "code",
   "execution_count": 27,
   "metadata": {},
   "outputs": [],
   "source": [
    "np.random.seed(23)\n",
    "\n",
    "ns  = np.arange(50, 259, 50)\n",
    "ss  = np.arange(0, 100, 10)\n",
    "res = np.empty((len(ns), len(ss)))\n",
    "\n",
    "\n",
    "for idx_n in seq_along(ns):\n",
    "    for idx_s in seq_along(ss):\n",
    "        \n",
    "        n = ns[idx_n]\n",
    "        s = ss[idx_s]\n",
    "        \n",
    "        k = 3\n",
    "        x = np.random.normal(0,1,n)\n",
    "        X = np.c_[np.ones(n), x, x**2, x**3]\n",
    "        beta = np.random.normal(0, 1, (k+1,1))\n",
    "        \n",
    "        y = X@beta\n",
    "        y += np.random.normal(0, s, y.shape)\n",
    "        \n",
    "        rss = loocv(x, y)\n",
    "        res[idx_n, idx_s] = np.argmin(rss)"
   ]
  },
  {
   "cell_type": "code",
   "execution_count": 28,
   "metadata": {},
   "outputs": [
    {
     "data": {
      "text/html": [
       "<div>\n",
       "<style scoped>\n",
       "    .dataframe tbody tr th:only-of-type {\n",
       "        vertical-align: middle;\n",
       "    }\n",
       "\n",
       "    .dataframe tbody tr th {\n",
       "        vertical-align: top;\n",
       "    }\n",
       "\n",
       "    .dataframe thead th {\n",
       "        text-align: right;\n",
       "    }\n",
       "</style>\n",
       "<table border=\"1\" class=\"dataframe\">\n",
       "  <thead>\n",
       "    <tr style=\"text-align: right;\">\n",
       "      <th></th>\n",
       "      <th>0</th>\n",
       "      <th>10</th>\n",
       "      <th>20</th>\n",
       "      <th>30</th>\n",
       "      <th>40</th>\n",
       "      <th>50</th>\n",
       "      <th>60</th>\n",
       "      <th>70</th>\n",
       "      <th>80</th>\n",
       "      <th>90</th>\n",
       "    </tr>\n",
       "  </thead>\n",
       "  <tbody>\n",
       "    <tr>\n",
       "      <th>50</th>\n",
       "      <td>3.0</td>\n",
       "      <td>0.0</td>\n",
       "      <td>0.0</td>\n",
       "      <td>0.0</td>\n",
       "      <td>0.0</td>\n",
       "      <td>0.0</td>\n",
       "      <td>4.0</td>\n",
       "      <td>0.0</td>\n",
       "      <td>4.0</td>\n",
       "      <td>1.0</td>\n",
       "    </tr>\n",
       "    <tr>\n",
       "      <th>100</th>\n",
       "      <td>4.0</td>\n",
       "      <td>0.0</td>\n",
       "      <td>3.0</td>\n",
       "      <td>2.0</td>\n",
       "      <td>0.0</td>\n",
       "      <td>4.0</td>\n",
       "      <td>0.0</td>\n",
       "      <td>0.0</td>\n",
       "      <td>0.0</td>\n",
       "      <td>0.0</td>\n",
       "    </tr>\n",
       "    <tr>\n",
       "      <th>150</th>\n",
       "      <td>3.0</td>\n",
       "      <td>1.0</td>\n",
       "      <td>3.0</td>\n",
       "      <td>1.0</td>\n",
       "      <td>3.0</td>\n",
       "      <td>0.0</td>\n",
       "      <td>0.0</td>\n",
       "      <td>0.0</td>\n",
       "      <td>0.0</td>\n",
       "      <td>2.0</td>\n",
       "    </tr>\n",
       "    <tr>\n",
       "      <th>200</th>\n",
       "      <td>3.0</td>\n",
       "      <td>1.0</td>\n",
       "      <td>3.0</td>\n",
       "      <td>3.0</td>\n",
       "      <td>3.0</td>\n",
       "      <td>0.0</td>\n",
       "      <td>1.0</td>\n",
       "      <td>0.0</td>\n",
       "      <td>0.0</td>\n",
       "      <td>0.0</td>\n",
       "    </tr>\n",
       "    <tr>\n",
       "      <th>250</th>\n",
       "      <td>3.0</td>\n",
       "      <td>3.0</td>\n",
       "      <td>3.0</td>\n",
       "      <td>3.0</td>\n",
       "      <td>0.0</td>\n",
       "      <td>1.0</td>\n",
       "      <td>0.0</td>\n",
       "      <td>3.0</td>\n",
       "      <td>3.0</td>\n",
       "      <td>0.0</td>\n",
       "    </tr>\n",
       "  </tbody>\n",
       "</table>\n",
       "</div>"
      ],
      "text/plain": [
       "      0    10   20   30   40   50   60   70   80   90\n",
       "50   3.0  0.0  0.0  0.0  0.0  0.0  4.0  0.0  4.0  1.0\n",
       "100  4.0  0.0  3.0  2.0  0.0  4.0  0.0  0.0  0.0  0.0\n",
       "150  3.0  1.0  3.0  1.0  3.0  0.0  0.0  0.0  0.0  2.0\n",
       "200  3.0  1.0  3.0  3.0  3.0  0.0  1.0  0.0  0.0  0.0\n",
       "250  3.0  3.0  3.0  3.0  0.0  1.0  0.0  3.0  3.0  0.0"
      ]
     },
     "execution_count": 28,
     "metadata": {},
     "output_type": "execute_result"
    }
   ],
   "source": [
    "pd.DataFrame(res, index = ns, columns = ss)"
   ]
  },
  {
   "cell_type": "markdown",
   "metadata": {},
   "source": [
    "The rows are different number of data points `n` and the columns are different effect of noise `s`. The value of heatmap is the degree of model chosen by LOOCV. The results show that the three are more concentrated in the lower triangle while zero appear more often in the up-right corner. On one hand, when there is no effect of noise (s = 0), LOOCV can easily figure out the true relationship between x and y is cubic. As the effect of noise increase, since the model are trying to fit the noise, LOOCV would choose the degree zero (model with intercept only) to prevent overfitting in model with higher degree. However, LOOCV could still figure out the true relationship if the model is given more data points.\n",
    "\n",
    "Therefore, in our case (where n = 10 and s = 0.5), the reason for LOOCV not choosing the degree as three is because the number of data points are not enough given the current effect of noise."
   ]
  }
 ],
 "metadata": {
  "kernelspec": {
   "display_name": "Python 3",
   "language": "python",
   "name": "python3"
  },
  "language_info": {
   "codemirror_mode": {
    "name": "ipython",
    "version": 3
   },
   "file_extension": ".py",
   "mimetype": "text/x-python",
   "name": "python",
   "nbconvert_exporter": "python",
   "pygments_lexer": "ipython3",
   "version": "3.5.4"
  }
 },
 "nbformat": 4,
 "nbformat_minor": 2
}
