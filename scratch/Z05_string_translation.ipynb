{
 "cells": [
  {
   "cell_type": "code",
   "execution_count": 1,
   "metadata": {},
   "outputs": [],
   "source": [
    "from string import punctuation"
   ]
  },
  {
   "cell_type": "markdown",
   "metadata": {},
   "source": [
    "https://www.tutorialspoint.com/python3/string_maketrans.htm\n",
    "\n",
    "https://stackoverflow.com/questions/45068557/pythonic-way-to-remove-characters-in-string"
   ]
  },
  {
   "cell_type": "code",
   "execution_count": 2,
   "metadata": {},
   "outputs": [
    {
     "name": "stdout",
     "output_type": "stream",
     "text": [
      "this is string example....wow!!!\n",
      "th3s 3s str3ng 2x1mpl2....w4w!!!\n",
      "this is string examplewow\n"
     ]
    }
   ],
   "source": [
    "intab   = \"aeiou\"\n",
    "outtab  = \"12345\"\n",
    "trantab1 = str.maketrans(intab, outtab)\n",
    "trantab2 = str.maketrans(\"\", \"\", punctuation)\n",
    "\n",
    "string = \"this is string example....wow!!!\";\n",
    "print(string)\n",
    "print(string.translate(trantab1))\n",
    "print(string.translate(trantab2))"
   ]
  },
  {
   "cell_type": "code",
   "execution_count": 6,
   "metadata": {},
   "outputs": [
    {
     "name": "stdout",
     "output_type": "stream",
     "text": [
      "this is string example....wow!!!\n",
      "this is string example    wow   \n"
     ]
    }
   ],
   "source": [
    "trantab = str.maketrans(punctuation, \" \" * len(punctuation))\n",
    "\n",
    "string = \"this is string example....wow!!!\";\n",
    "print(string)\n",
    "print(string.translate(trantab))"
   ]
  },
  {
   "cell_type": "markdown",
   "metadata": {},
   "source": [
    "https://stackoverflow.com/questions/3845423/remove-empty-strings-from-a-list-of-strings"
   ]
  },
  {
   "cell_type": "code",
   "execution_count": 10,
   "metadata": {},
   "outputs": [
    {
     "name": "stdout",
     "output_type": "stream",
     "text": [
      "['this', 'is', 'string', 'example', '', '', '', 'wow', '', '', '']\n",
      "<filter object at 0x7f301c097ac8>\n"
     ]
    }
   ],
   "source": [
    "str_lst = string.translate(trantab).split(\" \")\n",
    "print(str_lst)\n",
    "\n",
    "str_lst = filter(None, str_lst)\n",
    "print(str_lst)"
   ]
  },
  {
   "cell_type": "code",
   "execution_count": 11,
   "metadata": {},
   "outputs": [
    {
     "name": "stdout",
     "output_type": "stream",
     "text": [
      "this\n",
      "is\n",
      "string\n",
      "example\n",
      "wow\n"
     ]
    }
   ],
   "source": [
    "for s in str_lst:\n",
    "    print(s)"
   ]
  }
 ],
 "metadata": {
  "kernelspec": {
   "display_name": "Python 3",
   "language": "python",
   "name": "python3"
  },
  "language_info": {
   "codemirror_mode": {
    "name": "ipython",
    "version": 3
   },
   "file_extension": ".py",
   "mimetype": "text/x-python",
   "name": "python",
   "nbconvert_exporter": "python",
   "pygments_lexer": "ipython3",
   "version": "3.5.4"
  }
 },
 "nbformat": 4,
 "nbformat_minor": 2
}
