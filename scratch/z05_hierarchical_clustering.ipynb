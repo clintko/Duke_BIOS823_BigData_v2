{
 "cells": [
  {
   "cell_type": "markdown",
   "metadata": {},
   "source": [
    "https://joernhees.de/blog/2015/08/26/scipy-hierarchical-clustering-and-dendrogram-tutorial/\n",
    "\n",
    "https://docs.scipy.org/doc/scipy/reference/generated/scipy.cluster.hierarchy.linkage.html\n",
    "\n",
    "https://docs.scipy.org/doc/scipy-0.15.1/reference/generated/scipy.cluster.hierarchy.dendrogram.html"
   ]
  },
  {
   "cell_type": "code",
   "execution_count": 17,
   "metadata": {},
   "outputs": [],
   "source": [
    "from matplotlib import pyplot as plt\n",
    "from scipy.cluster.hierarchy import dendrogram, linkage\n",
    "import numpy as np\n",
    "\n",
    "np.set_printoptions(precision=5, suppress=True)  # suppress scientific float notation"
   ]
  },
  {
   "cell_type": "markdown",
   "metadata": {},
   "source": [
    "generate data points"
   ]
  },
  {
   "cell_type": "code",
   "execution_count": 3,
   "metadata": {},
   "outputs": [
    {
     "name": "stdout",
     "output_type": "stream",
     "text": [
      "(150, 2)\n"
     ]
    },
    {
     "data": {
      "image/png": "[encoded data removed]",
      "text/plain": [
       "<Figure size 432x288 with 1 Axes>"
      ]
     },
     "metadata": {},
     "output_type": "display_data"
    }
   ],
   "source": [
    "# generate two clusters: a with 100 points, b with 50:\n",
    "np.random.seed(4711)  # for repeatability of this tutorial\n",
    "a = np.random.multivariate_normal([10, 0], [[3, 1], [1, 4]], size=[100,])\n",
    "b = np.random.multivariate_normal([0, 20], [[3, 1], [1, 4]], size=[50,])\n",
    "X = np.concatenate((a, b),)\n",
    "print(X.shape)  # 150 samples with 2 dimensions\n",
    "plt.scatter(X[:,0], X[:,1])\n",
    "plt.show()"
   ]
  },
  {
   "cell_type": "markdown",
   "metadata": {},
   "source": [
    "Perform the Hierarchical Clustering"
   ]
  },
  {
   "cell_type": "code",
   "execution_count": 4,
   "metadata": {},
   "outputs": [],
   "source": [
    "# generate the linkage matrix\n",
    "Z = linkage(X, 'ward')"
   ]
  },
  {
   "cell_type": "code",
   "execution_count": 6,
   "metadata": {},
   "outputs": [
    {
     "data": {
      "text/plain": [
       "(149, 4)"
      ]
     },
     "execution_count": 6,
     "metadata": {},
     "output_type": "execute_result"
    }
   ],
   "source": [
    "Z.shape"
   ]
  },
  {
   "cell_type": "code",
   "execution_count": 7,
   "metadata": {},
   "outputs": [
    {
     "data": {
      "text/plain": [
       "0.9800148387574268"
      ]
     },
     "execution_count": 7,
     "metadata": {},
     "output_type": "execute_result"
    }
   ],
   "source": [
    "from scipy.cluster.hierarchy import cophenet\n",
    "from scipy.spatial.distance import pdist\n",
    "\n",
    "c, coph_dists = cophenet(Z, pdist(X))\n",
    "c"
   ]
  },
  {
   "cell_type": "markdown",
   "metadata": {},
   "source": [
    "Z[i] will tell us which clusters were merged in the i-th iteration, let's take a look at the first two points that were merged:\n",
    "\n",
    "We can see that ach row of the resulting array has the format [idx1, idx2, dist, sample_count]."
   ]
  },
  {
   "cell_type": "code",
   "execution_count": 14,
   "metadata": {},
   "outputs": [
    {
     "data": {
      "text/plain": [
       "array([52.     , 53.     ,  0.04151,  2.     ])"
      ]
     },
     "execution_count": 14,
     "metadata": {},
     "output_type": "execute_result"
    }
   ],
   "source": [
    "Z[0]"
   ]
  },
  {
   "cell_type": "markdown",
   "metadata": {},
   "source": [
    "Let's have a look at the first 20 iterations:"
   ]
  },
  {
   "cell_type": "code",
   "execution_count": 22,
   "metadata": {},
   "outputs": [
    {
     "data": {
      "text/plain": [
       "array([[ 52.     ,  53.     ,   0.04151,   2.     ],\n",
       "       [ 14.     ,  79.     ,   0.05914,   2.     ],\n",
       "       [ 33.     ,  68.     ,   0.07107,   2.     ],\n",
       "       [ 17.     ,  73.     ,   0.07137,   2.     ],\n",
       "       [  1.     ,   8.     ,   0.07543,   2.     ],\n",
       "       [ 85.     ,  95.     ,   0.10928,   2.     ],\n",
       "       [108.     , 131.     ,   0.11007,   2.     ],\n",
       "       [  9.     ,  66.     ,   0.11302,   2.     ],\n",
       "       [ 15.     ,  69.     ,   0.11429,   2.     ],\n",
       "       [ 63.     ,  98.     ,   0.1212 ,   2.     ],\n",
       "       [107.     , 115.     ,   0.12167,   2.     ],\n",
       "       [ 65.     ,  74.     ,   0.1249 ,   2.     ],\n",
       "       [ 58.     ,  61.     ,   0.14028,   2.     ],\n",
       "       [ 62.     , 152.     ,   0.1726 ,   3.     ],\n",
       "       [ 41.     , 158.     ,   0.1779 ,   3.     ],\n",
       "       [ 10.     ,  83.     ,   0.18635,   2.     ],\n",
       "       [114.     , 139.     ,   0.20419,   2.     ],\n",
       "       [ 39.     ,  88.     ,   0.20628,   2.     ],\n",
       "       [ 70.     ,  96.     ,   0.21931,   2.     ],\n",
       "       [ 46.     ,  50.     ,   0.22049,   2.     ]])"
      ]
     },
     "execution_count": 22,
     "metadata": {},
     "output_type": "execute_result"
    }
   ],
   "source": [
    "Z[:20]"
   ]
  },
  {
   "cell_type": "markdown",
   "metadata": {},
   "source": [
    "We can observe that until iteration 13 the algorithm only directly merged original samples. We can also observe the monotonic increase of the distance.\n",
    "\n",
    "In iteration 13 the algorithm decided to merge cluster indices 62 with 152. If you paid attention the 152 should astonish you as we only have original sample indices 0 to 149 for our 150 samples. All indices idx >= len(X) actually refer to the cluster formed in Z[idx - len(X)].\n",
    "\n",
    "This means that while idx 149 corresponds to X[149] that idx 150 corresponds to the cluster formed in Z[0], idx 151 to Z[1], 152 to Z[2], ."
   ]
  },
  {
   "cell_type": "code",
   "execution_count": 26,
   "metadata": {},
   "outputs": [
    {
     "data": {
      "text/plain": [
       "array([[ 52.     ,  53.     ,   0.04151,   2.     ,   0.     ],\n",
       "       [ 14.     ,  79.     ,   0.05914,   2.     ,   1.     ],\n",
       "       [ 33.     ,  68.     ,   0.07107,   2.     ,   2.     ],\n",
       "       [ 17.     ,  73.     ,   0.07137,   2.     ,   3.     ],\n",
       "       [  1.     ,   8.     ,   0.07543,   2.     ,   4.     ],\n",
       "       [ 85.     ,  95.     ,   0.10928,   2.     ,   5.     ],\n",
       "       [108.     , 131.     ,   0.11007,   2.     ,   6.     ],\n",
       "       [  9.     ,  66.     ,   0.11302,   2.     ,   7.     ],\n",
       "       [ 15.     ,  69.     ,   0.11429,   2.     ,   8.     ],\n",
       "       [ 63.     ,  98.     ,   0.1212 ,   2.     ,   9.     ],\n",
       "       [107.     , 115.     ,   0.12167,   2.     ,  10.     ],\n",
       "       [ 65.     ,  74.     ,   0.1249 ,   2.     ,  11.     ],\n",
       "       [ 58.     ,  61.     ,   0.14028,   2.     ,  12.     ],\n",
       "       [ 62.     , 152.     ,   0.1726 ,   3.     ,  13.     ],\n",
       "       [ 41.     , 158.     ,   0.1779 ,   3.     ,  14.     ],\n",
       "       [ 10.     ,  83.     ,   0.18635,   2.     ,  15.     ],\n",
       "       [114.     , 139.     ,   0.20419,   2.     ,  16.     ],\n",
       "       [ 39.     ,  88.     ,   0.20628,   2.     ,  17.     ],\n",
       "       [ 70.     ,  96.     ,   0.21931,   2.     ,  18.     ],\n",
       "       [ 46.     ,  50.     ,   0.22049,   2.     ,  19.     ]])"
      ]
     },
     "execution_count": 26,
     "metadata": {},
     "output_type": "execute_result"
    }
   ],
   "source": [
    "np.c_[Z[:20], np.arange(20)]"
   ]
  },
  {
   "cell_type": "markdown",
   "metadata": {},
   "source": [
    "plot dendrogram"
   ]
  },
  {
   "cell_type": "code",
   "execution_count": 27,
   "metadata": {},
   "outputs": [
    {
     "data": {
      "image/png": "[encoded data removed]",
      "text/plain": [
       "<Figure size 1800x720 with 1 Axes>"
      ]
     },
     "metadata": {},
     "output_type": "display_data"
    }
   ],
   "source": [
    "plt.figure(figsize=(25, 10))\n",
    "plt.title('Hierarchical Clustering Dendrogram')\n",
    "plt.xlabel('sample index')\n",
    "plt.ylabel('distance')\n",
    "dendrogram(\n",
    "    Z,\n",
    "    leaf_rotation=90.,  # rotates the x axis labels\n",
    "    leaf_font_size=8.,  # font size for the x axis labels\n",
    ")\n",
    "plt.show()"
   ]
  }
 ],
 "metadata": {
  "kernelspec": {
   "display_name": "Python 3",
   "language": "python",
   "name": "python3"
  },
  "language_info": {
   "codemirror_mode": {
    "name": "ipython",
    "version": 3
   },
   "file_extension": ".py",
   "mimetype": "text/x-python",
   "name": "python",
   "nbconvert_exporter": "python",
   "pygments_lexer": "ipython3",
   "version": "3.5.4"
  }
 },
 "nbformat": 4,
 "nbformat_minor": 2
}
