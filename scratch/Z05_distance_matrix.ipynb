{
 "cells": [
  {
   "cell_type": "code",
   "execution_count": 21,
   "metadata": {},
   "outputs": [],
   "source": [
    "import numpy as np\n",
    "import scipy.linalg as la\n",
    "import itertools as it\n",
    "from scipy.spatial.distance import pdist"
   ]
  },
  {
   "cell_type": "code",
   "execution_count": 5,
   "metadata": {},
   "outputs": [],
   "source": [
    "M = np.array([\n",
    "    [1, 2, 3],\n",
    "    [4, 5, 6]\n",
    "])\n",
    "\n",
    "M = M.T"
   ]
  },
  {
   "cell_type": "code",
   "execution_count": 6,
   "metadata": {},
   "outputs": [
    {
     "data": {
      "text/plain": [
       "array([[1, 4],\n",
       "       [2, 5],\n",
       "       [3, 6]])"
      ]
     },
     "execution_count": 6,
     "metadata": {},
     "output_type": "execute_result"
    }
   ],
   "source": [
    "M"
   ]
  },
  {
   "cell_type": "markdown",
   "metadata": {},
   "source": [
    "pdist"
   ]
  },
  {
   "cell_type": "code",
   "execution_count": 7,
   "metadata": {},
   "outputs": [
    {
     "data": {
      "text/plain": [
       "array([1.41421356, 2.82842712, 1.41421356])"
      ]
     },
     "execution_count": 7,
     "metadata": {},
     "output_type": "execute_result"
    }
   ],
   "source": [
    "pdist(M)"
   ]
  },
  {
   "cell_type": "code",
   "execution_count": 8,
   "metadata": {},
   "outputs": [
    {
     "data": {
      "text/plain": [
       "array([2., 8., 2.])"
      ]
     },
     "execution_count": 8,
     "metadata": {},
     "output_type": "execute_result"
    }
   ],
   "source": [
    "pdist(M)**2"
   ]
  },
  {
   "cell_type": "markdown",
   "metadata": {},
   "source": [
    "https://math.stackexchange.com/questions/2240429/pairwise-distance-matrix"
   ]
  },
  {
   "cell_type": "code",
   "execution_count": 10,
   "metadata": {},
   "outputs": [
    {
     "data": {
      "text/plain": [
       "array([[0., 2., 8.],\n",
       "       [2., 0., 2.],\n",
       "       [8., 2., 0.]])"
      ]
     },
     "execution_count": 10,
     "metadata": {},
     "output_type": "execute_result"
    }
   ],
   "source": [
    "G = M @ M.T\n",
    "g = np.diag(G).reshape(-1, 1)\n",
    "vone = np.ones(3).reshape(-1, 1)\n",
    "\n",
    "g @ vone.T + vone @ g.T - 2 * G"
   ]
  },
  {
   "cell_type": "markdown",
   "metadata": {},
   "source": [
    "https://stackoverflow.com/questions/27948363/numpy-broadcast-to-perform-euclidean-distance-vectorized"
   ]
  },
  {
   "cell_type": "code",
   "execution_count": 13,
   "metadata": {},
   "outputs": [
    {
     "data": {
      "text/plain": [
       "array([[0, 2, 8],\n",
       "       [2, 0, 2],\n",
       "       [8, 2, 0]])"
      ]
     },
     "execution_count": 13,
     "metadata": {},
     "output_type": "execute_result"
    }
   ],
   "source": [
    "a = M\n",
    "b = M\n",
    "(np.square(a[:, np.newaxis] - b).sum(axis = 2))"
   ]
  },
  {
   "cell_type": "code",
   "execution_count": null,
   "metadata": {},
   "outputs": [],
   "source": []
  },
  {
   "cell_type": "code",
   "execution_count": null,
   "metadata": {},
   "outputs": [],
   "source": []
  },
  {
   "cell_type": "code",
   "execution_count": 3,
   "metadata": {},
   "outputs": [
    {
     "name": "stdout",
     "output_type": "stream",
     "text": [
      "(3, 1, 2)\n",
      "(1, 3, 2)\n"
     ]
    }
   ],
   "source": [
    "M = np.array([[1,2,3],[4,5,6]])\n",
    "X = M.T\n",
    "\n",
    "#X = X[:, np.newaxis]\n",
    "X1 = np.expand_dims(X, axis = 1)\n",
    "X2 = np.expand_dims(X, axis = 0)\n",
    "\n",
    "print(X1.shape)\n",
    "print(X2.shape)"
   ]
  },
  {
   "cell_type": "code",
   "execution_count": 4,
   "metadata": {},
   "outputs": [
    {
     "data": {
      "text/plain": [
       "array([[0, 2, 8],\n",
       "       [2, 0, 2],\n",
       "       [8, 2, 0]])"
      ]
     },
     "execution_count": 4,
     "metadata": {},
     "output_type": "execute_result"
    }
   ],
   "source": [
    "D = X1 - X2\n",
    "np.sum(D**2, axis = 2)"
   ]
  },
  {
   "cell_type": "code",
   "execution_count": 55,
   "metadata": {},
   "outputs": [
    {
     "name": "stdout",
     "output_type": "stream",
     "text": [
      "[[0.05882353 0.04462475 0.03529412]\n",
      " [0.04462475 0.03448276 0.02758621]\n",
      " [0.03529412 0.02758621 0.02222222]]\n",
      "=======\n",
      "[[0.94117647 0.95537525 0.96470588]\n",
      " [0.95537525 0.96551724 0.97241379]\n",
      " [0.96470588 0.97241379 0.97777778]]\n"
     ]
    }
   ],
   "source": [
    "k = X1.shape[0]\n",
    "\n",
    "D = X1 * X2\n",
    "D = np.sum(D, axis = 2) \n",
    "norm = np.diagonal(D).reshape(-1, 1)\n",
    "vone = np.ones(D.shape[0]).reshape(-1, 1)\n",
    "\n",
    "print(D / (norm @ vone.T) / (vone @ norm.T))\n",
    "print(\"=======\")\n",
    "print(1 - D / (norm @ vone.T) / (vone @ norm.T))"
   ]
  },
  {
   "cell_type": "markdown",
   "metadata": {},
   "source": [
    "this won't work"
   ]
  },
  {
   "cell_type": "code",
   "execution_count": 78,
   "metadata": {},
   "outputs": [
    {
     "name": "stdout",
     "output_type": "stream",
     "text": [
      "[10 25]\n"
     ]
    }
   ],
   "source": [
    "x = M[:, 0]\n",
    "y = M[:, 1]\n",
    "\n",
    "X1 = np.expand_dims(x, axis = 1)\n",
    "X2 = np.expand_dims(y, axis = 0)\n",
    "\n",
    "D = np.sum(X1 * X2, axis = 0)\n",
    "print(D)"
   ]
  },
  {
   "cell_type": "markdown",
   "metadata": {},
   "source": [
    "this works"
   ]
  },
  {
   "cell_type": "code",
   "execution_count": 80,
   "metadata": {},
   "outputs": [
    {
     "name": "stdout",
     "output_type": "stream",
     "text": [
      "[[17 22 27]\n",
      " [22 29 36]\n",
      " [27 36 45]]\n"
     ]
    }
   ],
   "source": [
    "M = np.array([[1,2,3],[4,5,6]])\n",
    "X = M.T\n",
    "\n",
    "X1 = np.expand_dims(X, axis = 1)\n",
    "X2 = np.expand_dims(X, axis = 0)\n",
    "\n",
    "D = np.sum(X1 * X2, axis = 2)\n",
    "print(D)"
   ]
  },
  {
   "cell_type": "code",
   "execution_count": 83,
   "metadata": {},
   "outputs": [
    {
     "data": {
      "text/plain": [
       "()"
      ]
     },
     "execution_count": 83,
     "metadata": {},
     "output_type": "execute_result"
    }
   ],
   "source": [
    "X1 = M[:, 0]\n",
    "X2 = M[:, 1]\n",
    "\n",
    "D = X1 * X2\n",
    "D = np.sum(D, axis = 0)\n",
    "D.shape"
   ]
  },
  {
   "cell_type": "code",
   "execution_count": 84,
   "metadata": {},
   "outputs": [
    {
     "data": {
      "text/plain": [
       "2.0305431848689306"
      ]
     },
     "execution_count": 84,
     "metadata": {},
     "output_type": "execute_result"
    }
   ],
   "source": [
    "np.sqrt(la.norm(X1))"
   ]
  },
  {
   "cell_type": "code",
   "execution_count": 87,
   "metadata": {},
   "outputs": [
    {
     "data": {
      "text/plain": [
       "()"
      ]
     },
     "execution_count": 87,
     "metadata": {},
     "output_type": "execute_result"
    }
   ],
   "source": [
    "X1 = M[:, 0]\n",
    "X2 = M[:, 1]\n",
    "\n",
    "D = X1 * X2\n",
    "D = np.sum(D, axis = 0)\n",
    "D = np.array(D)\n",
    "norm = np.square(la.norm(X1), \n",
    "vone = np.ones(D.shape[0]).reshape(-1, 1)\n",
    "\n",
    "print(D / (norm @ vone.T) / (vone @ norm.T))\n",
    "print(\"=======\")\n",
    "print(1 - D / (norm @ vone.T) / (vone @ norm.T))"
   ]
  },
  {
   "cell_type": "code",
   "execution_count": 95,
   "metadata": {},
   "outputs": [
    {
     "data": {
      "text/plain": [
       "array([[17],\n",
       "       [29],\n",
       "       [45]])"
      ]
     },
     "execution_count": 95,
     "metadata": {},
     "output_type": "execute_result"
    }
   ],
   "source": [
    "norm"
   ]
  },
  {
   "cell_type": "code",
   "execution_count": 103,
   "metadata": {},
   "outputs": [
    {
     "name": "stdout",
     "output_type": "stream",
     "text": [
      "[[17]\n",
      " [29]\n",
      " [45]]\n",
      "[[17 29 45]]\n"
     ]
    }
   ],
   "source": [
    "print(np.sum(X1 * X1, axis = 2))\n",
    "print(np.sum(X2 * X2, axis = 2))"
   ]
  },
  {
   "cell_type": "code",
   "execution_count": 106,
   "metadata": {},
   "outputs": [
    {
     "name": "stdout",
     "output_type": "stream",
     "text": [
      "[[17 22 27]\n",
      " [22 29 36]\n",
      " [27 36 45]]\n",
      "=======\n",
      "[[1.         0.99083017 0.97618706]\n",
      " [0.99083017 1.         0.99654576]\n",
      " [0.97618706 0.99654576 1.        ]]\n"
     ]
    }
   ],
   "source": [
    "M = np.array([[1,2,3],[4,5,6]])\n",
    "X = M.T\n",
    "\n",
    "X1 = np.expand_dims(X, axis = 1)\n",
    "X2 = np.expand_dims(X, axis = 0)\n",
    "\n",
    "D = X1 * X2\n",
    "D = np.sum(D, axis = 2) \n",
    "norm = np.sqrt(np.diagonal(D)).reshape(-1, 1)\n",
    "vone = np.ones(D.shape[0]).reshape(-1, 1)\n",
    "\n",
    "print(D)\n",
    "print(\"=======\")\n",
    "print(D / (norm @ vone.T) / (vone @ norm.T))"
   ]
  },
  {
   "cell_type": "code",
   "execution_count": 109,
   "metadata": {},
   "outputs": [
    {
     "name": "stdout",
     "output_type": "stream",
     "text": [
      "[[1.         0.99083017 0.97618706]\n",
      " [0.99083017 1.         0.99654576]\n",
      " [0.97618706 0.99654576 1.        ]]\n"
     ]
    }
   ],
   "source": [
    "M = np.array([[1,2,3],[4,5,6]])\n",
    "X = M.T\n",
    "\n",
    "X1 = np.expand_dims(X, axis = 1)\n",
    "X2 = np.expand_dims(X, axis = 0)\n",
    "\n",
    "D = X1 * X2\n",
    "D = np.sum(D, axis = 2) \n",
    "\n",
    "norm1 = np.sqrt(np.sum(X1 * X1, axis = 2))\n",
    "norm2 = np.sqrt(np.sum(X2 * X2, axis = 2))\n",
    "\n",
    "print(D / norm1 / norm2)"
   ]
  },
  {
   "cell_type": "code",
   "execution_count": null,
   "metadata": {},
   "outputs": [],
   "source": [
    "k = X1.shape[0]\n",
    "\n",
    "D = X1 * X2\n",
    "D = np.sum(D, axis = 2) \n",
    "norm = np.diagonal(D).reshape(-1, 1)\n",
    "vone = np.ones(D.shape[0]).reshape(-1, 1)\n",
    "\n",
    "print(D / (norm @ vone.T) / (vone @ norm.T))\n",
    "print(\"=======\")\n",
    "print(1 - D / (norm @ vone.T) / (vone @ norm.T))"
   ]
  },
  {
   "cell_type": "code",
   "execution_count": null,
   "metadata": {},
   "outputs": [],
   "source": []
  },
  {
   "cell_type": "code",
   "execution_count": null,
   "metadata": {},
   "outputs": [],
   "source": []
  },
  {
   "cell_type": "markdown",
   "metadata": {},
   "source": [
    "find the answer for cosine distance"
   ]
  },
  {
   "cell_type": "code",
   "execution_count": 46,
   "metadata": {},
   "outputs": [
    {
     "data": {
      "text/plain": [
       "1.0"
      ]
     },
     "execution_count": 46,
     "metadata": {},
     "output_type": "execute_result"
    }
   ],
   "source": [
    "dist_cosine(np.array([1, 2]), np.array([1, 2]))"
   ]
  },
  {
   "cell_type": "code",
   "execution_count": 47,
   "metadata": {},
   "outputs": [
    {
     "data": {
      "text/plain": [
       "array([0.00916983, 0.02381294, 0.00345424])"
      ]
     },
     "execution_count": 47,
     "metadata": {},
     "output_type": "execute_result"
    }
   ],
   "source": [
    "pdist(M.T, metric = \"cosine\")"
   ]
  },
  {
   "cell_type": "code",
   "execution_count": 111,
   "metadata": {},
   "outputs": [
    {
     "data": {
      "text/plain": [
       "array([[0.        , 0.00916983, 0.02381294],\n",
       "       [0.00916983, 0.        , 0.00345424],\n",
       "       [0.02381294, 0.00345424, 0.        ]])"
      ]
     },
     "execution_count": 111,
     "metadata": {},
     "output_type": "execute_result"
    }
   ],
   "source": [
    "my_pdist_row_loop(M.T, dist_cosine)"
   ]
  },
  {
   "cell_type": "code",
   "execution_count": null,
   "metadata": {},
   "outputs": [],
   "source": []
  },
  {
   "cell_type": "code",
   "execution_count": 10,
   "metadata": {},
   "outputs": [],
   "source": [
    "import doctest"
   ]
  },
  {
   "cell_type": "code",
   "execution_count": 51,
   "metadata": {},
   "outputs": [],
   "source": [
    "def dist_euclidean_sq(x, y = None, axis = 0):\n",
    "    \"\"\"calculate squared Euclidean distance of numpy vector x and y; if only one vector\n",
    "    \n",
    "    >>> x = np.array([3, 4])\n",
    "    >>> y = np.array([0, 0])\n",
    "    >>> z = np.array([-2, -8])\n",
    "    >>> dist_euclidean_sq(x)\n",
    "    25.0\n",
    "    >>> dist_euclidean_sq(x, y)\n",
    "    25.0\n",
    "    >>> dist_euclidean_sq(y, x)\n",
    "    25.0\n",
    "    >>> dist_euclidean_sq(x, z)\n",
    "    169.0\n",
    "    \"\"\"\n",
    "    ### coerce the type to float\n",
    "    x = x.copy().astype(np.float)\n",
    "    \n",
    "    ### calculate squared euclidean distance\n",
    "    if y is None:\n",
    "        # one vector only\n",
    "        dist = np.sum(np.square(x), axis = axis)     \n",
    "    else:\n",
    "        # input two vectors\n",
    "        dist = np.sum(np.square(x - y), axis = axis) \n",
    "        \n",
    "    return dist\n",
    "\n",
    "def dist_euclidean(x, y = None, axis = 0):\n",
    "    \"\"\"calculate Euclidean distance of numpy vector x and y\n",
    "    \n",
    "    >>> x = np.array([3, 4])\n",
    "    >>> y = np.array([0, 0])\n",
    "    >>> z = np.array([-2, -8])\n",
    "    >>> dist_euclidean(x)\n",
    "    5.0\n",
    "    >>> dist_euclidean(x, y)\n",
    "    5.0\n",
    "    >>> dist_euclidean(y, x)\n",
    "    5.0\n",
    "    >>> dist_euclidean(x, z)\n",
    "    13.0\n",
    "    \"\"\"\n",
    "    dist_sq = dist_euclidean_sq(x, y, axis = axis) #, axis = axis)\n",
    "    return(dist_sq**0.5)\n",
    "\n",
    "def dist_cosine(x, y = None, axis = 0):\n",
    "    \"\"\"calculate cosince distance of input vectors\n",
    "    >>> x = np.array([1, 1])\n",
    "    >>> y = np.array([1, 0]) # x axis\n",
    "    \n",
    "    >>> d = dist_cosine(x, y)\n",
    "    >>> np.allclose(d, 1 - np.cos(np.pi / 4)) # expect: 45 degree\n",
    "    True\n",
    "    \n",
    "    >>> d = dist_cosine(y, x)                 # check d(x, y) = d(y, x)\n",
    "    >>> np.allclose(d, 1 - np.cos(np.pi / 4)) # expect: 45 degree\n",
    "    True\n",
    "    \n",
    "    >>> x = np.array([1, 3**0.5])\n",
    "    >>> y = np.array([1, 0]) # x axis\n",
    "    >>> d = dist_cosine(x, y)\n",
    "    >>> np.allclose(d, 1 - np.cos(np.pi / 3)) # expect: 60 degree\n",
    "    True\n",
    "    \n",
    "    >>> x = np.array([1, 3**0.5])\n",
    "    >>> y = np.array([0, 1]) # y axis\n",
    "    >>> d = dist_cosine(x, y)\n",
    "    >>> np.allclose(d, 1 - np.cos(np.pi / 6)) # expect: 30 degree\n",
    "    True\n",
    "    \"\"\"\n",
    "    #scipy.linalg.norm\n",
    "    #transform the extend array to apply the function on just \n",
    "    # axis = 2\n",
    "    # extends axis\n",
    "    # y reshape transform\n",
    "    \n",
    "    #dist = 1 - np.dot(x, y) / np.dot(x, x)**0.5 / np.dot(y, y)**0.5     \n",
    "    #dist = 1 - np.dot(x, y) / la.norm(x) / la.norm(y)\n",
    "    \n",
    "    D = X1 * X2\n",
    "    D = np.sum(D, axis = 2) \n",
    "    dist = 1 - D / (norm @ vone.T) / (vone @ norm.T)\n",
    "    \n",
    "    return dist\n",
    "\n",
    "\n",
    "### test each function; if passed, no output from the run_docstring_examples\n",
    "doctest.run_docstring_examples(dist_euclidean_sq, globals())\n",
    "doctest.run_docstring_examples(dist_euclidean,    globals())\n",
    "doctest.run_docstring_examples(dist_cosine,       globals())"
   ]
  },
  {
   "cell_type": "code",
   "execution_count": 22,
   "metadata": {},
   "outputs": [],
   "source": [
    "def my_pdist_row_loop(M, distance_func):\n",
    "    \"\"\"calculate the pairwise-distance matrix given the matrix M and some arbitrary distance function\n",
    "    \n",
    "    Notes:\n",
    "    - M is a collection of row vectors\n",
    "    - using looping instead of broadcasting\n",
    "    \n",
    "    >>> M = np.array([[1,2,3],[4,5,6]])\n",
    "    >>> dist = my_pdist_row_loop(M.T, dist_euclidean) # results\n",
    "    >>> dist_exp = np.array([                         # expected\n",
    "    ... [ 0.000,  1.414,  2.828],\n",
    "    ... [ 1.414,  0.000,  1.414],\n",
    "    ... [ 2.828,  1.414,  0.000]])\n",
    "    \n",
    "    >>> dist_round = np.round(dist, decimals = 3)\n",
    "    >>> np.allclose(dist_round, dist_exp)\n",
    "    True\n",
    "    \n",
    "    >>> dist = my_pdist_row_loop(M.T, dist_cosine) # results\n",
    "    >>> dist_exp = np.array([\n",
    "    ... [0.   , 0.991, 0.976],\n",
    "    ... [0.991, 0.   , 0.997],\n",
    "    ... [0.976, 0.997, 0.   ]])\n",
    "    \n",
    "    >>> dist_round = np.round(dist, decimals = 3)\n",
    "    >>> np.allclose(dist_round, dist_exp)\n",
    "    True\n",
    "    \"\"\"\n",
    "    ### initialization\n",
    "    nrow, ncol = M.shape\n",
    "    idx        = np.arange(nrow)\n",
    "    mat_dist   = np.zeros((nrow, nrow))\n",
    "    \n",
    "    ### loop through row pairs\n",
    "    for idx01, idx02 in it.combinations(idx, 2):\n",
    "        dist = distance_func(M[idx01], M[idx02])\n",
    "        mat_dist[idx01, idx02] = dist\n",
    "        mat_dist[idx02, idx01] = dist\n",
    "        \n",
    "    return mat_dist\n",
    "\n",
    "### test each function; if passed, no output from the run_docstring_examples\n",
    "doctest.run_docstring_examples(my_pdist_row_loop, globals())"
   ]
  }
 ],
 "metadata": {
  "kernelspec": {
   "display_name": "Python 3",
   "language": "python",
   "name": "python3"
  },
  "language_info": {
   "codemirror_mode": {
    "name": "ipython",
    "version": 3
   },
   "file_extension": ".py",
   "mimetype": "text/x-python",
   "name": "python",
   "nbconvert_exporter": "python",
   "pygments_lexer": "ipython3",
   "version": "3.5.4"
  }
 },
 "nbformat": 4,
 "nbformat_minor": 2
}
