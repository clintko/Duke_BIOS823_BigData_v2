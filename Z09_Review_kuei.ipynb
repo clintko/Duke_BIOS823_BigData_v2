{
 "cells": [
  {
   "cell_type": "markdown",
   "metadata": {},
   "source": [
    "# Assignment 10: Review\n",
    "\n",
    "We will review material covered so far in this course with short questions similar to what you might expect on the Final Exam. \n",
    "\n",
    "First review the lecture notes. Then try to do this assignment without referring to ANY external material to simulate exam conditions."
   ]
  },
  {
   "cell_type": "markdown",
   "metadata": {},
   "source": [
    "Setup for Q1"
   ]
  },
  {
   "cell_type": "code",
   "execution_count": 1,
   "metadata": {},
   "outputs": [],
   "source": [
    "%load_ext sql"
   ]
  },
  {
   "cell_type": "code",
   "execution_count": 2,
   "metadata": {},
   "outputs": [],
   "source": [
    "import string\n",
    "import pandas as pd\n",
    "import numpy as np\n",
    "import numpy.linalg as la\n",
    "import matplotlib.pyplot as plt\n",
    "\n",
    "from collections import OrderedDict, Counter\n",
    "from numba import jit, double, int64, float64\n",
    "import timeit"
   ]
  },
  {
   "cell_type": "code",
   "execution_count": 3,
   "metadata": {},
   "outputs": [],
   "source": [
    "pid = ['a', 'c', 'a', 'b', 'c', 'a', 'c', 'c', 'a', 'a', 'b', 'b']\n",
    "visit = [1, 1, 2, 1, 2, 3, 3, 4, 4, 5, 2, 3]\n",
    "n = len(pid)\n",
    "\n",
    "readings = pd.DataFrame(OrderedDict(pid=pid, visit=visit, sbp=np.random.normal(120, 25, n)))\n",
    "readings['dbp'] = readings.sbp - np.random.normal(40, 10, n)"
   ]
  },
  {
   "cell_type": "code",
   "execution_count": 4,
   "metadata": {},
   "outputs": [],
   "source": [
    "readings[['sbp', 'dbp']] = readings[['sbp', 'dbp']].astype('int')"
   ]
  },
  {
   "cell_type": "code",
   "execution_count": 5,
   "metadata": {},
   "outputs": [],
   "source": [
    "patients = pd.DataFrame(OrderedDict(pid=['a', 'b', 'c', 'd'], ages=[23,34,45,56]))"
   ]
  },
  {
   "cell_type": "code",
   "execution_count": 6,
   "metadata": {},
   "outputs": [
    {
     "data": {
      "text/plain": [
       "'Connected: @tables.db'"
      ]
     },
     "execution_count": 6,
     "metadata": {},
     "output_type": "execute_result"
    }
   ],
   "source": [
    "%sql sqlite:///tables.db"
   ]
  },
  {
   "cell_type": "code",
   "execution_count": 7,
   "metadata": {},
   "outputs": [
    {
     "name": "stdout",
     "output_type": "stream",
     "text": [
      " * sqlite:///tables.db\n",
      "Done.\n",
      " * sqlite:///tables.db\n"
     ]
    },
    {
     "data": {
      "text/plain": [
       "'Persisted patients'"
      ]
     },
     "execution_count": 7,
     "metadata": {},
     "output_type": "execute_result"
    }
   ],
   "source": [
    "%sql drop table patients\n",
    "%sql persist patients"
   ]
  },
  {
   "cell_type": "code",
   "execution_count": 8,
   "metadata": {},
   "outputs": [
    {
     "name": "stdout",
     "output_type": "stream",
     "text": [
      " * sqlite:///tables.db\n",
      "Done.\n",
      " * sqlite:///tables.db\n"
     ]
    },
    {
     "data": {
      "text/plain": [
       "'Persisted readings'"
      ]
     },
     "execution_count": 8,
     "metadata": {},
     "output_type": "execute_result"
    }
   ],
   "source": [
    "%sql drop table readings\n",
    "%sql persist readings"
   ]
  },
  {
   "cell_type": "code",
   "execution_count": 9,
   "metadata": {},
   "outputs": [
    {
     "name": "stdout",
     "output_type": "stream",
     "text": [
      " * sqlite:///tables.db\n",
      "Done.\n"
     ]
    },
    {
     "data": {
      "text/html": [
       "<table>\n",
       "    <tr>\n",
       "        <th>index</th>\n",
       "        <th>pid</th>\n",
       "        <th>ages</th>\n",
       "    </tr>\n",
       "    <tr>\n",
       "        <td>0</td>\n",
       "        <td>a</td>\n",
       "        <td>23</td>\n",
       "    </tr>\n",
       "    <tr>\n",
       "        <td>1</td>\n",
       "        <td>b</td>\n",
       "        <td>34</td>\n",
       "    </tr>\n",
       "    <tr>\n",
       "        <td>2</td>\n",
       "        <td>c</td>\n",
       "        <td>45</td>\n",
       "    </tr>\n",
       "    <tr>\n",
       "        <td>3</td>\n",
       "        <td>d</td>\n",
       "        <td>56</td>\n",
       "    </tr>\n",
       "</table>"
      ],
      "text/plain": [
       "[(0, 'a', 23), (1, 'b', 34), (2, 'c', 45), (3, 'd', 56)]"
      ]
     },
     "execution_count": 9,
     "metadata": {},
     "output_type": "execute_result"
    }
   ],
   "source": [
    "%%sql\n",
    "\n",
    "select * from patients"
   ]
  },
  {
   "cell_type": "code",
   "execution_count": 10,
   "metadata": {},
   "outputs": [
    {
     "name": "stdout",
     "output_type": "stream",
     "text": [
      " * sqlite:///tables.db\n",
      "Done.\n"
     ]
    },
    {
     "data": {
      "text/html": [
       "<table>\n",
       "    <tr>\n",
       "        <th>index</th>\n",
       "        <th>pid</th>\n",
       "        <th>sbp</th>\n",
       "        <th>visit</th>\n",
       "        <th>dbp</th>\n",
       "    </tr>\n",
       "    <tr>\n",
       "        <td>0</td>\n",
       "        <td>a</td>\n",
       "        <td>139</td>\n",
       "        <td>1</td>\n",
       "        <td>96</td>\n",
       "    </tr>\n",
       "    <tr>\n",
       "        <td>1</td>\n",
       "        <td>c</td>\n",
       "        <td>196</td>\n",
       "        <td>1</td>\n",
       "        <td>146</td>\n",
       "    </tr>\n",
       "    <tr>\n",
       "        <td>2</td>\n",
       "        <td>a</td>\n",
       "        <td>98</td>\n",
       "        <td>2</td>\n",
       "        <td>48</td>\n",
       "    </tr>\n",
       "    <tr>\n",
       "        <td>3</td>\n",
       "        <td>b</td>\n",
       "        <td>108</td>\n",
       "        <td>1</td>\n",
       "        <td>67</td>\n",
       "    </tr>\n",
       "    <tr>\n",
       "        <td>4</td>\n",
       "        <td>c</td>\n",
       "        <td>122</td>\n",
       "        <td>2</td>\n",
       "        <td>90</td>\n",
       "    </tr>\n",
       "    <tr>\n",
       "        <td>5</td>\n",
       "        <td>a</td>\n",
       "        <td>150</td>\n",
       "        <td>3</td>\n",
       "        <td>115</td>\n",
       "    </tr>\n",
       "    <tr>\n",
       "        <td>6</td>\n",
       "        <td>c</td>\n",
       "        <td>114</td>\n",
       "        <td>3</td>\n",
       "        <td>74</td>\n",
       "    </tr>\n",
       "    <tr>\n",
       "        <td>7</td>\n",
       "        <td>c</td>\n",
       "        <td>102</td>\n",
       "        <td>4</td>\n",
       "        <td>38</td>\n",
       "    </tr>\n",
       "    <tr>\n",
       "        <td>8</td>\n",
       "        <td>a</td>\n",
       "        <td>107</td>\n",
       "        <td>4</td>\n",
       "        <td>61</td>\n",
       "    </tr>\n",
       "    <tr>\n",
       "        <td>9</td>\n",
       "        <td>a</td>\n",
       "        <td>108</td>\n",
       "        <td>5</td>\n",
       "        <td>70</td>\n",
       "    </tr>\n",
       "    <tr>\n",
       "        <td>10</td>\n",
       "        <td>b</td>\n",
       "        <td>147</td>\n",
       "        <td>2</td>\n",
       "        <td>119</td>\n",
       "    </tr>\n",
       "    <tr>\n",
       "        <td>11</td>\n",
       "        <td>b</td>\n",
       "        <td>112</td>\n",
       "        <td>3</td>\n",
       "        <td>63</td>\n",
       "    </tr>\n",
       "</table>"
      ],
      "text/plain": [
       "[(0, 'a', 139, 1, 96),\n",
       " (1, 'c', 196, 1, 146),\n",
       " (2, 'a', 98, 2, 48),\n",
       " (3, 'b', 108, 1, 67),\n",
       " (4, 'c', 122, 2, 90),\n",
       " (5, 'a', 150, 3, 115),\n",
       " (6, 'c', 114, 3, 74),\n",
       " (7, 'c', 102, 4, 38),\n",
       " (8, 'a', 107, 4, 61),\n",
       " (9, 'a', 108, 5, 70),\n",
       " (10, 'b', 147, 2, 119),\n",
       " (11, 'b', 112, 3, 63)]"
      ]
     },
     "execution_count": 10,
     "metadata": {},
     "output_type": "execute_result"
    }
   ],
   "source": [
    "%%sql \n",
    "\n",
    "select * from readings"
   ]
  },
  {
   "cell_type": "markdown",
   "metadata": {},
   "source": [
    "**1**. (20 points)\n",
    "\n",
    "- Write an SQL statement to merge the patient and pressure tables using an inner join\n",
    "- Write an SQL statement to find the average systolic (sbp) and diastolic (dbp) blood pressure for each patient, sorted in ascending order of sbp. The function to calculate averages in SQL is AVG.\n",
    "- (optional - ungraded) Write an SQL statement to find the running average of systolic blood pressure for each patient across successive visits. Show the following columns pid, visit, sbp and running average of sbp. (NOTE: This will no work unless you have the version 3.2.5 or higher of SQLite3 or swithc to a database like PostgreSQL - in particular, it will not work on Docker. Just write the SQL even if it does not execute.)"
   ]
  },
  {
   "cell_type": "markdown",
   "metadata": {},
   "source": [
    "# Q1.1\n",
    "**Write an SQL statement to merge the patient and pressure tables using an inner join**"
   ]
  },
  {
   "cell_type": "code",
   "execution_count": 11,
   "metadata": {},
   "outputs": [
    {
     "name": "stdout",
     "output_type": "stream",
     "text": [
      " * sqlite:///tables.db\n",
      "Done.\n"
     ]
    },
    {
     "data": {
      "text/html": [
       "<table>\n",
       "    <tr>\n",
       "        <th>index</th>\n",
       "        <th>pid</th>\n",
       "        <th>ages</th>\n",
       "        <th>index_1</th>\n",
       "        <th>pid_1</th>\n",
       "        <th>sbp</th>\n",
       "        <th>visit</th>\n",
       "        <th>dbp</th>\n",
       "    </tr>\n",
       "    <tr>\n",
       "        <td>0</td>\n",
       "        <td>a</td>\n",
       "        <td>23</td>\n",
       "        <td>0</td>\n",
       "        <td>a</td>\n",
       "        <td>139</td>\n",
       "        <td>1</td>\n",
       "        <td>96</td>\n",
       "    </tr>\n",
       "    <tr>\n",
       "        <td>0</td>\n",
       "        <td>a</td>\n",
       "        <td>23</td>\n",
       "        <td>2</td>\n",
       "        <td>a</td>\n",
       "        <td>98</td>\n",
       "        <td>2</td>\n",
       "        <td>48</td>\n",
       "    </tr>\n",
       "    <tr>\n",
       "        <td>0</td>\n",
       "        <td>a</td>\n",
       "        <td>23</td>\n",
       "        <td>5</td>\n",
       "        <td>a</td>\n",
       "        <td>150</td>\n",
       "        <td>3</td>\n",
       "        <td>115</td>\n",
       "    </tr>\n",
       "    <tr>\n",
       "        <td>0</td>\n",
       "        <td>a</td>\n",
       "        <td>23</td>\n",
       "        <td>8</td>\n",
       "        <td>a</td>\n",
       "        <td>107</td>\n",
       "        <td>4</td>\n",
       "        <td>61</td>\n",
       "    </tr>\n",
       "    <tr>\n",
       "        <td>0</td>\n",
       "        <td>a</td>\n",
       "        <td>23</td>\n",
       "        <td>9</td>\n",
       "        <td>a</td>\n",
       "        <td>108</td>\n",
       "        <td>5</td>\n",
       "        <td>70</td>\n",
       "    </tr>\n",
       "    <tr>\n",
       "        <td>1</td>\n",
       "        <td>b</td>\n",
       "        <td>34</td>\n",
       "        <td>3</td>\n",
       "        <td>b</td>\n",
       "        <td>108</td>\n",
       "        <td>1</td>\n",
       "        <td>67</td>\n",
       "    </tr>\n",
       "    <tr>\n",
       "        <td>1</td>\n",
       "        <td>b</td>\n",
       "        <td>34</td>\n",
       "        <td>10</td>\n",
       "        <td>b</td>\n",
       "        <td>147</td>\n",
       "        <td>2</td>\n",
       "        <td>119</td>\n",
       "    </tr>\n",
       "    <tr>\n",
       "        <td>1</td>\n",
       "        <td>b</td>\n",
       "        <td>34</td>\n",
       "        <td>11</td>\n",
       "        <td>b</td>\n",
       "        <td>112</td>\n",
       "        <td>3</td>\n",
       "        <td>63</td>\n",
       "    </tr>\n",
       "    <tr>\n",
       "        <td>2</td>\n",
       "        <td>c</td>\n",
       "        <td>45</td>\n",
       "        <td>1</td>\n",
       "        <td>c</td>\n",
       "        <td>196</td>\n",
       "        <td>1</td>\n",
       "        <td>146</td>\n",
       "    </tr>\n",
       "    <tr>\n",
       "        <td>2</td>\n",
       "        <td>c</td>\n",
       "        <td>45</td>\n",
       "        <td>4</td>\n",
       "        <td>c</td>\n",
       "        <td>122</td>\n",
       "        <td>2</td>\n",
       "        <td>90</td>\n",
       "    </tr>\n",
       "    <tr>\n",
       "        <td>2</td>\n",
       "        <td>c</td>\n",
       "        <td>45</td>\n",
       "        <td>6</td>\n",
       "        <td>c</td>\n",
       "        <td>114</td>\n",
       "        <td>3</td>\n",
       "        <td>74</td>\n",
       "    </tr>\n",
       "    <tr>\n",
       "        <td>2</td>\n",
       "        <td>c</td>\n",
       "        <td>45</td>\n",
       "        <td>7</td>\n",
       "        <td>c</td>\n",
       "        <td>102</td>\n",
       "        <td>4</td>\n",
       "        <td>38</td>\n",
       "    </tr>\n",
       "</table>"
      ],
      "text/plain": [
       "[(0, 'a', 23, 0, 'a', 139, 1, 96),\n",
       " (0, 'a', 23, 2, 'a', 98, 2, 48),\n",
       " (0, 'a', 23, 5, 'a', 150, 3, 115),\n",
       " (0, 'a', 23, 8, 'a', 107, 4, 61),\n",
       " (0, 'a', 23, 9, 'a', 108, 5, 70),\n",
       " (1, 'b', 34, 3, 'b', 108, 1, 67),\n",
       " (1, 'b', 34, 10, 'b', 147, 2, 119),\n",
       " (1, 'b', 34, 11, 'b', 112, 3, 63),\n",
       " (2, 'c', 45, 1, 'c', 196, 1, 146),\n",
       " (2, 'c', 45, 4, 'c', 122, 2, 90),\n",
       " (2, 'c', 45, 6, 'c', 114, 3, 74),\n",
       " (2, 'c', 45, 7, 'c', 102, 4, 38)]"
      ]
     },
     "execution_count": 11,
     "metadata": {},
     "output_type": "execute_result"
    }
   ],
   "source": [
    "%%sql\n",
    "\n",
    "SELECT * FROM patients\n",
    "INNER JOIN readings\n",
    "ON patients.pid = readings.pid;"
   ]
  },
  {
   "cell_type": "markdown",
   "metadata": {},
   "source": [
    "# Q1.2\n",
    "**Write an SQL statement to find the average systolic (sbp) and diastolic (dbp) blood pressure for each patient, sorted in ascending order of sbp. The function to calculate averages in SQL is AVG.**"
   ]
  },
  {
   "cell_type": "code",
   "execution_count": 12,
   "metadata": {},
   "outputs": [
    {
     "name": "stdout",
     "output_type": "stream",
     "text": [
      " * sqlite:///tables.db\n",
      "Done.\n"
     ]
    },
    {
     "data": {
      "text/html": [
       "<table>\n",
       "    <tr>\n",
       "        <th>pid</th>\n",
       "        <th>mean_sbp</th>\n",
       "        <th>mean_dbp</th>\n",
       "    </tr>\n",
       "    <tr>\n",
       "        <td>a</td>\n",
       "        <td>120.4</td>\n",
       "        <td>78.0</td>\n",
       "    </tr>\n",
       "    <tr>\n",
       "        <td>b</td>\n",
       "        <td>122.33333333333333</td>\n",
       "        <td>83.0</td>\n",
       "    </tr>\n",
       "    <tr>\n",
       "        <td>c</td>\n",
       "        <td>133.5</td>\n",
       "        <td>87.0</td>\n",
       "    </tr>\n",
       "</table>"
      ],
      "text/plain": [
       "[('a', 120.4, 78.0), ('b', 122.33333333333333, 83.0), ('c', 133.5, 87.0)]"
      ]
     },
     "execution_count": 12,
     "metadata": {},
     "output_type": "execute_result"
    }
   ],
   "source": [
    "%%sql\n",
    "\n",
    "SELECT pid, \n",
    "       AVG(sbp) AS mean_sbp,\n",
    "       AVG(dbp) AS mean_dbp\n",
    "FROM readings\n",
    "GROUP BY pid\n",
    "ORDER BY mean_sbp;"
   ]
  },
  {
   "cell_type": "markdown",
   "metadata": {},
   "source": [
    "# Q1.3\n",
    "**(optional - ungraded) Write an SQL statement to find the running average of systolic blood pressure for each patient across successive visits. Show the following columns pid, visit, sbp and running average of sbp. (NOTE: This will no work unless you have the version 3.2.5 or higher of SQLite3 or swithc to a database like PostgreSQL - in particular, it will not work on Docker. Just write the SQL even if it does not execute.)**"
   ]
  },
  {
   "cell_type": "markdown",
   "metadata": {},
   "source": [
    "```\n",
    "%%sql\n",
    "\n",
    "SELECT pid, \n",
    "       AVG(sbp) OVER (PARTITION BY pid ORDER BY visit) AS mean_sbp\n",
    "FROM readings;\n",
    "```"
   ]
  },
  {
   "cell_type": "markdown",
   "metadata": {},
   "source": [
    "**2**. (30 points)\n",
    "\n",
    "- Use a raw count bag of words model for unigrams and bigrams to generate feature vectors for these two documents. For simplicity, you may tokenize by removing punctuation, splitting by white space to find words, and converting all words to lowercase. \n",
    "- Implement a function to calculate cosine *similarity* between two vectors without using any trigonometric functions, built-in distance functions or linear algebra modules. Find the cosine similarity between the two documents. Recall that the cosine similarity is the dot product of two unit vectors.\n",
    "\n",
    "Only use the Python standard library and `numpy` to do this exercise."
   ]
  },
  {
   "cell_type": "code",
   "execution_count": 13,
   "metadata": {},
   "outputs": [],
   "source": [
    "doc1 = \"\"\"As I was going by Charing Cross,\n",
    "I saw a black man upon a black horse;\n",
    "They told me it was King Charles the First-\n",
    "Oh dear, my heart was ready to burst!\"\"\"\n",
    "\n",
    "doc2 = \"\"\"As I was going to St. Ives,\n",
    "I met a man with seven wives,\n",
    "Each wife had seven sacks,\n",
    "Each sack had seven cats,\n",
    "Each cat had seven kits:\n",
    "Kits, cats, sacks, and wives,\n",
    "How many were there going to St. Ives\"\"\""
   ]
  },
  {
   "cell_type": "markdown",
   "metadata": {},
   "source": [
    "Define helper function"
   ]
  },
  {
   "cell_type": "code",
   "execution_count": 14,
   "metadata": {},
   "outputs": [],
   "source": [
    "def combine_counts(counter1, counter2):\n",
    "    \"\"\"\"\"\"\n",
    "    items = list(counter1.keys()) + list(counter2.keys())\n",
    "    items = set(items)\n",
    "    \n",
    "    x1  = [counter1.get(item, 0) for item in items]\n",
    "    x2  = [counter2.get(item, 0) for item in items]\n",
    "    arr = np.c_[x1, x2]\n",
    "    return arr\n",
    "\n",
    "def similar_cos(x, y):\n",
    "    \"\"\"\"\"\"\n",
    "    return np.dot(x, y) / la.norm(x) / la.norm(y)"
   ]
  },
  {
   "cell_type": "markdown",
   "metadata": {},
   "source": [
    "calculate cosine similarity for two document using unigram and bigram terms"
   ]
  },
  {
   "cell_type": "code",
   "execution_count": 15,
   "metadata": {},
   "outputs": [],
   "source": [
    "transtab = str.maketrans(string.punctuation, \" \" * len(string.punctuation))\n",
    "\n",
    "words1 = doc1.lower().replace(\"-\", \"\").translate(transtab).split()\n",
    "words2 = doc2.lower().replace(\"-\", \"\").translate(transtab).split()\n",
    "\n",
    "doc1_terms = words1 + list(zip(words1[:-1], words1[1:]))\n",
    "doc2_terms = words2 + list(zip(words2[:-1], words2[1:]))\n",
    "doc_terms_cnt = combine_counts(Counter(doc1_terms), Counter(doc2_terms))"
   ]
  },
  {
   "cell_type": "code",
   "execution_count": 16,
   "metadata": {},
   "outputs": [
    {
     "name": "stdout",
     "output_type": "stream",
     "text": [
      "0.1730209434769125\n"
     ]
    }
   ],
   "source": [
    "tmp = doc_terms_cnt\n",
    "print(similar_cos(tmp[:,0], tmp[:,1]))"
   ]
  },
  {
   "cell_type": "markdown",
   "metadata": {},
   "source": [
    "-----"
   ]
  },
  {
   "cell_type": "markdown",
   "metadata": {},
   "source": [
    "**3**. (30 points)\n",
    "\n",
    "- Fit polynomials of order 2, 3 and 4 to the data set `x` and `y` by solving the normal equations $(X^TX) \\hat{\\beta} = X^Ty$. \n",
    "- Plot the fit against the data for each model.\n",
    "- Calculate the sum of squares error for each model using leave one out cross-validation.\n",
    "\n",
    "You may use `numpy.linalg` for this."
   ]
  },
  {
   "cell_type": "code",
   "execution_count": 17,
   "metadata": {},
   "outputs": [],
   "source": [
    "x = np.array([4.17022005e+00, 7.20324493e+00, 1.14374817e-03, 3.02332573e+00,\n",
    "       1.46755891e+00, 9.23385948e-01, 1.86260211e+00, 3.45560727e+00,\n",
    "       3.96767474e+00, 5.38816734e+00])\n",
    "y = np.array([29.05627699, 22.38450486,  3.33047527, 23.84338844, 16.98396787,\n",
    "        9.32107716, 17.8343173 , 25.23079674, 28.068074  , 26.74943485])"
   ]
  },
  {
   "cell_type": "markdown",
   "metadata": {},
   "source": [
    "Define helper function"
   ]
  },
  {
   "cell_type": "code",
   "execution_count": 18,
   "metadata": {},
   "outputs": [],
   "source": [
    "get_model_matrix = lambda x, deg: np.array(list(x**i for i in range(deg + 1))).T\n",
    "leave_one_out    = lambda x, idx: np.concatenate([x[:idx], x[idx+1:]])"
   ]
  },
  {
   "cell_type": "markdown",
   "metadata": {},
   "source": [
    "# Q3.1 \n",
    "**Fit polynomials of order 2, 3 and 4 to the data set `x` and `y` by solving the normal equations $(X^TX) \\hat{\\beta} = X^Ty$.**"
   ]
  },
  {
   "cell_type": "code",
   "execution_count": 19,
   "metadata": {},
   "outputs": [
    {
     "name": "stdout",
     "output_type": "stream",
     "text": [
      "Degree: 2\n",
      "[ 2.48779865 10.49340176 -1.07498928]\n",
      "Degree: 3\n",
      "[ 2.75572438  9.92576392 -0.86830902 -0.01892285]\n",
      "Degree: 4\n",
      "[ 3.15172574  7.80914918  0.72437425 -0.39690615  0.027373  ]\n"
     ]
    },
    {
     "name": "stderr",
     "output_type": "stream",
     "text": [
      "/opt/conda/lib/python3.5/site-packages/ipykernel_launcher.py:5: FutureWarning: `rcond` parameter will change to the default of machine precision times ``max(M, N)`` where M and N are the input matrix dimensions.\n",
      "To use the future default and silence this warning we advise to pass `rcond=None`, to keep using the old, explicitly pass `rcond=-1`.\n",
      "  \"\"\"\n"
     ]
    }
   ],
   "source": [
    "Y = y.reshape(-1, 1)\n",
    "\n",
    "for deg in (2, 3, 4):\n",
    "    A = np.array(list(x**i for i in range(deg + 1))).T   \n",
    "    b, res, r, s = la.lstsq(A, y)\n",
    "    print(\"Degree:\", deg) #, \"|\", \"RSS:\", res)\n",
    "    print(b)"
   ]
  },
  {
   "cell_type": "markdown",
   "metadata": {},
   "source": [
    "# Q3.2\n",
    "**Plot the fit against the data for each model.**"
   ]
  },
  {
   "cell_type": "markdown",
   "metadata": {},
   "source": [
    "Note that I add degree = 1 just to make sure the results are reasonable (since the results of degree 2 and 3 are similar to each other)"
   ]
  },
  {
   "cell_type": "code",
   "execution_count": 32,
   "metadata": {},
   "outputs": [
    {
     "name": "stderr",
     "output_type": "stream",
     "text": [
      "/opt/conda/lib/python3.5/site-packages/ipykernel_launcher.py:7: FutureWarning: `rcond` parameter will change to the default of machine precision times ``max(M, N)`` where M and N are the input matrix dimensions.\n",
      "To use the future default and silence this warning we advise to pass `rcond=None`, to keep using the old, explicitly pass `rcond=-1`.\n",
      "  import sys\n"
     ]
    },
    {
     "data": {
      "image/png": "[encoded data removed]",
      "text/plain": [
       "<Figure size 864x216 with 4 Axes>"
      ]
     },
     "metadata": {},
     "output_type": "display_data"
    }
   ],
   "source": [
    "fig, axes = plt.subplots(1, 4, figsize = (12, 3))\n",
    "degs = (1, 2, 3, 4)\n",
    "\n",
    "for idx in range(len(degs)):\n",
    "    deg = degs[idx]\n",
    "    A   = get_model_matrix(x, deg)\n",
    "    b, res, r, s = la.lstsq(A, y)\n",
    "    \n",
    "    xs   = np.linspace(0, 8, 20)\n",
    "    A    = get_model_matrix(xs, deg)\n",
    "    yhat = A.dot(b)\n",
    "    \n",
    "    ax = axes[idx]\n",
    "    ax.scatter(x, y)\n",
    "    ax.plot(xs, yhat, color = \"orange\")\n",
    "    ax.set_title(\"Degree: \" + str(deg))"
   ]
  },
  {
   "cell_type": "markdown",
   "metadata": {},
   "source": [
    "# Q3.3\n",
    "**Calculate the sum of squares error for each model using leave one out cross-validation.**"
   ]
  },
  {
   "cell_type": "markdown",
   "metadata": {},
   "source": [
    "LOOCV function"
   ]
  },
  {
   "cell_type": "code",
   "execution_count": 21,
   "metadata": {},
   "outputs": [],
   "source": [
    "def loocv(deg, x, y):\n",
    "    \"\"\"Perform Leave one out cross-validation\"\"\"\n",
    "    ### initialization\n",
    "    nrow = y.shape[0]\n",
    "    y = y.reshape(-1, 1)\n",
    "    A = get_model_matrix(x, deg)\n",
    "    \n",
    "    ### leave one out\n",
    "    loss = np.empty(nrow) # initialization\n",
    "    for idx in range(nrow):\n",
    "        ### leave one out and fit the model\n",
    "        A_oneout = leave_one_out(A, idx)\n",
    "        y_oneout = leave_one_out(y, idx)\n",
    "        b, res, s, r = la.lstsq(A_oneout, y_oneout)\n",
    "        \n",
    "        ### get yhat and calculate residual\n",
    "        yhat = A @ b\n",
    "        loss[idx] = np.square(y[idx] - yhat[idx])\n",
    "        \n",
    "    return loss.sum()"
   ]
  },
  {
   "cell_type": "markdown",
   "metadata": {},
   "source": [
    "Perform LOOCV on degree 2, 3, 4"
   ]
  },
  {
   "cell_type": "code",
   "execution_count": 22,
   "metadata": {},
   "outputs": [
    {
     "name": "stdout",
     "output_type": "stream",
     "text": [
      "Degree: 2 | LOOCV: 22.221307094447297\n",
      "Degree: 3 | LOOCV: 119.63521588843629\n",
      "Degree: 4 | LOOCV: 510.60567208652617\n"
     ]
    },
    {
     "name": "stderr",
     "output_type": "stream",
     "text": [
      "/opt/conda/lib/python3.5/site-packages/ipykernel_launcher.py:14: FutureWarning: `rcond` parameter will change to the default of machine precision times ``max(M, N)`` where M and N are the input matrix dimensions.\n",
      "To use the future default and silence this warning we advise to pass `rcond=None`, to keep using the old, explicitly pass `rcond=-1`.\n",
      "  \n"
     ]
    }
   ],
   "source": [
    "for deg in (2, 3, 4):\n",
    "    print(\"Degree:\", deg, \"|\", \"LOOCV:\", loocv(deg, x, y))"
   ]
  },
  {
   "cell_type": "markdown",
   "metadata": {},
   "source": [
    "**4** (20 points)\n",
    "\n",
    "- Write a gradient descent algorithm to fit a cubic polynomial to the data from question 5. Use a learning rate of 1e-5 and 1 million iterations, and start with a $\\beta_0 = (1,10,1,1)$\n",
    "- Use a JIT decorator to create a compiled version and report the fold-change improvement in run time. Use the timeit.timeit function with argument `number=1`, and use a lambda function to pass in a function that takes 0 arguments.\n",
    "- Plot the fitted curve"
   ]
  },
  {
   "cell_type": "markdown",
   "metadata": {},
   "source": [
    "# Q4.1\n",
    "**Write a gradient descent algorithm to fit a cubic polynomial to the data from question 5. Use a learning rate of 1e-5 and 1 million iterations, and start with a $\\beta_0 = (1,10,1,1)$**"
   ]
  },
  {
   "cell_type": "code",
   "execution_count": 23,
   "metadata": {},
   "outputs": [],
   "source": [
    "x = np.array([4.17022005e+00, 7.20324493e+00, 1.14374817e-03, 3.02332573e+00,\n",
    "       1.46755891e+00, 9.23385948e-01, 1.86260211e+00, 3.45560727e+00,\n",
    "       3.96767474e+00, 5.38816734e+00])\n",
    "y = np.array([29.05627699, 22.38450486,  3.33047527, 23.84338844, 16.98396787,\n",
    "        9.32107716, 17.8343173 , 25.23079674, 28.068074  , 26.74943485])"
   ]
  },
  {
   "cell_type": "markdown",
   "metadata": {},
   "source": [
    "gradient descend for polynomial regression"
   ]
  },
  {
   "cell_type": "code",
   "execution_count": 24,
   "metadata": {},
   "outputs": [],
   "source": [
    "def gd(b, x, y, deg, rate, num_iter):\n",
    "    \"\"\"gradient descend for polynomial regression\"\"\"\n",
    "    A = np.array([x**i for i in range(deg + 1)]).T\n",
    "    \n",
    "    for _ in range(num_iter):\n",
    "        grad = A.T @ A @ b - A.T @ y\n",
    "        b = b - rate * grad #gradient(b, x, y)\n",
    "    \n",
    "    return b"
   ]
  },
  {
   "cell_type": "markdown",
   "metadata": {},
   "source": [
    "check if the output is the same as numpy lstsq"
   ]
  },
  {
   "cell_type": "code",
   "execution_count": 25,
   "metadata": {},
   "outputs": [
    {
     "data": {
      "text/plain": [
       "array([[ 2.75202065],\n",
       "       [ 9.930932  ],\n",
       "       [-0.86991684],\n",
       "       [-0.01878794]])"
      ]
     },
     "execution_count": 25,
     "metadata": {},
     "output_type": "execute_result"
    }
   ],
   "source": [
    "b        = np.array([1, 10, 1, 1]).reshape(-1, 1)\n",
    "deg      = 3\n",
    "rate     = 1e-5\n",
    "num_iter = 10**6\n",
    "\n",
    "x = np.array([4.17022005e+00, 7.20324493e+00, 1.14374817e-03, 3.02332573e+00,\n",
    "       1.46755891e+00, 9.23385948e-01, 1.86260211e+00, 3.45560727e+00,\n",
    "       3.96767474e+00, 5.38816734e+00])\n",
    "y = np.array([29.05627699, 22.38450486,  3.33047527, 23.84338844, 16.98396787,\n",
    "        9.32107716, 17.8343173 , 25.23079674, 28.068074  , 26.74943485])\n",
    "y = y.reshape(-1, 1)\n",
    "\n",
    "gd(b, x, y, deg, rate, num_iter)"
   ]
  },
  {
   "cell_type": "markdown",
   "metadata": {},
   "source": [
    "# Q4.2\n",
    "**Use a JIT decorator to create a compiled version and report the fold-change improvement in run time. Use the timeit.timeit function with argument `number=1`, and use a lambda function to pass in a function that takes 0 arguments.**"
   ]
  },
  {
   "cell_type": "code",
   "execution_count": 26,
   "metadata": {},
   "outputs": [],
   "source": [
    "@jit(float64[:, :](float64[:, :], float64[:], float64[:, :], int64, float64, int64), nopython = True)\n",
    "def gd_jit(b, x, y, deg, rate, num_iter):\n",
    "    \"\"\"gradient descend for polynomial regression\"\"\"\n",
    "    n = x.shape[0]\n",
    "    A = np.empty((n, deg + 1))\n",
    "    for i in range(0, deg + 1):\n",
    "        A[:, i] = x**i\n",
    "    \n",
    "    for _ in range(num_iter):\n",
    "        grad = A.T @ A @ b - A.T @ y\n",
    "        b = b - rate * grad\n",
    "    \n",
    "    return b"
   ]
  },
  {
   "cell_type": "markdown",
   "metadata": {},
   "source": [
    "check if the results are the same"
   ]
  },
  {
   "cell_type": "code",
   "execution_count": 27,
   "metadata": {},
   "outputs": [
    {
     "data": {
      "text/plain": [
       "array([[ 2.75202065],\n",
       "       [ 9.930932  ],\n",
       "       [-0.86991684],\n",
       "       [-0.01878794]])"
      ]
     },
     "execution_count": 27,
     "metadata": {},
     "output_type": "execute_result"
    }
   ],
   "source": [
    "b        = np.array([1.0, 10.0, 1.0, 1.0]).reshape(-1, 1)\n",
    "deg      = 3\n",
    "rate     = 1e-5\n",
    "num_iter = 10**6\n",
    "\n",
    "x = np.array([4.17022005e+00, 7.20324493e+00, 1.14374817e-03, 3.02332573e+00,\n",
    "       1.46755891e+00, 9.23385948e-01, 1.86260211e+00, 3.45560727e+00,\n",
    "       3.96767474e+00, 5.38816734e+00])\n",
    "y = np.array([29.05627699, 22.38450486,  3.33047527, 23.84338844, 16.98396787,\n",
    "        9.32107716, 17.8343173 , 25.23079674, 28.068074  , 26.74943485])\n",
    "y = y.reshape(-1, 1)\n",
    "\n",
    "gd_jit(b, x, y, deg, rate, num_iter)"
   ]
  },
  {
   "cell_type": "markdown",
   "metadata": {},
   "source": [
    "time the functions to check the efficiency"
   ]
  },
  {
   "cell_type": "code",
   "execution_count": 28,
   "metadata": {},
   "outputs": [
    {
     "name": "stdout",
     "output_type": "stream",
     "text": [
      "5.171586957760155\n",
      "1.4182594073936343\n"
     ]
    }
   ],
   "source": [
    "b        = np.array([1.0, 10.0, 1.0, 1.0]).reshape(-1, 1)\n",
    "deg      = 3\n",
    "rate     = 1e-5\n",
    "num_iter = 10**6\n",
    "\n",
    "x = np.array([4.17022005e+00, 7.20324493e+00, 1.14374817e-03, 3.02332573e+00,\n",
    "       1.46755891e+00, 9.23385948e-01, 1.86260211e+00, 3.45560727e+00,\n",
    "       3.96767474e+00, 5.38816734e+00])\n",
    "y = np.array([29.05627699, 22.38450486,  3.33047527, 23.84338844, 16.98396787,\n",
    "        9.32107716, 17.8343173 , 25.23079674, 28.068074  , 26.74943485])\n",
    "y = y.reshape(-1, 1)\n",
    "\n",
    "t1 = timeit.timeit(lambda : gd(b, x, y, deg, rate, num_iter),     number = 1)\n",
    "t2 = timeit.timeit(lambda : gd_jit(b, x, y, deg, rate, num_iter), number = 1)\n",
    "print(t1)\n",
    "print(t2)"
   ]
  },
  {
   "cell_type": "markdown",
   "metadata": {},
   "source": [
    "get the fold change of time improvement"
   ]
  },
  {
   "cell_type": "code",
   "execution_count": 29,
   "metadata": {},
   "outputs": [
    {
     "name": "stdout",
     "output_type": "stream",
     "text": [
      "3.6464323316311305\n"
     ]
    }
   ],
   "source": [
    "print(t1 / t2)"
   ]
  },
  {
   "cell_type": "markdown",
   "metadata": {},
   "source": [
    "# Q4.3\n",
    "**Plot the fitted curve**"
   ]
  },
  {
   "cell_type": "markdown",
   "metadata": {},
   "source": [
    "get the beta using gradient descend"
   ]
  },
  {
   "cell_type": "code",
   "execution_count": 30,
   "metadata": {},
   "outputs": [],
   "source": [
    "b        = np.array([1.0, 10.0, 1.0, 1.0]).reshape(-1, 1)\n",
    "deg      = 3\n",
    "rate     = 1e-5\n",
    "num_iter = 10**6\n",
    "\n",
    "x = np.array([4.17022005e+00, 7.20324493e+00, 1.14374817e-03, 3.02332573e+00,\n",
    "       1.46755891e+00, 9.23385948e-01, 1.86260211e+00, 3.45560727e+00,\n",
    "       3.96767474e+00, 5.38816734e+00])\n",
    "y = np.array([29.05627699, 22.38450486,  3.33047527, 23.84338844, 16.98396787,\n",
    "        9.32107716, 17.8343173 , 25.23079674, 28.068074  , 26.74943485])\n",
    "y = y.reshape(-1, 1)\n",
    "\n",
    "b = gd_jit(b, x, y, deg, rate, num_iter)"
   ]
  },
  {
   "cell_type": "markdown",
   "metadata": {},
   "source": [
    "plot the curve"
   ]
  },
  {
   "cell_type": "code",
   "execution_count": 31,
   "metadata": {
    "scrolled": true
   },
   "outputs": [
    {
     "data": {
      "text/plain": [
       "[<matplotlib.lines.Line2D at 0x7f1927a8e7b8>]"
      ]
     },
     "execution_count": 31,
     "metadata": {},
     "output_type": "execute_result"
    },
    {
     "data": {
      "image/png": "[encoded data removed]",
      "text/plain": [
       "<Figure size 432x288 with 1 Axes>"
      ]
     },
     "metadata": {},
     "output_type": "display_data"
    }
   ],
   "source": [
    "xs = np.linspace(0, 8, 20)\n",
    "yhat = (get_model_matrix(xs, deg = 3) @ b).flatten()\n",
    "plt.scatter(x, y.flatten())\n",
    "plt.plot(xs, yhat, color = \"orange\")"
   ]
  },
  {
   "cell_type": "code",
   "execution_count": null,
   "metadata": {},
   "outputs": [],
   "source": []
  },
  {
   "cell_type": "code",
   "execution_count": null,
   "metadata": {},
   "outputs": [],
   "source": []
  },
  {
   "cell_type": "markdown",
   "metadata": {},
   "source": [
    "Note: Lync come up with a quicker gd\n",
    "```\n",
    "def gd_jit(b, x, y, deg, rate, num_iter):\n",
    "    \"\"\"gradient descend for polynomial regression\"\"\"\n",
    "    n = x.shape[0]\n",
    "    A = np.empty((n, deg + 1))\n",
    "    for i in range(0, deg + 1):\n",
    "        A[:, i] = x**i\n",
    "    \n",
    "    ATA = A.T @ A\n",
    "    ATY = A.T @ y\n",
    "    for _ in range(num_iter):\n",
    "        grad = ATA @ b - ATY\n",
    "        b = b - rate * grad\n",
    "    \n",
    "    return b\n",
    "```"
   ]
  }
 ],
 "metadata": {
  "kernelspec": {
   "display_name": "Python 3",
   "language": "python",
   "name": "python3"
  },
  "language_info": {
   "codemirror_mode": {
    "name": "ipython",
    "version": 3
   },
   "file_extension": ".py",
   "mimetype": "text/x-python",
   "name": "python",
   "nbconvert_exporter": "python",
   "pygments_lexer": "ipython3",
   "version": "3.5.4"
  }
 },
 "nbformat": 4,
 "nbformat_minor": 2
}
