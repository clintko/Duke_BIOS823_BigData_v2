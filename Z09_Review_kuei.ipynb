{
 "cells": [
  {
   "cell_type": "markdown",
   "metadata": {},
   "source": [
    "# Assignment 10: Review\n",
    "\n",
    "We will review material covered so far in this course with short questions similar to what you might expect on the Final Exam. \n",
    "\n",
    "First review the lecture notes. Then try to do this assignment without referring to ANY external material to simulate exam conditions."
   ]
  },
  {
   "cell_type": "markdown",
   "metadata": {},
   "source": [
    "Setup for Q1"
   ]
  },
  {
   "cell_type": "code",
   "execution_count": 1,
   "metadata": {},
   "outputs": [],
   "source": [
    "%load_ext sql"
   ]
  },
  {
   "cell_type": "code",
   "execution_count": 223,
   "metadata": {},
   "outputs": [],
   "source": [
    "import pandas as pd\n",
    "import numpy as np\n",
    "import numpy.linalg as la\n",
    "import matplotlib.pyplot as plt\n",
    "from collections import OrderedDict"
   ]
  },
  {
   "cell_type": "code",
   "execution_count": 4,
   "metadata": {},
   "outputs": [],
   "source": [
    "pid = ['a', 'c', 'a', 'b', 'c', 'a', 'c', 'c', 'a', 'a', 'b', 'b']\n",
    "visit = [1, 1, 2, 1, 2, 3, 3, 4, 4, 5, 2, 3]\n",
    "n = len(pid)\n",
    "\n",
    "readings = pd.DataFrame(OrderedDict(pid=pid, visit=visit, sbp=np.random.normal(120, 25, n)))\n",
    "readings['dbp'] = readings.sbp - np.random.normal(40, 10, n)"
   ]
  },
  {
   "cell_type": "code",
   "execution_count": 5,
   "metadata": {},
   "outputs": [],
   "source": [
    "readings[['sbp', 'dbp']] = readings[['sbp', 'dbp']].astype('int')"
   ]
  },
  {
   "cell_type": "code",
   "execution_count": 6,
   "metadata": {},
   "outputs": [],
   "source": [
    "patients = pd.DataFrame(OrderedDict(pid=['a', 'b', 'c', 'd'], ages=[23,34,45,56]))"
   ]
  },
  {
   "cell_type": "code",
   "execution_count": 7,
   "metadata": {},
   "outputs": [
    {
     "data": {
      "text/plain": [
       "'Connected: @tables.db'"
      ]
     },
     "execution_count": 7,
     "metadata": {},
     "output_type": "execute_result"
    }
   ],
   "source": [
    "%sql sqlite:///tables.db"
   ]
  },
  {
   "cell_type": "code",
   "execution_count": 8,
   "metadata": {},
   "outputs": [
    {
     "name": "stdout",
     "output_type": "stream",
     "text": [
      " * sqlite:///tables.db\n",
      "Done.\n",
      " * sqlite:///tables.db\n"
     ]
    },
    {
     "data": {
      "text/plain": [
       "'Persisted patients'"
      ]
     },
     "execution_count": 8,
     "metadata": {},
     "output_type": "execute_result"
    }
   ],
   "source": [
    "%sql drop table patients\n",
    "%sql persist patients"
   ]
  },
  {
   "cell_type": "code",
   "execution_count": 9,
   "metadata": {},
   "outputs": [
    {
     "name": "stdout",
     "output_type": "stream",
     "text": [
      " * sqlite:///tables.db\n",
      "Done.\n",
      " * sqlite:///tables.db\n"
     ]
    },
    {
     "data": {
      "text/plain": [
       "'Persisted readings'"
      ]
     },
     "execution_count": 9,
     "metadata": {},
     "output_type": "execute_result"
    }
   ],
   "source": [
    "%sql drop table readings\n",
    "%sql persist readings"
   ]
  },
  {
   "cell_type": "code",
   "execution_count": 10,
   "metadata": {},
   "outputs": [
    {
     "name": "stdout",
     "output_type": "stream",
     "text": [
      " * sqlite:///tables.db\n",
      "Done.\n"
     ]
    },
    {
     "data": {
      "text/html": [
       "<table>\n",
       "    <tr>\n",
       "        <th>index</th>\n",
       "        <th>ages</th>\n",
       "        <th>pid</th>\n",
       "    </tr>\n",
       "    <tr>\n",
       "        <td>0</td>\n",
       "        <td>23</td>\n",
       "        <td>a</td>\n",
       "    </tr>\n",
       "    <tr>\n",
       "        <td>1</td>\n",
       "        <td>34</td>\n",
       "        <td>b</td>\n",
       "    </tr>\n",
       "    <tr>\n",
       "        <td>2</td>\n",
       "        <td>45</td>\n",
       "        <td>c</td>\n",
       "    </tr>\n",
       "    <tr>\n",
       "        <td>3</td>\n",
       "        <td>56</td>\n",
       "        <td>d</td>\n",
       "    </tr>\n",
       "</table>"
      ],
      "text/plain": [
       "[(0, 23, 'a'), (1, 34, 'b'), (2, 45, 'c'), (3, 56, 'd')]"
      ]
     },
     "execution_count": 10,
     "metadata": {},
     "output_type": "execute_result"
    }
   ],
   "source": [
    "%%sql\n",
    "\n",
    "select * from patients"
   ]
  },
  {
   "cell_type": "code",
   "execution_count": 11,
   "metadata": {},
   "outputs": [
    {
     "name": "stdout",
     "output_type": "stream",
     "text": [
      " * sqlite:///tables.db\n",
      "Done.\n"
     ]
    },
    {
     "data": {
      "text/html": [
       "<table>\n",
       "    <tr>\n",
       "        <th>index</th>\n",
       "        <th>sbp</th>\n",
       "        <th>visit</th>\n",
       "        <th>pid</th>\n",
       "        <th>dbp</th>\n",
       "    </tr>\n",
       "    <tr>\n",
       "        <td>0</td>\n",
       "        <td>133</td>\n",
       "        <td>1</td>\n",
       "        <td>a</td>\n",
       "        <td>85</td>\n",
       "    </tr>\n",
       "    <tr>\n",
       "        <td>1</td>\n",
       "        <td>122</td>\n",
       "        <td>1</td>\n",
       "        <td>c</td>\n",
       "        <td>90</td>\n",
       "    </tr>\n",
       "    <tr>\n",
       "        <td>2</td>\n",
       "        <td>144</td>\n",
       "        <td>2</td>\n",
       "        <td>a</td>\n",
       "        <td>117</td>\n",
       "    </tr>\n",
       "    <tr>\n",
       "        <td>3</td>\n",
       "        <td>104</td>\n",
       "        <td>1</td>\n",
       "        <td>b</td>\n",
       "        <td>50</td>\n",
       "    </tr>\n",
       "    <tr>\n",
       "        <td>4</td>\n",
       "        <td>119</td>\n",
       "        <td>2</td>\n",
       "        <td>c</td>\n",
       "        <td>66</td>\n",
       "    </tr>\n",
       "    <tr>\n",
       "        <td>5</td>\n",
       "        <td>135</td>\n",
       "        <td>3</td>\n",
       "        <td>a</td>\n",
       "        <td>92</td>\n",
       "    </tr>\n",
       "    <tr>\n",
       "        <td>6</td>\n",
       "        <td>114</td>\n",
       "        <td>3</td>\n",
       "        <td>c</td>\n",
       "        <td>88</td>\n",
       "    </tr>\n",
       "    <tr>\n",
       "        <td>7</td>\n",
       "        <td>128</td>\n",
       "        <td>4</td>\n",
       "        <td>c</td>\n",
       "        <td>108</td>\n",
       "    </tr>\n",
       "    <tr>\n",
       "        <td>8</td>\n",
       "        <td>149</td>\n",
       "        <td>4</td>\n",
       "        <td>a</td>\n",
       "        <td>103</td>\n",
       "    </tr>\n",
       "    <tr>\n",
       "        <td>9</td>\n",
       "        <td>142</td>\n",
       "        <td>5</td>\n",
       "        <td>a</td>\n",
       "        <td>107</td>\n",
       "    </tr>\n",
       "    <tr>\n",
       "        <td>10</td>\n",
       "        <td>124</td>\n",
       "        <td>2</td>\n",
       "        <td>b</td>\n",
       "        <td>80</td>\n",
       "    </tr>\n",
       "    <tr>\n",
       "        <td>11</td>\n",
       "        <td>114</td>\n",
       "        <td>3</td>\n",
       "        <td>b</td>\n",
       "        <td>83</td>\n",
       "    </tr>\n",
       "</table>"
      ],
      "text/plain": [
       "[(0, 133, 1, 'a', 85),\n",
       " (1, 122, 1, 'c', 90),\n",
       " (2, 144, 2, 'a', 117),\n",
       " (3, 104, 1, 'b', 50),\n",
       " (4, 119, 2, 'c', 66),\n",
       " (5, 135, 3, 'a', 92),\n",
       " (6, 114, 3, 'c', 88),\n",
       " (7, 128, 4, 'c', 108),\n",
       " (8, 149, 4, 'a', 103),\n",
       " (9, 142, 5, 'a', 107),\n",
       " (10, 124, 2, 'b', 80),\n",
       " (11, 114, 3, 'b', 83)]"
      ]
     },
     "execution_count": 11,
     "metadata": {},
     "output_type": "execute_result"
    }
   ],
   "source": [
    "%%sql \n",
    "\n",
    "select * from readings"
   ]
  },
  {
   "cell_type": "markdown",
   "metadata": {},
   "source": [
    "**1**. (20 points)\n",
    "\n",
    "- Write an SQL statement to merge the patient and pressure tables using an inner join\n",
    "- Write an SQL statement to find the average systolic (sbp) and diastolic (dbp) blood pressure for each patient, sorted in ascending order of sbp. The function to calculate averages in SQL is AVG.\n",
    "- (optional - ungraded) Write an SQL statement to find the running average of systolic blood pressure for each patient across successive visits. Show the following columns pid, visit, sbp and running average of sbp. (NOTE: This will no work unless you have the version 3.2.5 or higher of SQLite3 or swithc to a database like PostgreSQL - in particular, it will not work on Docker. Just write the SQL even if it does not execute.)"
   ]
  },
  {
   "cell_type": "code",
   "execution_count": null,
   "metadata": {},
   "outputs": [],
   "source": [
    "\n",
    "\n",
    "\n"
   ]
  },
  {
   "cell_type": "markdown",
   "metadata": {},
   "source": [
    "**2**. (30 points)\n",
    "\n",
    "- Use a raw count bag of words model for unigrams and bigrams to generate feature vectors for these two documents. For simplicity, you may tokenize by removing punctuation, splitting by white space to find words, and converting all words to lowercase. \n",
    "- Implement a function to calculate cosine *similarity* between two vectors without using any trigonometric functions, built-in distance functions or linear algebra modules. Find the cosine similarity between the two documents. Recall that the cosine similarity is the dot product of two unit vectors.\n",
    "\n",
    "Only use the Python standard library and `numpy` to do this exercise."
   ]
  },
  {
   "cell_type": "code",
   "execution_count": 49,
   "metadata": {},
   "outputs": [],
   "source": [
    "doc1 = \"\"\"As I was going by Charing Cross,\n",
    "I saw a black man upon a black horse;\n",
    "They told me it was King Charles the First-\n",
    "Oh dear, my heart was ready to burst!\"\"\"\n",
    "\n",
    "doc2 = \"\"\"As I was going to St. Ives,\n",
    "I met a man with seven wives,\n",
    "Each wife had seven sacks,\n",
    "Each sack had seven cats,\n",
    "Each cat had seven kits:\n",
    "Kits, cats, sacks, and wives,\n",
    "How many were there going to St. Ives\"\"\""
   ]
  },
  {
   "cell_type": "code",
   "execution_count": 142,
   "metadata": {},
   "outputs": [],
   "source": [
    "import string\n",
    "import numpy as np\n",
    "from collections import Counter"
   ]
  },
  {
   "cell_type": "code",
   "execution_count": 219,
   "metadata": {},
   "outputs": [],
   "source": [
    "def combine_counts(counter1, counter2):\n",
    "    \"\"\"\"\"\"\n",
    "    items = list(counter1.keys()) + list(counter2.keys())\n",
    "    items = set(items)\n",
    "    \n",
    "    x1  = [counter1.get(item, 0) for item in items]\n",
    "    x2  = [counter2.get(item, 0) for item in items]\n",
    "    arr = np.c_[x1, x2]\n",
    "    return arr\n",
    "\n",
    "def similar_cos(x, y):\n",
    "    \"\"\"\"\"\"\n",
    "    return np.dot(x, y) / la.norm(x) / la.norm(y)"
   ]
  },
  {
   "cell_type": "code",
   "execution_count": 220,
   "metadata": {},
   "outputs": [],
   "source": [
    "transtab = str.maketrans(string.punctuation, \" \" * len(string.punctuation))\n",
    "\n",
    "words1 = doc1.lower().replace(\"-\", \"\").translate(transtab).split()\n",
    "words2 = doc2.lower().replace(\"-\", \"\").translate(transtab).split()\n",
    "\n",
    "doc1_terms = words1 + list(zip(words1[:-1], words1[1:]))\n",
    "doc2_terms = words2 + list(zip(words2[:-1], words2[1:]))\n",
    "doc_terms_cnt = combine_counts(Counter(doc1_terms), Counter(doc2_terms))\n",
    "\n",
    "#doc1_unigram = words1\n",
    "#doc2_unigram = words2\n",
    "#doc1_bigram  = zip(words1[:-1], words1[1:])\n",
    "#doc2_bigram  = zip(words2[:-1], words2[1:])\n",
    "\n",
    "#doc_cnt_unigram = combine_counts(Counter(doc1_unigram), Counter(doc2_unigram))\n",
    "#doc_cnt_bigram  = combine_counts(Counter(doc1_bigram),  Counter(doc2_bigram))"
   ]
  },
  {
   "cell_type": "code",
   "execution_count": 221,
   "metadata": {},
   "outputs": [
    {
     "name": "stdout",
     "output_type": "stream",
     "text": [
      "0.1730209434769125\n"
     ]
    }
   ],
   "source": [
    "tmp = doc_terms_cnt\n",
    "print(similar_cos(tmp[:,0], tmp[:,1]))"
   ]
  },
  {
   "cell_type": "markdown",
   "metadata": {},
   "source": [
    "-----"
   ]
  },
  {
   "cell_type": "markdown",
   "metadata": {},
   "source": [
    "**3**. (30 points)\n",
    "\n",
    "- Fit polynomials of order 2, 3 and 4 to the data set `x` and `y` by solving the normal equations $(X^TX) \\hat{\\beta} = X^Ty$. \n",
    "- Plot the fit against the data for each model.\n",
    "- Calculate the sum of squares error for each model using leave one out cross-validation.\n",
    "\n",
    "You may use `numpy.linalg` for this."
   ]
  },
  {
   "cell_type": "code",
   "execution_count": 3,
   "metadata": {},
   "outputs": [],
   "source": [
    "x = np.array([4.17022005e+00, 7.20324493e+00, 1.14374817e-03, 3.02332573e+00,\n",
    "       1.46755891e+00, 9.23385948e-01, 1.86260211e+00, 3.45560727e+00,\n",
    "       3.96767474e+00, 5.38816734e+00])\n",
    "y = np.array([29.05627699, 22.38450486,  3.33047527, 23.84338844, 16.98396787,\n",
    "        9.32107716, 17.8343173 , 25.23079674, 28.068074  , 26.74943485])"
   ]
  },
  {
   "cell_type": "markdown",
   "metadata": {},
   "source": [
    "# Q3.1 \n",
    "**Fit polynomials of order 2, 3 and 4 to the data set `x` and `y` by solving the normal equations $(X^TX) \\hat{\\beta} = X^Ty$.**"
   ]
  },
  {
   "cell_type": "code",
   "execution_count": 47,
   "metadata": {},
   "outputs": [
    {
     "name": "stdout",
     "output_type": "stream",
     "text": [
      "[11.59087062]\n",
      "11.590870624214729\n"
     ]
    },
    {
     "name": "stderr",
     "output_type": "stream",
     "text": [
      "/opt/conda/lib/python3.5/site-packages/ipykernel_launcher.py:3: FutureWarning: `rcond` parameter will change to the default of machine precision times ``max(M, N)`` where M and N are the input matrix dimensions.\n",
      "To use the future default and silence this warning we advise to pass `rcond=None`, to keep using the old, explicitly pass `rcond=-1`.\n",
      "  This is separate from the ipykernel package so we can avoid doing imports until\n"
     ]
    }
   ],
   "source": [
    "A = np.array(list(x**i for i in range(3))).T\n",
    "Y = y.reshape(-1, 1)\n",
    "b, res, r, s = la.lstsq(A, y)\n",
    "print(res)\n",
    "\n",
    "beta = b.reshape(-1, 1)\n",
    "tmp = np.square(Y - A @ beta).sum()\n",
    "print(tmp)"
   ]
  },
  {
   "cell_type": "code",
   "execution_count": 54,
   "metadata": {},
   "outputs": [
    {
     "name": "stdout",
     "output_type": "stream",
     "text": [
      "Degree: 2 | RSS: [11.59087062]\n",
      "Degree: 3 | RSS: [11.31971583]\n",
      "Degree: 4 | RSS: [9.67112761]\n"
     ]
    },
    {
     "name": "stderr",
     "output_type": "stream",
     "text": [
      "/opt/conda/lib/python3.5/site-packages/ipykernel_launcher.py:5: FutureWarning: `rcond` parameter will change to the default of machine precision times ``max(M, N)`` where M and N are the input matrix dimensions.\n",
      "To use the future default and silence this warning we advise to pass `rcond=None`, to keep using the old, explicitly pass `rcond=-1`.\n",
      "  \"\"\"\n"
     ]
    }
   ],
   "source": [
    "Y = y.reshape(-1, 1)\n",
    "\n",
    "for deg in (2, 3, 4):\n",
    "    A = np.array(list(x**i for i in range(deg + 1))).T   \n",
    "    b, res, r, s = la.lstsq(A, y)\n",
    "    print(\"Degree:\", deg, \"|\", \"RSS:\", res)"
   ]
  },
  {
   "cell_type": "markdown",
   "metadata": {},
   "source": [
    "# Q3.2\n",
    "**Plot the fit against the data for each model.**"
   ]
  },
  {
   "cell_type": "markdown",
   "metadata": {},
   "source": [
    "Note that I add degree = 1 just to make sure the results are reasonable (since the results of degree 2 and 3 are similar to each other)"
   ]
  },
  {
   "cell_type": "code",
   "execution_count": 240,
   "metadata": {},
   "outputs": [
    {
     "name": "stderr",
     "output_type": "stream",
     "text": [
      "/opt/conda/lib/python3.5/site-packages/ipykernel_launcher.py:7: FutureWarning: `rcond` parameter will change to the default of machine precision times ``max(M, N)`` where M and N are the input matrix dimensions.\n",
      "To use the future default and silence this warning we advise to pass `rcond=None`, to keep using the old, explicitly pass `rcond=-1`.\n",
      "  import sys\n"
     ]
    },
    {
     "data": {
      "image/png": "[encoded data removed]",
      "text/plain": [
       "<Figure size 864x216 with 4 Axes>"
      ]
     },
     "metadata": {},
     "output_type": "display_data"
    }
   ],
   "source": [
    "fig, axes = plt.subplots(1, 4, figsize = (12, 3))\n",
    "degs = (1, 2, 3, 4)\n",
    "\n",
    "for idx in range(len(degs)):\n",
    "    deg = degs[idx]\n",
    "    A   = get_model_matrix(x, deg)\n",
    "    b, res, r, s = la.lstsq(A, y)\n",
    "    \n",
    "    xs   = np.linspace(0, 8, 20)\n",
    "    A    = get_model_matrix(xs, deg)\n",
    "    yhat = A.dot(b)\n",
    "    \n",
    "    ax = axes[idx]\n",
    "    ax.scatter(x, y)\n",
    "    ax.scatter(xs, yhat)\n",
    "    ax.set_title(\"Degree: \" + str(deg))"
   ]
  },
  {
   "cell_type": "markdown",
   "metadata": {},
   "source": [
    "# Q3.3\n",
    "**Calculate the sum of squares error for each model using leave one out cross-validation.**"
   ]
  },
  {
   "cell_type": "markdown",
   "metadata": {},
   "source": [
    "Helper function"
   ]
  },
  {
   "cell_type": "code",
   "execution_count": 211,
   "metadata": {},
   "outputs": [],
   "source": [
    "get_model_matrix = lambda x, deg: np.array(list(x**i for i in range(deg + 1))).T\n",
    "leave_one_out    = lambda x, idx: np.concatenate([x[:idx], x[idx+1:]])"
   ]
  },
  {
   "cell_type": "code",
   "execution_count": 241,
   "metadata": {},
   "outputs": [],
   "source": [
    "def loocv(deg, x, y):\n",
    "    \"\"\"Perform Leave one out cross-validation\"\"\"\n",
    "    ### initialization\n",
    "    nrow = y.shape[0]\n",
    "    y = y.reshape(-1, 1)\n",
    "    A = get_model_matrix(x, deg)\n",
    "    \n",
    "    ### leave one out\n",
    "    loss = np.empty(nrow)\n",
    "    for idx in range(nrow):\n",
    "        A_oneout = leave_one_out(A, idx)\n",
    "        y_oneout = leave_one_out(y, idx)\n",
    "        b, res, s, r = la.lstsq(A_oneout, y_oneout)\n",
    "        loss[idx] = res\n",
    "        \n",
    "    return np.square(loss).mean()"
   ]
  },
  {
   "cell_type": "code",
   "execution_count": 218,
   "metadata": {},
   "outputs": [
    {
     "name": "stdout",
     "output_type": "stream",
     "text": [
      "Degree: 2 | LOOCV: 102.78249022930947\n",
      "Degree: 3 | LOOCV: 88.32772465682118\n",
      "Degree: 4 | LOOCV: 64.79112655459535\n"
     ]
    },
    {
     "name": "stderr",
     "output_type": "stream",
     "text": [
      "/opt/conda/lib/python3.5/site-packages/ipykernel_launcher.py:13: FutureWarning: `rcond` parameter will change to the default of machine precision times ``max(M, N)`` where M and N are the input matrix dimensions.\n",
      "To use the future default and silence this warning we advise to pass `rcond=None`, to keep using the old, explicitly pass `rcond=-1`.\n",
      "  del sys.path[0]\n"
     ]
    }
   ],
   "source": [
    "for deg in (2, 3, 4):\n",
    "    print(\"Degree:\", deg, \"|\", \"LOOCV:\", loocv(deg, x, y))"
   ]
  },
  {
   "cell_type": "markdown",
   "metadata": {},
   "source": [
    "**4** (20 points)\n",
    "\n",
    "- Write a gradient descent algorithm to fit a cubic polynomial to the data from question 5. Use a learning rate of 1e-5 and 1 million iterations, and start with a $\\beta_0 = (1,10,1,1)$\n",
    "- Use a JIT decorator to create a compiled version and report the fold-change improvement in run time. Use the timeit.timeit function with argument `number=1`, and use a lambda function to pass in a function that takes 0 arguments.\n",
    "- Plot the fitted curve"
   ]
  },
  {
   "cell_type": "code",
   "execution_count": 97,
   "metadata": {},
   "outputs": [],
   "source": [
    "x = np.array([4.17022005e+00, 7.20324493e+00, 1.14374817e-03, 3.02332573e+00,\n",
    "       1.46755891e+00, 9.23385948e-01, 1.86260211e+00, 3.45560727e+00,\n",
    "       3.96767474e+00, 5.38816734e+00])\n",
    "y = np.array([29.05627699, 22.38450486,  3.33047527, 23.84338844, 16.98396787,\n",
    "        9.32107716, 17.8343173 , 25.23079674, 28.068074  , 26.74943485])"
   ]
  },
  {
   "cell_type": "code",
   "execution_count": 51,
   "metadata": {},
   "outputs": [],
   "source": [
    "def f(x, deg = 3):\n",
    "    return np.sum([x**deg for deg in range(deg + 1)])"
   ]
  },
  {
   "cell_type": "code",
   "execution_count": 115,
   "metadata": {},
   "outputs": [],
   "source": [
    "def gd_rss(b, x, y, deg = 3):\n",
    "    b = b.reshape(-1, 1)\n",
    "    y = y.reshape(-1, 1)\n",
    "    A = np.array([x**i for i in range(deg + 1)]).T\n",
    "    \n",
    "    #yhat = A @ b\n",
    "    #rss  = -(y - yhat) * A\n",
    "    #grad  = rss.sum(axis = 0).reshape(-1, 1)\n",
    "    \n",
    "    grad = A.T @ A @ b - A.T @ y\n",
    "    return grad"
   ]
  },
  {
   "cell_type": "code",
   "execution_count": 116,
   "metadata": {},
   "outputs": [
    {
     "name": "stdout",
     "output_type": "stream",
     "text": [
      "[[1.00000000e+00 4.17022005e+00 1.73907353e+01 7.25231929e+01]\n",
      " [1.00000000e+00 7.20324493e+00 5.18867375e+01 3.73752879e+02]\n",
      " [1.00000000e+00 1.14374817e-03 1.30815988e-06 1.49620546e-09]\n",
      " [1.00000000e+00 3.02332573e+00 9.14049847e+00 2.76347042e+01]\n",
      " [1.00000000e+00 1.46755891e+00 2.15372915e+00 3.16072441e+00]\n",
      " [1.00000000e+00 9.23385948e-01 8.52641609e-01 7.87317280e-01]\n",
      " [1.00000000e+00 1.86260211e+00 3.46928662e+00 6.46190058e+00]\n",
      " [1.00000000e+00 3.45560727e+00 1.19412216e+01 4.12641722e+01]\n",
      " [1.00000000e+00 3.96767474e+00 1.57424428e+01 6.24608928e+01]\n",
      " [1.00000000e+00 5.38816734e+00 2.90323473e+01 1.56431145e+02]]\n",
      "[ 2.75572438  9.92576392 -0.86830902 -0.01892285]\n"
     ]
    },
    {
     "name": "stderr",
     "output_type": "stream",
     "text": [
      "/opt/conda/lib/python3.5/site-packages/ipykernel_launcher.py:3: FutureWarning: `rcond` parameter will change to the default of machine precision times ``max(M, N)`` where M and N are the input matrix dimensions.\n",
      "To use the future default and silence this warning we advise to pass `rcond=None`, to keep using the old, explicitly pass `rcond=-1`.\n",
      "  This is separate from the ipykernel package so we can avoid doing imports until\n"
     ]
    }
   ],
   "source": [
    "A = np.array([x**i for i in range(3 + 1)]).T\n",
    "print(A)\n",
    "b, res, r, s = la.lstsq(A, y)\n",
    "print(b)"
   ]
  },
  {
   "cell_type": "code",
   "execution_count": 118,
   "metadata": {},
   "outputs": [
    {
     "name": "stdout",
     "output_type": "stream",
     "text": [
      "[[ 2.75202065]\n",
      " [ 9.930932  ]\n",
      " [-0.86991684]\n",
      " [-0.01878794]]\n"
     ]
    }
   ],
   "source": [
    "b = np.array([1, 10, 1, 1]).reshape(-1, 1)\n",
    "#b = np.array([1, 1]).reshape(-1, 1)\n",
    "rate = 1e-5\n",
    "num_iter  = 10**6\n",
    "\n",
    "for _ in range(num_iter):\n",
    "    b = b - rate * gd_rss(b, x, y)\n",
    "\n",
    "print(b)"
   ]
  },
  {
   "cell_type": "code",
   "execution_count": null,
   "metadata": {},
   "outputs": [],
   "source": []
  },
  {
   "cell_type": "code",
   "execution_count": null,
   "metadata": {},
   "outputs": [],
   "source": []
  },
  {
   "cell_type": "code",
   "execution_count": null,
   "metadata": {},
   "outputs": [],
   "source": [
    "\n",
    "\n"
   ]
  }
 ],
 "metadata": {
  "kernelspec": {
   "display_name": "Python 3",
   "language": "python",
   "name": "python3"
  },
  "language_info": {
   "codemirror_mode": {
    "name": "ipython",
    "version": 3
   },
   "file_extension": ".py",
   "mimetype": "text/x-python",
   "name": "python",
   "nbconvert_exporter": "python",
   "pygments_lexer": "ipython3",
   "version": "3.5.4"
  }
 },
 "nbformat": 4,
 "nbformat_minor": 2
}
